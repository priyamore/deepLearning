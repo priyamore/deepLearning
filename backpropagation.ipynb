{
  "cells": [
    {
      "cell_type": "markdown",
      "metadata": {
        "id": "cDDdu3vDUlY7"
      },
      "source": [
        "# **Backpropagation from Scratch**"
      ]
    },
    {
      "cell_type": "code",
      "execution_count": 283,
      "metadata": {
        "id": "4e6ox9F1VE68"
      },
      "outputs": [],
      "source": [
        "import math\n",
        "import random\n",
        "import numpy as np\n",
        "import matplotlib.pyplot as plt\n",
        "%matplotlib inline"
      ]
    },
    {
      "cell_type": "code",
      "execution_count": 248,
      "metadata": {},
      "outputs": [],
      "source": [
        "from graphviz import Digraph\n",
        "# https://stackoverflow.com/questions/46182603/graphviz-not-running-in-jupyter-notebook-python-3-6"
      ]
    },
    {
      "cell_type": "markdown",
      "metadata": {
        "id": "U80CuZHWarjz"
      },
      "source": [
        "## Derivation is at the heart of backpropagation\n",
        "Derivation helps us undrstand how a function behaves if the input is modified.Given a function f(x), how does the function behave if input x is modified with h i.e x+h.\n",
        "\n",
        "In case of backpropagation, the inputs are weights and biases. We want to understand what happens if small changes(h) are made to x(weights and biases)"
      ]
    },
    {
      "cell_type": "markdown",
      "metadata": {
        "id": "vo3WSC1Oh9Ee"
      },
      "source": [
        "### Now lets take a simple equation f(x) to understand how the function behaviour changes upon increasing it with a small value"
      ]
    },
    {
      "cell_type": "code",
      "execution_count": 252,
      "metadata": {
        "id": "e-h9SssAZFkx"
      },
      "outputs": [],
      "source": [
        "def f(x):\n",
        "  # return 3*x**2 - 4*x + 5\n",
        "  return 4*x**2 - 5*x + 6"
      ]
    },
    {
      "cell_type": "code",
      "execution_count": 135,
      "metadata": {
        "colab": {
          "base_uri": "https://localhost:8080/"
        },
        "id": "VBpDawwghdvb",
        "outputId": "47a35827-850a-4b49-e3d2-a9494a732c6b"
      },
      "outputs": [
        {
          "data": {
            "text/plain": [
              "27.0"
            ]
          },
          "execution_count": 135,
          "metadata": {},
          "output_type": "execute_result"
        }
      ],
      "source": [
        "f(3.0)"
      ]
    },
    {
      "cell_type": "code",
      "execution_count": 136,
      "metadata": {
        "colab": {
          "base_uri": "https://localhost:8080/"
        },
        "id": "xSmCyC1TiP6p",
        "outputId": "986beb23-cdf6-47a5-d01d-71351c7fc78f"
      },
      "outputs": [
        {
          "data": {
            "text/plain": [
              "array([131. , 109.5,  90. ,  72.5,  57. ,  43.5,  32. ,  22.5,  15. ,\n",
              "         9.5,   6. ,   4.5,   5. ,   7.5,  12. ,  18.5,  27. ,  37.5,\n",
              "        50. ,  64.5])"
            ]
          },
          "execution_count": 136,
          "metadata": {},
          "output_type": "execute_result"
        }
      ],
      "source": [
        "xs = np.arange(-5, 5, 0.5)\n",
        "ys = f(xs)\n",
        "ys"
      ]
    },
    {
      "cell_type": "code",
      "execution_count": 137,
      "metadata": {
        "colab": {
          "base_uri": "https://localhost:8080/",
          "height": 445
        },
        "id": "q-4wUUsSlUH5",
        "outputId": "9fb2167a-e7a0-47a0-9b4f-93ed4078ca74"
      },
      "outputs": [
        {
          "data": {
            "text/plain": [
              "[<matplotlib.lines.Line2D at 0x1181ddee0>]"
            ]
          },
          "execution_count": 137,
          "metadata": {},
          "output_type": "execute_result"
        },
        {
          "data": {
            "image/png": "[encoded data removed]",
            "text/plain": [
              "<Figure size 640x480 with 1 Axes>"
            ]
          },
          "metadata": {},
          "output_type": "display_data"
        }
      ],
      "source": [
        "plt.plot(xs, ys)"
      ]
    },
    {
      "cell_type": "code",
      "execution_count": 138,
      "metadata": {
        "colab": {
          "base_uri": "https://localhost:8080/"
        },
        "id": "HMffO6UTnQMK",
        "outputId": "1808127c-a3f9-4bf3-efa1-f3014a20e7ed"
      },
      "outputs": [
        {
          "data": {
            "text/plain": [
              "27.000190000399996"
            ]
          },
          "execution_count": 138,
          "metadata": {},
          "output_type": "execute_result"
        }
      ],
      "source": [
        "x = 3.0\n",
        "\n",
        "# to get a more accurate slope, coverge h towards 0\n",
        "h = 0.00001\n",
        "f(x+h)"
      ]
    },
    {
      "cell_type": "markdown",
      "metadata": {
        "id": "iDW5v-r4nmM0"
      },
      "source": [
        "Now lets get the slope(f(x+h)-f(x))/h"
      ]
    },
    {
      "cell_type": "code",
      "execution_count": 139,
      "metadata": {
        "colab": {
          "base_uri": "https://localhost:8080/"
        },
        "id": "iPQ1pUgHnfR5",
        "outputId": "781faf1e-4ed5-45dc-a9b7-9907d697054e"
      },
      "outputs": [
        {
          "data": {
            "text/plain": [
              "19.000039999639284"
            ]
          },
          "execution_count": 139,
          "metadata": {},
          "output_type": "execute_result"
        }
      ],
      "source": [
        "(f(x+h)-f(x))/h"
      ]
    },
    {
      "cell_type": "markdown",
      "metadata": {
        "id": "vU800rJ4o1L3"
      },
      "source": [
        "### one more example, a bit more complex"
      ]
    },
    {
      "cell_type": "code",
      "execution_count": 140,
      "metadata": {
        "colab": {
          "base_uri": "https://localhost:8080/"
        },
        "id": "RrvY6pG6oM4c",
        "outputId": "4d51a2ba-8bcf-4f23-e377-fbdea788bba7"
      },
      "outputs": [
        {
          "name": "stdout",
          "output_type": "stream",
          "text": [
            "4.0\n"
          ]
        }
      ],
      "source": [
        "a = 2.0\n",
        "b = -3.0\n",
        "c = 10.0\n",
        "\n",
        "# equation\n",
        "d = a*b + c\n",
        "\n",
        "print(d)"
      ]
    },
    {
      "cell_type": "code",
      "execution_count": 141,
      "metadata": {
        "colab": {
          "base_uri": "https://localhost:8080/"
        },
        "id": "lXlBaq6Up2wa",
        "outputId": "75e33c72-a30f-4b37-e233-74c248da197f"
      },
      "outputs": [
        {
          "name": "stdout",
          "output_type": "stream",
          "text": [
            "slope when a is increased:  -3.000000000064062\n",
            "slope when b is increased:  2.0000000000131024\n",
            "slope when c is increased:  0.9999999999621422\n"
          ]
        }
      ],
      "source": [
        "# observe the values when a is increased\n",
        "\n",
        "def f1(a, b, c):\n",
        "  return a*b + c\n",
        "\n",
        "h = 0.00001\n",
        "\n",
        "a = 2.0\n",
        "b = -3.0\n",
        "c = 10.0\n",
        "\n",
        "d1 = f1(a, b, c)\n",
        "d2 = f1(a+h, b, c)\n",
        "\n",
        "# slope when a is increased by h\n",
        "print(\"slope when a is increased: \",(d2-d1)/h)\n",
        "\n",
        "d2 = f1(a, b+h, c)\n",
        "# slope when b is increased by h\n",
        "print(\"slope when b is increased: \",(d2-d1)/h)\n",
        "\n",
        "d2 = f1(a, b, c+h)\n",
        "# slope when c is increased by h\n",
        "print(\"slope when c is increased: \",(d2-d1)/h)"
      ]
    },
    {
      "cell_type": "markdown",
      "metadata": {
        "id": "tKla2s0GtJUO"
      },
      "source": [
        "### Neural Networks have massive expressions so lets start with creating a data structure to maintain these expressions"
      ]
    },
    {
      "cell_type": "code",
      "execution_count": 279,
      "metadata": {
        "id": "v2RnlHddrAal"
      },
      "outputs": [],
      "source": [
        "class Operand:\n",
        "    def __init__(self, value, _children = (), _operation='', _label = ''):\n",
        "        self.value = value\n",
        "        self.gradient = 0.0\n",
        "        self._backward = lambda: None\n",
        "        self._prev_ops = set(_children)\n",
        "        self._operation = _operation\n",
        "        self._label = _label\n",
        "    \n",
        "    def __repr__(self):\n",
        "        return f\"Variable(value={self.value})\"\n",
        "\n",
        "    # adding two operands\n",
        "    def __add__(self, other):\n",
        "        other = other if isinstance(other, Operand) else Operand(other)\n",
        "        addition = Operand(self.value + other.value, (self, other), '+')\n",
        "\n",
        "        def _backward():\n",
        "            self.gradient += 1.0 * addition.gradient\n",
        "            other.gradient += 1.0 * addition.gradient\n",
        "\n",
        "        addition._backward = _backward\n",
        "        return addition\n",
        "\n",
        "    def __neg__(self):\n",
        "        return -1 * self\n",
        "\n",
        "    # subtracting two operands\n",
        "    def __sub__(self, other):\n",
        "        return self + (-other)\n",
        "        \n",
        "    # multiplying two operands\n",
        "    def __mul__(self, other):\n",
        "        other = other if isinstance(other, Operand) else Operand(other)\n",
        "        product = Operand(self.value * other.value, (self, other), '*')\n",
        "        def _backward():\n",
        "            self.gradient += other.value * product.gradient\n",
        "            other.gradient += self.value * product.gradient\n",
        "        \n",
        "        product._backward = _backward\n",
        "        return product\n",
        "\n",
        "    def __rmul__(self, other):\n",
        "        return self * other\n",
        "\n",
        "    # dividing two operands\n",
        "    def __truediv__(self, other):\n",
        "        # a * b = a * (b ** -1)\n",
        "        return self * other**-1\n",
        "\n",
        "    def __pow__(self, other):\n",
        "        pow_y = Operand(self.value**other, (self, ), f'**{other}')\n",
        "\n",
        "        def _backward():\n",
        "            self.gradient += (other * self.value ** (other - 1)) * pow_y.gradient\n",
        "\n",
        "        pow_y._backward = _backward\n",
        "        return pow_y\n",
        "\n",
        "    def exp(self):\n",
        "        x = self.value\n",
        "        exp_y = Operand(math.exp(x), (self,), 'exp')\n",
        "\n",
        "        def _backward():\n",
        "            #TODO: shouldnt it be +=??\n",
        "            # derivative of e**x is e**x\n",
        "            self.gradient += exp_y.value * exp_y.gradient\n",
        "        \n",
        "        exp_y._backward = _backward\n",
        "        return exp_y\n",
        "\n",
        "    def tanh(self):\n",
        "        x = self.value\n",
        "        tanh_x = (math.exp(2*x) - 1)/(math.exp(2*x) + 1)\n",
        "        y = Operand(tanh_x, (self, ),'tanh')\n",
        "\n",
        "        def _backward():\n",
        "            self.gradient += (1 - tanh_x**2) *  y.gradient\n",
        "\n",
        "        y._backward = _backward\n",
        "        return y\n",
        "\n",
        "    \n",
        "    def backward(self):\n",
        "        # backward pass for a node\n",
        "        topo_sort = []\n",
        "        visited = set()\n",
        "        def build(node):\n",
        "            if node not in visited:\n",
        "                visited.add(node)\n",
        "                for child in node._prev_ops:\n",
        "                    build(child)\n",
        "\n",
        "                topo_sort.append(node)\n",
        "\n",
        "        build(self)\n",
        "\n",
        "        self.gradient = 1.0\n",
        "        for node in reversed(topo_sort):\n",
        "            node._backward()\n",
        "        \n"
      ]
    },
    {
      "cell_type": "code",
      "execution_count": 273,
      "metadata": {},
      "outputs": [
        {
          "data": {
            "text/plain": [
              "Variable(value=-2.0)"
            ]
          },
          "execution_count": 273,
          "metadata": {},
          "output_type": "execute_result"
        }
      ],
      "source": [
        "a = Operand(2.0)\n",
        "b = Operand(4.0)\n",
        "\n",
        "a - b"
      ]
    },
    {
      "cell_type": "code",
      "execution_count": 253,
      "metadata": {},
      "outputs": [
        {
          "data": {
            "text/plain": [
              "Variable(value=-4.0)"
            ]
          },
          "execution_count": 253,
          "metadata": {},
          "output_type": "execute_result"
        }
      ],
      "source": [
        "a = Operand(2.0, _label='a')\n",
        "b = Operand(-3.0, _label='b')\n",
        "c = Operand(8.0, _label='c')\n",
        "d = a*b\n",
        "d._label = 'd'\n",
        "e = d + c\n",
        "e._label='e'\n",
        "f = Operand(-2.0, _label='f')\n",
        "\n",
        "#Loss function\n",
        "L = e * f; L._label='L'\n",
        "L\n",
        "# e, e._prev_ops, e._operation"
      ]
    },
    {
      "cell_type": "code",
      "execution_count": 144,
      "metadata": {},
      "outputs": [],
      "source": [
        "def trace(root):\n",
        "    nodes = set()\n",
        "    edges = set()\n",
        "    def build_graph(node):\n",
        "        if node not in nodes:\n",
        "            nodes.add(node)\n",
        "            for child in node._prev_ops:\n",
        "                edges.add((child, node))\n",
        "                build_graph(child)\n",
        "    build_graph(root)\n",
        "    return nodes, edges\n",
        "\n",
        "def draw_dot(root):\n",
        "    dot = Digraph(format='svg', graph_attr={'rankdir': 'LR'})\n",
        "    nodes, edges = trace(root)\n",
        "    for node in nodes:\n",
        "        nid = str(id(node))\n",
        "        dot.node(name=nid, label = \"{%s | value %.4f | gradient %.4f}\" % ( node._label, node.value, node.gradient), shape='record')\n",
        "        if node._operation:\n",
        "            dot.node(name=nid + node._operation, label=node._operation)\n",
        "            dot.edge(nid + node._operation, nid)\n",
        "    \n",
        "    for e1, e2 in edges:\n",
        "        dot.edge(str(id(e1)), str(id(e2)) + e2._operation)\n",
        "    \n",
        "    return dot"
      ]
    },
    {
      "cell_type": "code",
      "execution_count": 145,
      "metadata": {},
      "outputs": [
        {
          "data": {
            "image/svg+xml": "<?xml version=\"1.0\" encoding=\"UTF-8\" standalone=\"no\"?>\n<!DOCTYPE svg PUBLIC \"-//W3C//DTD SVG 1.1//EN\"\n \"http://www.w3.org/Graphics/SVG/1.1/DTD/svg11.dtd\">\n<!-- Generated by graphviz version 2.50.0 (0)\n -->\n<!-- Pages: 1 -->\n<svg width=\"1254pt\" height=\"128pt\"\n viewBox=\"0.00 0.00 1254.00 128.00\" xmlns=\"http://www.w3.org/2000/svg\" xmlns:xlink=\"http://www.w3.org/1999/xlink\">\n<g id=\"graph0\" class=\"graph\" transform=\"scale(1 1) rotate(0) translate(4 124)\">\n<polygon fill=\"white\" stroke=\"transparent\" points=\"-4,4 -4,-124 1250,-124 1250,4 -4,4\"/>\n<!-- 4699977728 -->\n<g id=\"node1\" class=\"node\">\n<title>4699977728</title>\n<polygon fill=\"none\" stroke=\"black\" points=\"687.5,-27.5 687.5,-63.5 899.5,-63.5 899.5,-27.5 687.5,-27.5\"/>\n<text text-anchor=\"middle\" x=\"699\" y=\"-41.8\" font-family=\"Times,serif\" font-size=\"14.00\">e</text>\n<polyline fill=\"none\" stroke=\"black\" points=\"710.5,-27.5 710.5,-63.5 \"/>\n<text text-anchor=\"middle\" x=\"754\" y=\"-41.8\" font-family=\"Times,serif\" font-size=\"14.00\">value 2.0000</text>\n<polyline fill=\"none\" stroke=\"black\" points=\"797.5,-27.5 797.5,-63.5 \"/>\n<text text-anchor=\"middle\" x=\"848.5\" y=\"-41.8\" font-family=\"Times,serif\" font-size=\"14.00\">gradient 0.0000</text>\n</g>\n<!-- 4699964624* -->\n<g id=\"node7\" class=\"node\">\n<title>4699964624*</title>\n<ellipse fill=\"none\" stroke=\"black\" cx=\"964\" cy=\"-72.5\" rx=\"27\" ry=\"18\"/>\n<text text-anchor=\"middle\" x=\"964\" y=\"-68.8\" font-family=\"Times,serif\" font-size=\"14.00\">*</text>\n</g>\n<!-- 4699977728&#45;&gt;4699964624* -->\n<g id=\"edge6\" class=\"edge\">\n<title>4699977728&#45;&gt;4699964624*</title>\n<path fill=\"none\" stroke=\"black\" d=\"M899.78,-62.37C909.6,-63.94 919.02,-65.45 927.44,-66.8\"/>\n<polygon fill=\"black\" stroke=\"black\" points=\"927.11,-70.29 937.54,-68.42 928.22,-63.38 927.11,-70.29\"/>\n</g>\n<!-- 4699977728+ -->\n<g id=\"node2\" class=\"node\">\n<title>4699977728+</title>\n<ellipse fill=\"none\" stroke=\"black\" cx=\"623\" cy=\"-45.5\" rx=\"27\" ry=\"18\"/>\n<text text-anchor=\"middle\" x=\"623\" y=\"-41.8\" font-family=\"Times,serif\" font-size=\"14.00\">+</text>\n</g>\n<!-- 4699977728+&#45;&gt;4699977728 -->\n<g id=\"edge1\" class=\"edge\">\n<title>4699977728+&#45;&gt;4699977728</title>\n<path fill=\"none\" stroke=\"black\" d=\"M650.33,-45.5C658.24,-45.5 667.48,-45.5 677.37,-45.5\"/>\n<polygon fill=\"black\" stroke=\"black\" points=\"677.46,-49 687.46,-45.5 677.46,-42 677.46,-49\"/>\n</g>\n<!-- 4699667968 -->\n<g id=\"node3\" class=\"node\">\n<title>4699667968</title>\n<polygon fill=\"none\" stroke=\"black\" points=\"343,-55.5 343,-91.5 560,-91.5 560,-55.5 343,-55.5\"/>\n<text text-anchor=\"middle\" x=\"354.5\" y=\"-69.8\" font-family=\"Times,serif\" font-size=\"14.00\">d</text>\n<polyline fill=\"none\" stroke=\"black\" points=\"366,-55.5 366,-91.5 \"/>\n<text text-anchor=\"middle\" x=\"412\" y=\"-69.8\" font-family=\"Times,serif\" font-size=\"14.00\">value &#45;6.0000</text>\n<polyline fill=\"none\" stroke=\"black\" points=\"458,-55.5 458,-91.5 \"/>\n<text text-anchor=\"middle\" x=\"509\" y=\"-69.8\" font-family=\"Times,serif\" font-size=\"14.00\">gradient 0.0000</text>\n</g>\n<!-- 4699667968&#45;&gt;4699977728+ -->\n<g id=\"edge5\" class=\"edge\">\n<title>4699667968&#45;&gt;4699977728+</title>\n<path fill=\"none\" stroke=\"black\" d=\"M560.33,-55.69C569.68,-54.14 578.63,-52.67 586.66,-51.34\"/>\n<polygon fill=\"black\" stroke=\"black\" points=\"587.36,-54.77 596.66,-49.69 586.22,-47.86 587.36,-54.77\"/>\n</g>\n<!-- 4699667968* -->\n<g id=\"node4\" class=\"node\">\n<title>4699667968*</title>\n<ellipse fill=\"none\" stroke=\"black\" cx=\"280\" cy=\"-73.5\" rx=\"27\" ry=\"18\"/>\n<text text-anchor=\"middle\" x=\"280\" y=\"-69.8\" font-family=\"Times,serif\" font-size=\"14.00\">*</text>\n</g>\n<!-- 4699667968*&#45;&gt;4699667968 -->\n<g id=\"edge2\" class=\"edge\">\n<title>4699667968*&#45;&gt;4699667968</title>\n<path fill=\"none\" stroke=\"black\" d=\"M307.11,-73.5C314.55,-73.5 323.16,-73.5 332.4,-73.5\"/>\n<polygon fill=\"black\" stroke=\"black\" points=\"332.66,-77 342.66,-73.5 332.66,-70 332.66,-77\"/>\n</g>\n<!-- 4551180368 -->\n<g id=\"node5\" class=\"node\">\n<title>4551180368</title>\n<polygon fill=\"none\" stroke=\"black\" points=\"0,-83.5 0,-119.5 217,-119.5 217,-83.5 0,-83.5\"/>\n<text text-anchor=\"middle\" x=\"11.5\" y=\"-97.8\" font-family=\"Times,serif\" font-size=\"14.00\">b</text>\n<polyline fill=\"none\" stroke=\"black\" points=\"23,-83.5 23,-119.5 \"/>\n<text text-anchor=\"middle\" x=\"69\" y=\"-97.8\" font-family=\"Times,serif\" font-size=\"14.00\">value &#45;3.0000</text>\n<polyline fill=\"none\" stroke=\"black\" points=\"115,-83.5 115,-119.5 \"/>\n<text text-anchor=\"middle\" x=\"166\" y=\"-97.8\" font-family=\"Times,serif\" font-size=\"14.00\">gradient 0.0000</text>\n</g>\n<!-- 4551180368&#45;&gt;4699667968* -->\n<g id=\"edge4\" class=\"edge\">\n<title>4551180368&#45;&gt;4699667968*</title>\n<path fill=\"none\" stroke=\"black\" d=\"M217.33,-83.69C226.68,-82.14 235.63,-80.67 243.66,-79.34\"/>\n<polygon fill=\"black\" stroke=\"black\" points=\"244.36,-82.77 253.66,-77.69 243.22,-75.86 244.36,-82.77\"/>\n</g>\n<!-- 4699964624 -->\n<g id=\"node6\" class=\"node\">\n<title>4699964624</title>\n<polygon fill=\"none\" stroke=\"black\" points=\"1027,-54.5 1027,-90.5 1246,-90.5 1246,-54.5 1027,-54.5\"/>\n<text text-anchor=\"middle\" x=\"1039.5\" y=\"-68.8\" font-family=\"Times,serif\" font-size=\"14.00\">L</text>\n<polyline fill=\"none\" stroke=\"black\" points=\"1052,-54.5 1052,-90.5 \"/>\n<text text-anchor=\"middle\" x=\"1098\" y=\"-68.8\" font-family=\"Times,serif\" font-size=\"14.00\">value &#45;4.0000</text>\n<polyline fill=\"none\" stroke=\"black\" points=\"1144,-54.5 1144,-90.5 \"/>\n<text text-anchor=\"middle\" x=\"1195\" y=\"-68.8\" font-family=\"Times,serif\" font-size=\"14.00\">gradient 0.0000</text>\n</g>\n<!-- 4699964624*&#45;&gt;4699964624 -->\n<g id=\"edge3\" class=\"edge\">\n<title>4699964624*&#45;&gt;4699964624</title>\n<path fill=\"none\" stroke=\"black\" d=\"M991.27,-72.5C998.68,-72.5 1007.25,-72.5 1016.45,-72.5\"/>\n<polygon fill=\"black\" stroke=\"black\" points=\"1016.66,-76 1026.66,-72.5 1016.66,-69 1016.66,-76\"/>\n</g>\n<!-- 4699977488 -->\n<g id=\"node8\" class=\"node\">\n<title>4699977488</title>\n<polygon fill=\"none\" stroke=\"black\" points=\"2.5,-28.5 2.5,-64.5 214.5,-64.5 214.5,-28.5 2.5,-28.5\"/>\n<text text-anchor=\"middle\" x=\"14\" y=\"-42.8\" font-family=\"Times,serif\" font-size=\"14.00\">a</text>\n<polyline fill=\"none\" stroke=\"black\" points=\"25.5,-28.5 25.5,-64.5 \"/>\n<text text-anchor=\"middle\" x=\"69\" y=\"-42.8\" font-family=\"Times,serif\" font-size=\"14.00\">value 2.0000</text>\n<polyline fill=\"none\" stroke=\"black\" points=\"112.5,-28.5 112.5,-64.5 \"/>\n<text text-anchor=\"middle\" x=\"163.5\" y=\"-42.8\" font-family=\"Times,serif\" font-size=\"14.00\">gradient 0.0000</text>\n</g>\n<!-- 4699977488&#45;&gt;4699667968* -->\n<g id=\"edge9\" class=\"edge\">\n<title>4699977488&#45;&gt;4699667968*</title>\n<path fill=\"none\" stroke=\"black\" d=\"M214.92,-63.29C225.07,-64.91 234.79,-66.46 243.47,-67.84\"/>\n<polygon fill=\"black\" stroke=\"black\" points=\"243.05,-71.32 253.48,-69.43 244.16,-64.41 243.05,-71.32\"/>\n</g>\n<!-- 4699969328 -->\n<g id=\"node9\" class=\"node\">\n<title>4699969328</title>\n<polygon fill=\"none\" stroke=\"black\" points=\"345.5,-0.5 345.5,-36.5 557.5,-36.5 557.5,-0.5 345.5,-0.5\"/>\n<text text-anchor=\"middle\" x=\"357\" y=\"-14.8\" font-family=\"Times,serif\" font-size=\"14.00\">c</text>\n<polyline fill=\"none\" stroke=\"black\" points=\"368.5,-0.5 368.5,-36.5 \"/>\n<text text-anchor=\"middle\" x=\"412\" y=\"-14.8\" font-family=\"Times,serif\" font-size=\"14.00\">value 8.0000</text>\n<polyline fill=\"none\" stroke=\"black\" points=\"455.5,-0.5 455.5,-36.5 \"/>\n<text text-anchor=\"middle\" x=\"506.5\" y=\"-14.8\" font-family=\"Times,serif\" font-size=\"14.00\">gradient 0.0000</text>\n</g>\n<!-- 4699969328&#45;&gt;4699977728+ -->\n<g id=\"edge8\" class=\"edge\">\n<title>4699969328&#45;&gt;4699977728+</title>\n<path fill=\"none\" stroke=\"black\" d=\"M557.92,-35.29C568.07,-36.91 577.79,-38.46 586.47,-39.84\"/>\n<polygon fill=\"black\" stroke=\"black\" points=\"586.05,-43.32 596.48,-41.43 587.16,-36.41 586.05,-43.32\"/>\n</g>\n<!-- 4699965824 -->\n<g id=\"node10\" class=\"node\">\n<title>4699965824</title>\n<polygon fill=\"none\" stroke=\"black\" points=\"686,-82.5 686,-118.5 901,-118.5 901,-82.5 686,-82.5\"/>\n<text text-anchor=\"middle\" x=\"696.5\" y=\"-96.8\" font-family=\"Times,serif\" font-size=\"14.00\">f</text>\n<polyline fill=\"none\" stroke=\"black\" points=\"707,-82.5 707,-118.5 \"/>\n<text text-anchor=\"middle\" x=\"753\" y=\"-96.8\" font-family=\"Times,serif\" font-size=\"14.00\">value &#45;2.0000</text>\n<polyline fill=\"none\" stroke=\"black\" points=\"799,-82.5 799,-118.5 \"/>\n<text text-anchor=\"middle\" x=\"850\" y=\"-96.8\" font-family=\"Times,serif\" font-size=\"14.00\">gradient 0.0000</text>\n</g>\n<!-- 4699965824&#45;&gt;4699964624* -->\n<g id=\"edge7\" class=\"edge\">\n<title>4699965824&#45;&gt;4699964624*</title>\n<path fill=\"none\" stroke=\"black\" d=\"M901.21,-82.77C910.57,-81.21 919.52,-79.72 927.57,-78.39\"/>\n<polygon fill=\"black\" stroke=\"black\" points=\"928.3,-81.81 937.59,-76.72 927.15,-74.91 928.3,-81.81\"/>\n</g>\n</g>\n</svg>\n",
            "text/plain": [
              "<graphviz.graphs.Digraph at 0x1181c0ec0>"
            ]
          },
          "execution_count": 145,
          "metadata": {},
          "output_type": "execute_result"
        }
      ],
      "source": [
        "draw_dot(L)"
      ]
    },
    {
      "cell_type": "markdown",
      "metadata": {},
      "source": [
        "### Lets find gradients \n",
        "\n",
        "derivatives of weights w.r.t Loss L\n",
        "\n",
        "Note: In the above example, a and b is the fixed data i.e the input to the NN, while c, d, e, f are the weights.\n",
        "\n",
        "**What should be the values of weights so the loss is minimized? Derivativation will help us find that out.**"
      ]
    },
    {
      "cell_type": "code",
      "execution_count": 146,
      "metadata": {},
      "outputs": [],
      "source": [
        "# derivative of variable w.r.t to itself is 1 so derivative of L w.r.t itself will be 1\n",
        "L.gradient = 1.0"
      ]
    },
    {
      "cell_type": "code",
      "execution_count": 147,
      "metadata": {},
      "outputs": [
        {
          "data": {
            "image/svg+xml": "<?xml version=\"1.0\" encoding=\"UTF-8\" standalone=\"no\"?>\n<!DOCTYPE svg PUBLIC \"-//W3C//DTD SVG 1.1//EN\"\n \"http://www.w3.org/Graphics/SVG/1.1/DTD/svg11.dtd\">\n<!-- Generated by graphviz version 2.50.0 (0)\n -->\n<!-- Pages: 1 -->\n<svg width=\"1254pt\" height=\"128pt\"\n viewBox=\"0.00 0.00 1254.00 128.00\" xmlns=\"http://www.w3.org/2000/svg\" xmlns:xlink=\"http://www.w3.org/1999/xlink\">\n<g id=\"graph0\" class=\"graph\" transform=\"scale(1 1) rotate(0) translate(4 124)\">\n<polygon fill=\"white\" stroke=\"transparent\" points=\"-4,4 -4,-124 1250,-124 1250,4 -4,4\"/>\n<!-- 4699977728 -->\n<g id=\"node1\" class=\"node\">\n<title>4699977728</title>\n<polygon fill=\"none\" stroke=\"black\" points=\"687.5,-27.5 687.5,-63.5 899.5,-63.5 899.5,-27.5 687.5,-27.5\"/>\n<text text-anchor=\"middle\" x=\"699\" y=\"-41.8\" font-family=\"Times,serif\" font-size=\"14.00\">e</text>\n<polyline fill=\"none\" stroke=\"black\" points=\"710.5,-27.5 710.5,-63.5 \"/>\n<text text-anchor=\"middle\" x=\"754\" y=\"-41.8\" font-family=\"Times,serif\" font-size=\"14.00\">value 2.0000</text>\n<polyline fill=\"none\" stroke=\"black\" points=\"797.5,-27.5 797.5,-63.5 \"/>\n<text text-anchor=\"middle\" x=\"848.5\" y=\"-41.8\" font-family=\"Times,serif\" font-size=\"14.00\">gradient 0.0000</text>\n</g>\n<!-- 4699964624* -->\n<g id=\"node7\" class=\"node\">\n<title>4699964624*</title>\n<ellipse fill=\"none\" stroke=\"black\" cx=\"964\" cy=\"-72.5\" rx=\"27\" ry=\"18\"/>\n<text text-anchor=\"middle\" x=\"964\" y=\"-68.8\" font-family=\"Times,serif\" font-size=\"14.00\">*</text>\n</g>\n<!-- 4699977728&#45;&gt;4699964624* -->\n<g id=\"edge6\" class=\"edge\">\n<title>4699977728&#45;&gt;4699964624*</title>\n<path fill=\"none\" stroke=\"black\" d=\"M899.78,-62.37C909.6,-63.94 919.02,-65.45 927.44,-66.8\"/>\n<polygon fill=\"black\" stroke=\"black\" points=\"927.11,-70.29 937.54,-68.42 928.22,-63.38 927.11,-70.29\"/>\n</g>\n<!-- 4699977728+ -->\n<g id=\"node2\" class=\"node\">\n<title>4699977728+</title>\n<ellipse fill=\"none\" stroke=\"black\" cx=\"623\" cy=\"-45.5\" rx=\"27\" ry=\"18\"/>\n<text text-anchor=\"middle\" x=\"623\" y=\"-41.8\" font-family=\"Times,serif\" font-size=\"14.00\">+</text>\n</g>\n<!-- 4699977728+&#45;&gt;4699977728 -->\n<g id=\"edge1\" class=\"edge\">\n<title>4699977728+&#45;&gt;4699977728</title>\n<path fill=\"none\" stroke=\"black\" d=\"M650.33,-45.5C658.24,-45.5 667.48,-45.5 677.37,-45.5\"/>\n<polygon fill=\"black\" stroke=\"black\" points=\"677.46,-49 687.46,-45.5 677.46,-42 677.46,-49\"/>\n</g>\n<!-- 4699667968 -->\n<g id=\"node3\" class=\"node\">\n<title>4699667968</title>\n<polygon fill=\"none\" stroke=\"black\" points=\"343,-55.5 343,-91.5 560,-91.5 560,-55.5 343,-55.5\"/>\n<text text-anchor=\"middle\" x=\"354.5\" y=\"-69.8\" font-family=\"Times,serif\" font-size=\"14.00\">d</text>\n<polyline fill=\"none\" stroke=\"black\" points=\"366,-55.5 366,-91.5 \"/>\n<text text-anchor=\"middle\" x=\"412\" y=\"-69.8\" font-family=\"Times,serif\" font-size=\"14.00\">value &#45;6.0000</text>\n<polyline fill=\"none\" stroke=\"black\" points=\"458,-55.5 458,-91.5 \"/>\n<text text-anchor=\"middle\" x=\"509\" y=\"-69.8\" font-family=\"Times,serif\" font-size=\"14.00\">gradient 0.0000</text>\n</g>\n<!-- 4699667968&#45;&gt;4699977728+ -->\n<g id=\"edge5\" class=\"edge\">\n<title>4699667968&#45;&gt;4699977728+</title>\n<path fill=\"none\" stroke=\"black\" d=\"M560.33,-55.69C569.68,-54.14 578.63,-52.67 586.66,-51.34\"/>\n<polygon fill=\"black\" stroke=\"black\" points=\"587.36,-54.77 596.66,-49.69 586.22,-47.86 587.36,-54.77\"/>\n</g>\n<!-- 4699667968* -->\n<g id=\"node4\" class=\"node\">\n<title>4699667968*</title>\n<ellipse fill=\"none\" stroke=\"black\" cx=\"280\" cy=\"-73.5\" rx=\"27\" ry=\"18\"/>\n<text text-anchor=\"middle\" x=\"280\" y=\"-69.8\" font-family=\"Times,serif\" font-size=\"14.00\">*</text>\n</g>\n<!-- 4699667968*&#45;&gt;4699667968 -->\n<g id=\"edge2\" class=\"edge\">\n<title>4699667968*&#45;&gt;4699667968</title>\n<path fill=\"none\" stroke=\"black\" d=\"M307.11,-73.5C314.55,-73.5 323.16,-73.5 332.4,-73.5\"/>\n<polygon fill=\"black\" stroke=\"black\" points=\"332.66,-77 342.66,-73.5 332.66,-70 332.66,-77\"/>\n</g>\n<!-- 4551180368 -->\n<g id=\"node5\" class=\"node\">\n<title>4551180368</title>\n<polygon fill=\"none\" stroke=\"black\" points=\"0,-83.5 0,-119.5 217,-119.5 217,-83.5 0,-83.5\"/>\n<text text-anchor=\"middle\" x=\"11.5\" y=\"-97.8\" font-family=\"Times,serif\" font-size=\"14.00\">b</text>\n<polyline fill=\"none\" stroke=\"black\" points=\"23,-83.5 23,-119.5 \"/>\n<text text-anchor=\"middle\" x=\"69\" y=\"-97.8\" font-family=\"Times,serif\" font-size=\"14.00\">value &#45;3.0000</text>\n<polyline fill=\"none\" stroke=\"black\" points=\"115,-83.5 115,-119.5 \"/>\n<text text-anchor=\"middle\" x=\"166\" y=\"-97.8\" font-family=\"Times,serif\" font-size=\"14.00\">gradient 0.0000</text>\n</g>\n<!-- 4551180368&#45;&gt;4699667968* -->\n<g id=\"edge4\" class=\"edge\">\n<title>4551180368&#45;&gt;4699667968*</title>\n<path fill=\"none\" stroke=\"black\" d=\"M217.33,-83.69C226.68,-82.14 235.63,-80.67 243.66,-79.34\"/>\n<polygon fill=\"black\" stroke=\"black\" points=\"244.36,-82.77 253.66,-77.69 243.22,-75.86 244.36,-82.77\"/>\n</g>\n<!-- 4699964624 -->\n<g id=\"node6\" class=\"node\">\n<title>4699964624</title>\n<polygon fill=\"none\" stroke=\"black\" points=\"1027,-54.5 1027,-90.5 1246,-90.5 1246,-54.5 1027,-54.5\"/>\n<text text-anchor=\"middle\" x=\"1039.5\" y=\"-68.8\" font-family=\"Times,serif\" font-size=\"14.00\">L</text>\n<polyline fill=\"none\" stroke=\"black\" points=\"1052,-54.5 1052,-90.5 \"/>\n<text text-anchor=\"middle\" x=\"1098\" y=\"-68.8\" font-family=\"Times,serif\" font-size=\"14.00\">value &#45;4.0000</text>\n<polyline fill=\"none\" stroke=\"black\" points=\"1144,-54.5 1144,-90.5 \"/>\n<text text-anchor=\"middle\" x=\"1195\" y=\"-68.8\" font-family=\"Times,serif\" font-size=\"14.00\">gradient 1.0000</text>\n</g>\n<!-- 4699964624*&#45;&gt;4699964624 -->\n<g id=\"edge3\" class=\"edge\">\n<title>4699964624*&#45;&gt;4699964624</title>\n<path fill=\"none\" stroke=\"black\" d=\"M991.27,-72.5C998.68,-72.5 1007.25,-72.5 1016.45,-72.5\"/>\n<polygon fill=\"black\" stroke=\"black\" points=\"1016.66,-76 1026.66,-72.5 1016.66,-69 1016.66,-76\"/>\n</g>\n<!-- 4699977488 -->\n<g id=\"node8\" class=\"node\">\n<title>4699977488</title>\n<polygon fill=\"none\" stroke=\"black\" points=\"2.5,-28.5 2.5,-64.5 214.5,-64.5 214.5,-28.5 2.5,-28.5\"/>\n<text text-anchor=\"middle\" x=\"14\" y=\"-42.8\" font-family=\"Times,serif\" font-size=\"14.00\">a</text>\n<polyline fill=\"none\" stroke=\"black\" points=\"25.5,-28.5 25.5,-64.5 \"/>\n<text text-anchor=\"middle\" x=\"69\" y=\"-42.8\" font-family=\"Times,serif\" font-size=\"14.00\">value 2.0000</text>\n<polyline fill=\"none\" stroke=\"black\" points=\"112.5,-28.5 112.5,-64.5 \"/>\n<text text-anchor=\"middle\" x=\"163.5\" y=\"-42.8\" font-family=\"Times,serif\" font-size=\"14.00\">gradient 0.0000</text>\n</g>\n<!-- 4699977488&#45;&gt;4699667968* -->\n<g id=\"edge9\" class=\"edge\">\n<title>4699977488&#45;&gt;4699667968*</title>\n<path fill=\"none\" stroke=\"black\" d=\"M214.92,-63.29C225.07,-64.91 234.79,-66.46 243.47,-67.84\"/>\n<polygon fill=\"black\" stroke=\"black\" points=\"243.05,-71.32 253.48,-69.43 244.16,-64.41 243.05,-71.32\"/>\n</g>\n<!-- 4699969328 -->\n<g id=\"node9\" class=\"node\">\n<title>4699969328</title>\n<polygon fill=\"none\" stroke=\"black\" points=\"345.5,-0.5 345.5,-36.5 557.5,-36.5 557.5,-0.5 345.5,-0.5\"/>\n<text text-anchor=\"middle\" x=\"357\" y=\"-14.8\" font-family=\"Times,serif\" font-size=\"14.00\">c</text>\n<polyline fill=\"none\" stroke=\"black\" points=\"368.5,-0.5 368.5,-36.5 \"/>\n<text text-anchor=\"middle\" x=\"412\" y=\"-14.8\" font-family=\"Times,serif\" font-size=\"14.00\">value 8.0000</text>\n<polyline fill=\"none\" stroke=\"black\" points=\"455.5,-0.5 455.5,-36.5 \"/>\n<text text-anchor=\"middle\" x=\"506.5\" y=\"-14.8\" font-family=\"Times,serif\" font-size=\"14.00\">gradient 0.0000</text>\n</g>\n<!-- 4699969328&#45;&gt;4699977728+ -->\n<g id=\"edge8\" class=\"edge\">\n<title>4699969328&#45;&gt;4699977728+</title>\n<path fill=\"none\" stroke=\"black\" d=\"M557.92,-35.29C568.07,-36.91 577.79,-38.46 586.47,-39.84\"/>\n<polygon fill=\"black\" stroke=\"black\" points=\"586.05,-43.32 596.48,-41.43 587.16,-36.41 586.05,-43.32\"/>\n</g>\n<!-- 4699965824 -->\n<g id=\"node10\" class=\"node\">\n<title>4699965824</title>\n<polygon fill=\"none\" stroke=\"black\" points=\"686,-82.5 686,-118.5 901,-118.5 901,-82.5 686,-82.5\"/>\n<text text-anchor=\"middle\" x=\"696.5\" y=\"-96.8\" font-family=\"Times,serif\" font-size=\"14.00\">f</text>\n<polyline fill=\"none\" stroke=\"black\" points=\"707,-82.5 707,-118.5 \"/>\n<text text-anchor=\"middle\" x=\"753\" y=\"-96.8\" font-family=\"Times,serif\" font-size=\"14.00\">value &#45;2.0000</text>\n<polyline fill=\"none\" stroke=\"black\" points=\"799,-82.5 799,-118.5 \"/>\n<text text-anchor=\"middle\" x=\"850\" y=\"-96.8\" font-family=\"Times,serif\" font-size=\"14.00\">gradient 0.0000</text>\n</g>\n<!-- 4699965824&#45;&gt;4699964624* -->\n<g id=\"edge7\" class=\"edge\">\n<title>4699965824&#45;&gt;4699964624*</title>\n<path fill=\"none\" stroke=\"black\" d=\"M901.21,-82.77C910.57,-81.21 919.52,-79.72 927.57,-78.39\"/>\n<polygon fill=\"black\" stroke=\"black\" points=\"928.3,-81.81 937.59,-76.72 927.15,-74.91 928.3,-81.81\"/>\n</g>\n</g>\n</svg>\n",
            "text/plain": [
              "<graphviz.graphs.Digraph at 0x11823cc20>"
            ]
          },
          "execution_count": 147,
          "metadata": {},
          "output_type": "execute_result"
        }
      ],
      "source": [
        "draw_dot(L)"
      ]
    },
    {
      "cell_type": "markdown",
      "metadata": {},
      "source": [
        "**lets compute dL/de**\n",
        "\n",
        "for y = f(x), dy/dx = (f(x+h) - f(x))/h\n",
        "\n",
        "here, L = e*f\n",
        "\n",
        "so, dL/de = ((e+h) * f - (e) * f)/h\n",
        "          = (e*f + h*f -e*f)/h\n",
        "          = (h*f)/h\n",
        "          = f\n",
        "\n",
        "therefore, dL/de = f\n",
        "\n",
        "similarly, dL/df = e"
      ]
    },
    {
      "cell_type": "code",
      "execution_count": 148,
      "metadata": {},
      "outputs": [
        {
          "data": {
            "image/svg+xml": "<?xml version=\"1.0\" encoding=\"UTF-8\" standalone=\"no\"?>\n<!DOCTYPE svg PUBLIC \"-//W3C//DTD SVG 1.1//EN\"\n \"http://www.w3.org/Graphics/SVG/1.1/DTD/svg11.dtd\">\n<!-- Generated by graphviz version 2.50.0 (0)\n -->\n<!-- Pages: 1 -->\n<svg width=\"1256pt\" height=\"128pt\"\n viewBox=\"0.00 0.00 1256.00 128.00\" xmlns=\"http://www.w3.org/2000/svg\" xmlns:xlink=\"http://www.w3.org/1999/xlink\">\n<g id=\"graph0\" class=\"graph\" transform=\"scale(1 1) rotate(0) translate(4 124)\">\n<polygon fill=\"white\" stroke=\"transparent\" points=\"-4,4 -4,-124 1252,-124 1252,4 -4,4\"/>\n<!-- 4699977728 -->\n<g id=\"node1\" class=\"node\">\n<title>4699977728</title>\n<polygon fill=\"none\" stroke=\"black\" points=\"686,-27.5 686,-63.5 903,-63.5 903,-27.5 686,-27.5\"/>\n<text text-anchor=\"middle\" x=\"697.5\" y=\"-41.8\" font-family=\"Times,serif\" font-size=\"14.00\">e</text>\n<polyline fill=\"none\" stroke=\"black\" points=\"709,-27.5 709,-63.5 \"/>\n<text text-anchor=\"middle\" x=\"752.5\" y=\"-41.8\" font-family=\"Times,serif\" font-size=\"14.00\">value 2.0000</text>\n<polyline fill=\"none\" stroke=\"black\" points=\"796,-27.5 796,-63.5 \"/>\n<text text-anchor=\"middle\" x=\"849.5\" y=\"-41.8\" font-family=\"Times,serif\" font-size=\"14.00\">gradient &#45;2.0000</text>\n</g>\n<!-- 4699964624* -->\n<g id=\"node7\" class=\"node\">\n<title>4699964624*</title>\n<ellipse fill=\"none\" stroke=\"black\" cx=\"966\" cy=\"-72.5\" rx=\"27\" ry=\"18\"/>\n<text text-anchor=\"middle\" x=\"966\" y=\"-68.8\" font-family=\"Times,serif\" font-size=\"14.00\">*</text>\n</g>\n<!-- 4699977728&#45;&gt;4699964624* -->\n<g id=\"edge6\" class=\"edge\">\n<title>4699977728&#45;&gt;4699964624*</title>\n<path fill=\"none\" stroke=\"black\" d=\"M903.33,-62.68C912.68,-64.17 921.63,-65.59 929.66,-66.87\"/>\n<polygon fill=\"black\" stroke=\"black\" points=\"929.23,-70.35 939.66,-68.46 930.33,-63.43 929.23,-70.35\"/>\n</g>\n<!-- 4699977728+ -->\n<g id=\"node2\" class=\"node\">\n<title>4699977728+</title>\n<ellipse fill=\"none\" stroke=\"black\" cx=\"623\" cy=\"-45.5\" rx=\"27\" ry=\"18\"/>\n<text text-anchor=\"middle\" x=\"623\" y=\"-41.8\" font-family=\"Times,serif\" font-size=\"14.00\">+</text>\n</g>\n<!-- 4699977728+&#45;&gt;4699977728 -->\n<g id=\"edge1\" class=\"edge\">\n<title>4699977728+&#45;&gt;4699977728</title>\n<path fill=\"none\" stroke=\"black\" d=\"M650.11,-45.5C657.55,-45.5 666.16,-45.5 675.4,-45.5\"/>\n<polygon fill=\"black\" stroke=\"black\" points=\"675.66,-49 685.66,-45.5 675.66,-42 675.66,-49\"/>\n</g>\n<!-- 4699667968 -->\n<g id=\"node3\" class=\"node\">\n<title>4699667968</title>\n<polygon fill=\"none\" stroke=\"black\" points=\"343,-55.5 343,-91.5 560,-91.5 560,-55.5 343,-55.5\"/>\n<text text-anchor=\"middle\" x=\"354.5\" y=\"-69.8\" font-family=\"Times,serif\" font-size=\"14.00\">d</text>\n<polyline fill=\"none\" stroke=\"black\" points=\"366,-55.5 366,-91.5 \"/>\n<text text-anchor=\"middle\" x=\"412\" y=\"-69.8\" font-family=\"Times,serif\" font-size=\"14.00\">value &#45;6.0000</text>\n<polyline fill=\"none\" stroke=\"black\" points=\"458,-55.5 458,-91.5 \"/>\n<text text-anchor=\"middle\" x=\"509\" y=\"-69.8\" font-family=\"Times,serif\" font-size=\"14.00\">gradient 0.0000</text>\n</g>\n<!-- 4699667968&#45;&gt;4699977728+ -->\n<g id=\"edge5\" class=\"edge\">\n<title>4699667968&#45;&gt;4699977728+</title>\n<path fill=\"none\" stroke=\"black\" d=\"M560.33,-55.69C569.68,-54.14 578.63,-52.67 586.66,-51.34\"/>\n<polygon fill=\"black\" stroke=\"black\" points=\"587.36,-54.77 596.66,-49.69 586.22,-47.86 587.36,-54.77\"/>\n</g>\n<!-- 4699667968* -->\n<g id=\"node4\" class=\"node\">\n<title>4699667968*</title>\n<ellipse fill=\"none\" stroke=\"black\" cx=\"280\" cy=\"-73.5\" rx=\"27\" ry=\"18\"/>\n<text text-anchor=\"middle\" x=\"280\" y=\"-69.8\" font-family=\"Times,serif\" font-size=\"14.00\">*</text>\n</g>\n<!-- 4699667968*&#45;&gt;4699667968 -->\n<g id=\"edge2\" class=\"edge\">\n<title>4699667968*&#45;&gt;4699667968</title>\n<path fill=\"none\" stroke=\"black\" d=\"M307.11,-73.5C314.55,-73.5 323.16,-73.5 332.4,-73.5\"/>\n<polygon fill=\"black\" stroke=\"black\" points=\"332.66,-77 342.66,-73.5 332.66,-70 332.66,-77\"/>\n</g>\n<!-- 4551180368 -->\n<g id=\"node5\" class=\"node\">\n<title>4551180368</title>\n<polygon fill=\"none\" stroke=\"black\" points=\"0,-83.5 0,-119.5 217,-119.5 217,-83.5 0,-83.5\"/>\n<text text-anchor=\"middle\" x=\"11.5\" y=\"-97.8\" font-family=\"Times,serif\" font-size=\"14.00\">b</text>\n<polyline fill=\"none\" stroke=\"black\" points=\"23,-83.5 23,-119.5 \"/>\n<text text-anchor=\"middle\" x=\"69\" y=\"-97.8\" font-family=\"Times,serif\" font-size=\"14.00\">value &#45;3.0000</text>\n<polyline fill=\"none\" stroke=\"black\" points=\"115,-83.5 115,-119.5 \"/>\n<text text-anchor=\"middle\" x=\"166\" y=\"-97.8\" font-family=\"Times,serif\" font-size=\"14.00\">gradient 0.0000</text>\n</g>\n<!-- 4551180368&#45;&gt;4699667968* -->\n<g id=\"edge4\" class=\"edge\">\n<title>4551180368&#45;&gt;4699667968*</title>\n<path fill=\"none\" stroke=\"black\" d=\"M217.33,-83.69C226.68,-82.14 235.63,-80.67 243.66,-79.34\"/>\n<polygon fill=\"black\" stroke=\"black\" points=\"244.36,-82.77 253.66,-77.69 243.22,-75.86 244.36,-82.77\"/>\n</g>\n<!-- 4699964624 -->\n<g id=\"node6\" class=\"node\">\n<title>4699964624</title>\n<polygon fill=\"none\" stroke=\"black\" points=\"1029,-54.5 1029,-90.5 1248,-90.5 1248,-54.5 1029,-54.5\"/>\n<text text-anchor=\"middle\" x=\"1041.5\" y=\"-68.8\" font-family=\"Times,serif\" font-size=\"14.00\">L</text>\n<polyline fill=\"none\" stroke=\"black\" points=\"1054,-54.5 1054,-90.5 \"/>\n<text text-anchor=\"middle\" x=\"1100\" y=\"-68.8\" font-family=\"Times,serif\" font-size=\"14.00\">value &#45;4.0000</text>\n<polyline fill=\"none\" stroke=\"black\" points=\"1146,-54.5 1146,-90.5 \"/>\n<text text-anchor=\"middle\" x=\"1197\" y=\"-68.8\" font-family=\"Times,serif\" font-size=\"14.00\">gradient 1.0000</text>\n</g>\n<!-- 4699964624*&#45;&gt;4699964624 -->\n<g id=\"edge3\" class=\"edge\">\n<title>4699964624*&#45;&gt;4699964624</title>\n<path fill=\"none\" stroke=\"black\" d=\"M993.27,-72.5C1000.68,-72.5 1009.25,-72.5 1018.45,-72.5\"/>\n<polygon fill=\"black\" stroke=\"black\" points=\"1018.66,-76 1028.66,-72.5 1018.66,-69 1018.66,-76\"/>\n</g>\n<!-- 4699977488 -->\n<g id=\"node8\" class=\"node\">\n<title>4699977488</title>\n<polygon fill=\"none\" stroke=\"black\" points=\"2.5,-28.5 2.5,-64.5 214.5,-64.5 214.5,-28.5 2.5,-28.5\"/>\n<text text-anchor=\"middle\" x=\"14\" y=\"-42.8\" font-family=\"Times,serif\" font-size=\"14.00\">a</text>\n<polyline fill=\"none\" stroke=\"black\" points=\"25.5,-28.5 25.5,-64.5 \"/>\n<text text-anchor=\"middle\" x=\"69\" y=\"-42.8\" font-family=\"Times,serif\" font-size=\"14.00\">value 2.0000</text>\n<polyline fill=\"none\" stroke=\"black\" points=\"112.5,-28.5 112.5,-64.5 \"/>\n<text text-anchor=\"middle\" x=\"163.5\" y=\"-42.8\" font-family=\"Times,serif\" font-size=\"14.00\">gradient 0.0000</text>\n</g>\n<!-- 4699977488&#45;&gt;4699667968* -->\n<g id=\"edge9\" class=\"edge\">\n<title>4699977488&#45;&gt;4699667968*</title>\n<path fill=\"none\" stroke=\"black\" d=\"M214.92,-63.29C225.07,-64.91 234.79,-66.46 243.47,-67.84\"/>\n<polygon fill=\"black\" stroke=\"black\" points=\"243.05,-71.32 253.48,-69.43 244.16,-64.41 243.05,-71.32\"/>\n</g>\n<!-- 4699969328 -->\n<g id=\"node9\" class=\"node\">\n<title>4699969328</title>\n<polygon fill=\"none\" stroke=\"black\" points=\"345.5,-0.5 345.5,-36.5 557.5,-36.5 557.5,-0.5 345.5,-0.5\"/>\n<text text-anchor=\"middle\" x=\"357\" y=\"-14.8\" font-family=\"Times,serif\" font-size=\"14.00\">c</text>\n<polyline fill=\"none\" stroke=\"black\" points=\"368.5,-0.5 368.5,-36.5 \"/>\n<text text-anchor=\"middle\" x=\"412\" y=\"-14.8\" font-family=\"Times,serif\" font-size=\"14.00\">value 8.0000</text>\n<polyline fill=\"none\" stroke=\"black\" points=\"455.5,-0.5 455.5,-36.5 \"/>\n<text text-anchor=\"middle\" x=\"506.5\" y=\"-14.8\" font-family=\"Times,serif\" font-size=\"14.00\">gradient 0.0000</text>\n</g>\n<!-- 4699969328&#45;&gt;4699977728+ -->\n<g id=\"edge8\" class=\"edge\">\n<title>4699969328&#45;&gt;4699977728+</title>\n<path fill=\"none\" stroke=\"black\" d=\"M557.92,-35.29C568.07,-36.91 577.79,-38.46 586.47,-39.84\"/>\n<polygon fill=\"black\" stroke=\"black\" points=\"586.05,-43.32 596.48,-41.43 587.16,-36.41 586.05,-43.32\"/>\n</g>\n<!-- 4699965824 -->\n<g id=\"node10\" class=\"node\">\n<title>4699965824</title>\n<polygon fill=\"none\" stroke=\"black\" points=\"687,-82.5 687,-118.5 902,-118.5 902,-82.5 687,-82.5\"/>\n<text text-anchor=\"middle\" x=\"697.5\" y=\"-96.8\" font-family=\"Times,serif\" font-size=\"14.00\">f</text>\n<polyline fill=\"none\" stroke=\"black\" points=\"708,-82.5 708,-118.5 \"/>\n<text text-anchor=\"middle\" x=\"754\" y=\"-96.8\" font-family=\"Times,serif\" font-size=\"14.00\">value &#45;2.0000</text>\n<polyline fill=\"none\" stroke=\"black\" points=\"800,-82.5 800,-118.5 \"/>\n<text text-anchor=\"middle\" x=\"851\" y=\"-96.8\" font-family=\"Times,serif\" font-size=\"14.00\">gradient 2.0000</text>\n</g>\n<!-- 4699965824&#45;&gt;4699964624* -->\n<g id=\"edge7\" class=\"edge\">\n<title>4699965824&#45;&gt;4699964624*</title>\n<path fill=\"none\" stroke=\"black\" d=\"M902.37,-82.85C912.03,-81.25 921.29,-79.72 929.58,-78.35\"/>\n<polygon fill=\"black\" stroke=\"black\" points=\"930.23,-81.79 939.52,-76.71 929.08,-74.89 930.23,-81.79\"/>\n</g>\n</g>\n</svg>\n",
            "text/plain": [
              "<graphviz.graphs.Digraph at 0x11823d2e0>"
            ]
          },
          "execution_count": 148,
          "metadata": {},
          "output_type": "execute_result"
        }
      ],
      "source": [
        "e.gradient = f.value\n",
        "f.gradient = e.value\n",
        "\n",
        "draw_dot(L)"
      ]
    },
    {
      "cell_type": "markdown",
      "metadata": {},
      "source": [
        "**now lets compute dL/dc by using [chain rule](https://en.wikipedia.org/wiki/Chain_rule)**\n",
        "dL/dc = (dL/de) * (de/dc)\n",
        "\n",
        "we have already computed dL/de, lets compute de/dc\n",
        "\n",
        "de/dc = ?\n",
        "\n",
        "here, e = c + d\n",
        "\n",
        "so, de/dc = ((c+h) + d) - (c+d)/ h\n",
        "          = (c + h + d - c -d )/h\n",
        "          = h/h \n",
        "          = 1.0\n",
        "\n",
        "so dL/dc = (dL/de) * (de/dc)\n",
        "         = f * 1.0\n",
        "         = f\n",
        "\n",
        "similary de/dd = 1.0 and dL/dd = f\n"
      ]
    },
    {
      "cell_type": "code",
      "execution_count": 149,
      "metadata": {},
      "outputs": [
        {
          "data": {
            "image/svg+xml": "<?xml version=\"1.0\" encoding=\"UTF-8\" standalone=\"no\"?>\n<!DOCTYPE svg PUBLIC \"-//W3C//DTD SVG 1.1//EN\"\n \"http://www.w3.org/Graphics/SVG/1.1/DTD/svg11.dtd\">\n<!-- Generated by graphviz version 2.50.0 (0)\n -->\n<!-- Pages: 1 -->\n<svg width=\"1261pt\" height=\"128pt\"\n viewBox=\"0.00 0.00 1261.00 128.00\" xmlns=\"http://www.w3.org/2000/svg\" xmlns:xlink=\"http://www.w3.org/1999/xlink\">\n<g id=\"graph0\" class=\"graph\" transform=\"scale(1 1) rotate(0) translate(4 124)\">\n<polygon fill=\"white\" stroke=\"transparent\" points=\"-4,4 -4,-124 1257,-124 1257,4 -4,4\"/>\n<!-- 4699977728 -->\n<g id=\"node1\" class=\"node\">\n<title>4699977728</title>\n<polygon fill=\"none\" stroke=\"black\" points=\"691,-27.5 691,-63.5 908,-63.5 908,-27.5 691,-27.5\"/>\n<text text-anchor=\"middle\" x=\"702.5\" y=\"-41.8\" font-family=\"Times,serif\" font-size=\"14.00\">e</text>\n<polyline fill=\"none\" stroke=\"black\" points=\"714,-27.5 714,-63.5 \"/>\n<text text-anchor=\"middle\" x=\"757.5\" y=\"-41.8\" font-family=\"Times,serif\" font-size=\"14.00\">value 2.0000</text>\n<polyline fill=\"none\" stroke=\"black\" points=\"801,-27.5 801,-63.5 \"/>\n<text text-anchor=\"middle\" x=\"854.5\" y=\"-41.8\" font-family=\"Times,serif\" font-size=\"14.00\">gradient &#45;2.0000</text>\n</g>\n<!-- 4699964624* -->\n<g id=\"node7\" class=\"node\">\n<title>4699964624*</title>\n<ellipse fill=\"none\" stroke=\"black\" cx=\"971\" cy=\"-72.5\" rx=\"27\" ry=\"18\"/>\n<text text-anchor=\"middle\" x=\"971\" y=\"-68.8\" font-family=\"Times,serif\" font-size=\"14.00\">*</text>\n</g>\n<!-- 4699977728&#45;&gt;4699964624* -->\n<g id=\"edge6\" class=\"edge\">\n<title>4699977728&#45;&gt;4699964624*</title>\n<path fill=\"none\" stroke=\"black\" d=\"M908.33,-62.68C917.68,-64.17 926.63,-65.59 934.66,-66.87\"/>\n<polygon fill=\"black\" stroke=\"black\" points=\"934.23,-70.35 944.66,-68.46 935.33,-63.43 934.23,-70.35\"/>\n</g>\n<!-- 4699977728+ -->\n<g id=\"node2\" class=\"node\">\n<title>4699977728+</title>\n<ellipse fill=\"none\" stroke=\"black\" cx=\"628\" cy=\"-45.5\" rx=\"27\" ry=\"18\"/>\n<text text-anchor=\"middle\" x=\"628\" y=\"-41.8\" font-family=\"Times,serif\" font-size=\"14.00\">+</text>\n</g>\n<!-- 4699977728+&#45;&gt;4699977728 -->\n<g id=\"edge1\" class=\"edge\">\n<title>4699977728+&#45;&gt;4699977728</title>\n<path fill=\"none\" stroke=\"black\" d=\"M655.11,-45.5C662.55,-45.5 671.16,-45.5 680.4,-45.5\"/>\n<polygon fill=\"black\" stroke=\"black\" points=\"680.66,-49 690.66,-45.5 680.66,-42 680.66,-49\"/>\n</g>\n<!-- 4699667968 -->\n<g id=\"node3\" class=\"node\">\n<title>4699667968</title>\n<polygon fill=\"none\" stroke=\"black\" points=\"343,-55.5 343,-91.5 565,-91.5 565,-55.5 343,-55.5\"/>\n<text text-anchor=\"middle\" x=\"354.5\" y=\"-69.8\" font-family=\"Times,serif\" font-size=\"14.00\">d</text>\n<polyline fill=\"none\" stroke=\"black\" points=\"366,-55.5 366,-91.5 \"/>\n<text text-anchor=\"middle\" x=\"412\" y=\"-69.8\" font-family=\"Times,serif\" font-size=\"14.00\">value &#45;6.0000</text>\n<polyline fill=\"none\" stroke=\"black\" points=\"458,-55.5 458,-91.5 \"/>\n<text text-anchor=\"middle\" x=\"511.5\" y=\"-69.8\" font-family=\"Times,serif\" font-size=\"14.00\">gradient &#45;2.0000</text>\n</g>\n<!-- 4699667968&#45;&gt;4699977728+ -->\n<g id=\"edge5\" class=\"edge\">\n<title>4699667968&#45;&gt;4699977728+</title>\n<path fill=\"none\" stroke=\"black\" d=\"M565.39,-55.53C574.67,-54.02 583.54,-52.58 591.51,-51.28\"/>\n<polygon fill=\"black\" stroke=\"black\" points=\"592.12,-54.72 601.43,-49.66 590.99,-47.82 592.12,-54.72\"/>\n</g>\n<!-- 4699667968* -->\n<g id=\"node4\" class=\"node\">\n<title>4699667968*</title>\n<ellipse fill=\"none\" stroke=\"black\" cx=\"280\" cy=\"-73.5\" rx=\"27\" ry=\"18\"/>\n<text text-anchor=\"middle\" x=\"280\" y=\"-69.8\" font-family=\"Times,serif\" font-size=\"14.00\">*</text>\n</g>\n<!-- 4699667968*&#45;&gt;4699667968 -->\n<g id=\"edge2\" class=\"edge\">\n<title>4699667968*&#45;&gt;4699667968</title>\n<path fill=\"none\" stroke=\"black\" d=\"M307.12,-73.5C314.66,-73.5 323.41,-73.5 332.81,-73.5\"/>\n<polygon fill=\"black\" stroke=\"black\" points=\"332.82,-77 342.81,-73.5 332.81,-70 332.82,-77\"/>\n</g>\n<!-- 4551180368 -->\n<g id=\"node5\" class=\"node\">\n<title>4551180368</title>\n<polygon fill=\"none\" stroke=\"black\" points=\"0,-83.5 0,-119.5 217,-119.5 217,-83.5 0,-83.5\"/>\n<text text-anchor=\"middle\" x=\"11.5\" y=\"-97.8\" font-family=\"Times,serif\" font-size=\"14.00\">b</text>\n<polyline fill=\"none\" stroke=\"black\" points=\"23,-83.5 23,-119.5 \"/>\n<text text-anchor=\"middle\" x=\"69\" y=\"-97.8\" font-family=\"Times,serif\" font-size=\"14.00\">value &#45;3.0000</text>\n<polyline fill=\"none\" stroke=\"black\" points=\"115,-83.5 115,-119.5 \"/>\n<text text-anchor=\"middle\" x=\"166\" y=\"-97.8\" font-family=\"Times,serif\" font-size=\"14.00\">gradient 0.0000</text>\n</g>\n<!-- 4551180368&#45;&gt;4699667968* -->\n<g id=\"edge4\" class=\"edge\">\n<title>4551180368&#45;&gt;4699667968*</title>\n<path fill=\"none\" stroke=\"black\" d=\"M217.33,-83.69C226.68,-82.14 235.63,-80.67 243.66,-79.34\"/>\n<polygon fill=\"black\" stroke=\"black\" points=\"244.36,-82.77 253.66,-77.69 243.22,-75.86 244.36,-82.77\"/>\n</g>\n<!-- 4699964624 -->\n<g id=\"node6\" class=\"node\">\n<title>4699964624</title>\n<polygon fill=\"none\" stroke=\"black\" points=\"1034,-54.5 1034,-90.5 1253,-90.5 1253,-54.5 1034,-54.5\"/>\n<text text-anchor=\"middle\" x=\"1046.5\" y=\"-68.8\" font-family=\"Times,serif\" font-size=\"14.00\">L</text>\n<polyline fill=\"none\" stroke=\"black\" points=\"1059,-54.5 1059,-90.5 \"/>\n<text text-anchor=\"middle\" x=\"1105\" y=\"-68.8\" font-family=\"Times,serif\" font-size=\"14.00\">value &#45;4.0000</text>\n<polyline fill=\"none\" stroke=\"black\" points=\"1151,-54.5 1151,-90.5 \"/>\n<text text-anchor=\"middle\" x=\"1202\" y=\"-68.8\" font-family=\"Times,serif\" font-size=\"14.00\">gradient 1.0000</text>\n</g>\n<!-- 4699964624*&#45;&gt;4699964624 -->\n<g id=\"edge3\" class=\"edge\">\n<title>4699964624*&#45;&gt;4699964624</title>\n<path fill=\"none\" stroke=\"black\" d=\"M998.27,-72.5C1005.68,-72.5 1014.25,-72.5 1023.45,-72.5\"/>\n<polygon fill=\"black\" stroke=\"black\" points=\"1023.66,-76 1033.66,-72.5 1023.66,-69 1023.66,-76\"/>\n</g>\n<!-- 4699977488 -->\n<g id=\"node8\" class=\"node\">\n<title>4699977488</title>\n<polygon fill=\"none\" stroke=\"black\" points=\"2.5,-28.5 2.5,-64.5 214.5,-64.5 214.5,-28.5 2.5,-28.5\"/>\n<text text-anchor=\"middle\" x=\"14\" y=\"-42.8\" font-family=\"Times,serif\" font-size=\"14.00\">a</text>\n<polyline fill=\"none\" stroke=\"black\" points=\"25.5,-28.5 25.5,-64.5 \"/>\n<text text-anchor=\"middle\" x=\"69\" y=\"-42.8\" font-family=\"Times,serif\" font-size=\"14.00\">value 2.0000</text>\n<polyline fill=\"none\" stroke=\"black\" points=\"112.5,-28.5 112.5,-64.5 \"/>\n<text text-anchor=\"middle\" x=\"163.5\" y=\"-42.8\" font-family=\"Times,serif\" font-size=\"14.00\">gradient 0.0000</text>\n</g>\n<!-- 4699977488&#45;&gt;4699667968* -->\n<g id=\"edge9\" class=\"edge\">\n<title>4699977488&#45;&gt;4699667968*</title>\n<path fill=\"none\" stroke=\"black\" d=\"M214.92,-63.29C225.07,-64.91 234.79,-66.46 243.47,-67.84\"/>\n<polygon fill=\"black\" stroke=\"black\" points=\"243.05,-71.32 253.48,-69.43 244.16,-64.41 243.05,-71.32\"/>\n</g>\n<!-- 4699969328 -->\n<g id=\"node9\" class=\"node\">\n<title>4699969328</title>\n<polygon fill=\"none\" stroke=\"black\" points=\"345.5,-0.5 345.5,-36.5 562.5,-36.5 562.5,-0.5 345.5,-0.5\"/>\n<text text-anchor=\"middle\" x=\"357\" y=\"-14.8\" font-family=\"Times,serif\" font-size=\"14.00\">c</text>\n<polyline fill=\"none\" stroke=\"black\" points=\"368.5,-0.5 368.5,-36.5 \"/>\n<text text-anchor=\"middle\" x=\"412\" y=\"-14.8\" font-family=\"Times,serif\" font-size=\"14.00\">value 8.0000</text>\n<polyline fill=\"none\" stroke=\"black\" points=\"455.5,-0.5 455.5,-36.5 \"/>\n<text text-anchor=\"middle\" x=\"509\" y=\"-14.8\" font-family=\"Times,serif\" font-size=\"14.00\">gradient &#45;2.0000</text>\n</g>\n<!-- 4699969328&#45;&gt;4699977728+ -->\n<g id=\"edge8\" class=\"edge\">\n<title>4699969328&#45;&gt;4699977728+</title>\n<path fill=\"none\" stroke=\"black\" d=\"M562.95,-35.45C573.13,-37.04 582.86,-38.57 591.53,-39.93\"/>\n<polygon fill=\"black\" stroke=\"black\" points=\"591.12,-43.41 601.54,-41.5 592.2,-36.49 591.12,-43.41\"/>\n</g>\n<!-- 4699965824 -->\n<g id=\"node10\" class=\"node\">\n<title>4699965824</title>\n<polygon fill=\"none\" stroke=\"black\" points=\"692,-82.5 692,-118.5 907,-118.5 907,-82.5 692,-82.5\"/>\n<text text-anchor=\"middle\" x=\"702.5\" y=\"-96.8\" font-family=\"Times,serif\" font-size=\"14.00\">f</text>\n<polyline fill=\"none\" stroke=\"black\" points=\"713,-82.5 713,-118.5 \"/>\n<text text-anchor=\"middle\" x=\"759\" y=\"-96.8\" font-family=\"Times,serif\" font-size=\"14.00\">value &#45;2.0000</text>\n<polyline fill=\"none\" stroke=\"black\" points=\"805,-82.5 805,-118.5 \"/>\n<text text-anchor=\"middle\" x=\"856\" y=\"-96.8\" font-family=\"Times,serif\" font-size=\"14.00\">gradient 2.0000</text>\n</g>\n<!-- 4699965824&#45;&gt;4699964624* -->\n<g id=\"edge7\" class=\"edge\">\n<title>4699965824&#45;&gt;4699964624*</title>\n<path fill=\"none\" stroke=\"black\" d=\"M907.37,-82.85C917.03,-81.25 926.29,-79.72 934.58,-78.35\"/>\n<polygon fill=\"black\" stroke=\"black\" points=\"935.23,-81.79 944.52,-76.71 934.08,-74.89 935.23,-81.79\"/>\n</g>\n</g>\n</svg>\n",
            "text/plain": [
              "<graphviz.graphs.Digraph at 0x1182006e0>"
            ]
          },
          "execution_count": 149,
          "metadata": {},
          "output_type": "execute_result"
        }
      ],
      "source": [
        "c.gradient = f.value\n",
        "d.gradient = f.value\n",
        "\n",
        "draw_dot(L)"
      ]
    },
    {
      "cell_type": "markdown",
      "metadata": {},
      "source": [
        "dL/da = dL/dd * dd/da\n",
        "\n",
        "dL/dd = f \n",
        "\n",
        "dd/da = ?\n",
        "\n",
        "d = a * b\n",
        "\n",
        "so dd/da = (((a + h)* b) - (a * b)) / h = (a*b + h*b - a*b ) /h = (h*b)/h = b\n",
        "\n",
        "therefore dL/da = f * b\n",
        "\n",
        "similarly dL/db = f * a\n"
      ]
    },
    {
      "cell_type": "code",
      "execution_count": 150,
      "metadata": {},
      "outputs": [
        {
          "data": {
            "image/svg+xml": "<?xml version=\"1.0\" encoding=\"UTF-8\" standalone=\"no\"?>\n<!DOCTYPE svg PUBLIC \"-//W3C//DTD SVG 1.1//EN\"\n \"http://www.w3.org/Graphics/SVG/1.1/DTD/svg11.dtd\">\n<!-- Generated by graphviz version 2.50.0 (0)\n -->\n<!-- Pages: 1 -->\n<svg width=\"1266pt\" height=\"128pt\"\n viewBox=\"0.00 0.00 1266.00 128.00\" xmlns=\"http://www.w3.org/2000/svg\" xmlns:xlink=\"http://www.w3.org/1999/xlink\">\n<g id=\"graph0\" class=\"graph\" transform=\"scale(1 1) rotate(0) translate(4 124)\">\n<polygon fill=\"white\" stroke=\"transparent\" points=\"-4,4 -4,-124 1262,-124 1262,4 -4,4\"/>\n<!-- 4699977728 -->\n<g id=\"node1\" class=\"node\">\n<title>4699977728</title>\n<polygon fill=\"none\" stroke=\"black\" points=\"696,-27.5 696,-63.5 913,-63.5 913,-27.5 696,-27.5\"/>\n<text text-anchor=\"middle\" x=\"707.5\" y=\"-41.8\" font-family=\"Times,serif\" font-size=\"14.00\">e</text>\n<polyline fill=\"none\" stroke=\"black\" points=\"719,-27.5 719,-63.5 \"/>\n<text text-anchor=\"middle\" x=\"762.5\" y=\"-41.8\" font-family=\"Times,serif\" font-size=\"14.00\">value 2.0000</text>\n<polyline fill=\"none\" stroke=\"black\" points=\"806,-27.5 806,-63.5 \"/>\n<text text-anchor=\"middle\" x=\"859.5\" y=\"-41.8\" font-family=\"Times,serif\" font-size=\"14.00\">gradient &#45;2.0000</text>\n</g>\n<!-- 4699964624* -->\n<g id=\"node7\" class=\"node\">\n<title>4699964624*</title>\n<ellipse fill=\"none\" stroke=\"black\" cx=\"976\" cy=\"-72.5\" rx=\"27\" ry=\"18\"/>\n<text text-anchor=\"middle\" x=\"976\" y=\"-68.8\" font-family=\"Times,serif\" font-size=\"14.00\">*</text>\n</g>\n<!-- 4699977728&#45;&gt;4699964624* -->\n<g id=\"edge6\" class=\"edge\">\n<title>4699977728&#45;&gt;4699964624*</title>\n<path fill=\"none\" stroke=\"black\" d=\"M913.33,-62.68C922.68,-64.17 931.63,-65.59 939.66,-66.87\"/>\n<polygon fill=\"black\" stroke=\"black\" points=\"939.23,-70.35 949.66,-68.46 940.33,-63.43 939.23,-70.35\"/>\n</g>\n<!-- 4699977728+ -->\n<g id=\"node2\" class=\"node\">\n<title>4699977728+</title>\n<ellipse fill=\"none\" stroke=\"black\" cx=\"633\" cy=\"-45.5\" rx=\"27\" ry=\"18\"/>\n<text text-anchor=\"middle\" x=\"633\" y=\"-41.8\" font-family=\"Times,serif\" font-size=\"14.00\">+</text>\n</g>\n<!-- 4699977728+&#45;&gt;4699977728 -->\n<g id=\"edge1\" class=\"edge\">\n<title>4699977728+&#45;&gt;4699977728</title>\n<path fill=\"none\" stroke=\"black\" d=\"M660.11,-45.5C667.55,-45.5 676.16,-45.5 685.4,-45.5\"/>\n<polygon fill=\"black\" stroke=\"black\" points=\"685.66,-49 695.66,-45.5 685.66,-42 685.66,-49\"/>\n</g>\n<!-- 4699667968 -->\n<g id=\"node3\" class=\"node\">\n<title>4699667968</title>\n<polygon fill=\"none\" stroke=\"black\" points=\"348,-55.5 348,-91.5 570,-91.5 570,-55.5 348,-55.5\"/>\n<text text-anchor=\"middle\" x=\"359.5\" y=\"-69.8\" font-family=\"Times,serif\" font-size=\"14.00\">d</text>\n<polyline fill=\"none\" stroke=\"black\" points=\"371,-55.5 371,-91.5 \"/>\n<text text-anchor=\"middle\" x=\"417\" y=\"-69.8\" font-family=\"Times,serif\" font-size=\"14.00\">value &#45;6.0000</text>\n<polyline fill=\"none\" stroke=\"black\" points=\"463,-55.5 463,-91.5 \"/>\n<text text-anchor=\"middle\" x=\"516.5\" y=\"-69.8\" font-family=\"Times,serif\" font-size=\"14.00\">gradient &#45;2.0000</text>\n</g>\n<!-- 4699667968&#45;&gt;4699977728+ -->\n<g id=\"edge5\" class=\"edge\">\n<title>4699667968&#45;&gt;4699977728+</title>\n<path fill=\"none\" stroke=\"black\" d=\"M570.39,-55.53C579.67,-54.02 588.54,-52.58 596.51,-51.28\"/>\n<polygon fill=\"black\" stroke=\"black\" points=\"597.12,-54.72 606.43,-49.66 595.99,-47.82 597.12,-54.72\"/>\n</g>\n<!-- 4699667968* -->\n<g id=\"node4\" class=\"node\">\n<title>4699667968*</title>\n<ellipse fill=\"none\" stroke=\"black\" cx=\"285\" cy=\"-73.5\" rx=\"27\" ry=\"18\"/>\n<text text-anchor=\"middle\" x=\"285\" y=\"-69.8\" font-family=\"Times,serif\" font-size=\"14.00\">*</text>\n</g>\n<!-- 4699667968*&#45;&gt;4699667968 -->\n<g id=\"edge2\" class=\"edge\">\n<title>4699667968*&#45;&gt;4699667968</title>\n<path fill=\"none\" stroke=\"black\" d=\"M312.12,-73.5C319.66,-73.5 328.41,-73.5 337.81,-73.5\"/>\n<polygon fill=\"black\" stroke=\"black\" points=\"337.82,-77 347.81,-73.5 337.81,-70 337.82,-77\"/>\n</g>\n<!-- 4551180368 -->\n<g id=\"node5\" class=\"node\">\n<title>4551180368</title>\n<polygon fill=\"none\" stroke=\"black\" points=\"0,-83.5 0,-119.5 222,-119.5 222,-83.5 0,-83.5\"/>\n<text text-anchor=\"middle\" x=\"11.5\" y=\"-97.8\" font-family=\"Times,serif\" font-size=\"14.00\">b</text>\n<polyline fill=\"none\" stroke=\"black\" points=\"23,-83.5 23,-119.5 \"/>\n<text text-anchor=\"middle\" x=\"69\" y=\"-97.8\" font-family=\"Times,serif\" font-size=\"14.00\">value &#45;3.0000</text>\n<polyline fill=\"none\" stroke=\"black\" points=\"115,-83.5 115,-119.5 \"/>\n<text text-anchor=\"middle\" x=\"168.5\" y=\"-97.8\" font-family=\"Times,serif\" font-size=\"14.00\">gradient &#45;4.0000</text>\n</g>\n<!-- 4551180368&#45;&gt;4699667968* -->\n<g id=\"edge4\" class=\"edge\">\n<title>4551180368&#45;&gt;4699667968*</title>\n<path fill=\"none\" stroke=\"black\" d=\"M222.39,-83.53C231.67,-82.02 240.54,-80.58 248.51,-79.28\"/>\n<polygon fill=\"black\" stroke=\"black\" points=\"249.12,-82.72 258.43,-77.66 247.99,-75.82 249.12,-82.72\"/>\n</g>\n<!-- 4699964624 -->\n<g id=\"node6\" class=\"node\">\n<title>4699964624</title>\n<polygon fill=\"none\" stroke=\"black\" points=\"1039,-54.5 1039,-90.5 1258,-90.5 1258,-54.5 1039,-54.5\"/>\n<text text-anchor=\"middle\" x=\"1051.5\" y=\"-68.8\" font-family=\"Times,serif\" font-size=\"14.00\">L</text>\n<polyline fill=\"none\" stroke=\"black\" points=\"1064,-54.5 1064,-90.5 \"/>\n<text text-anchor=\"middle\" x=\"1110\" y=\"-68.8\" font-family=\"Times,serif\" font-size=\"14.00\">value &#45;4.0000</text>\n<polyline fill=\"none\" stroke=\"black\" points=\"1156,-54.5 1156,-90.5 \"/>\n<text text-anchor=\"middle\" x=\"1207\" y=\"-68.8\" font-family=\"Times,serif\" font-size=\"14.00\">gradient 1.0000</text>\n</g>\n<!-- 4699964624*&#45;&gt;4699964624 -->\n<g id=\"edge3\" class=\"edge\">\n<title>4699964624*&#45;&gt;4699964624</title>\n<path fill=\"none\" stroke=\"black\" d=\"M1003.27,-72.5C1010.68,-72.5 1019.25,-72.5 1028.45,-72.5\"/>\n<polygon fill=\"black\" stroke=\"black\" points=\"1028.66,-76 1038.66,-72.5 1028.66,-69 1028.66,-76\"/>\n</g>\n<!-- 4699977488 -->\n<g id=\"node8\" class=\"node\">\n<title>4699977488</title>\n<polygon fill=\"none\" stroke=\"black\" points=\"5,-28.5 5,-64.5 217,-64.5 217,-28.5 5,-28.5\"/>\n<text text-anchor=\"middle\" x=\"16.5\" y=\"-42.8\" font-family=\"Times,serif\" font-size=\"14.00\">a</text>\n<polyline fill=\"none\" stroke=\"black\" points=\"28,-28.5 28,-64.5 \"/>\n<text text-anchor=\"middle\" x=\"71.5\" y=\"-42.8\" font-family=\"Times,serif\" font-size=\"14.00\">value 2.0000</text>\n<polyline fill=\"none\" stroke=\"black\" points=\"115,-28.5 115,-64.5 \"/>\n<text text-anchor=\"middle\" x=\"166\" y=\"-42.8\" font-family=\"Times,serif\" font-size=\"14.00\">gradient 6.0000</text>\n</g>\n<!-- 4699977488&#45;&gt;4699667968* -->\n<g id=\"edge9\" class=\"edge\">\n<title>4699977488&#45;&gt;4699667968*</title>\n<path fill=\"none\" stroke=\"black\" d=\"M217.01,-62.98C228.19,-64.74 238.92,-66.42 248.39,-67.91\"/>\n<polygon fill=\"black\" stroke=\"black\" points=\"248.08,-71.4 258.5,-69.5 249.16,-64.49 248.08,-71.4\"/>\n</g>\n<!-- 4699969328 -->\n<g id=\"node9\" class=\"node\">\n<title>4699969328</title>\n<polygon fill=\"none\" stroke=\"black\" points=\"350.5,-0.5 350.5,-36.5 567.5,-36.5 567.5,-0.5 350.5,-0.5\"/>\n<text text-anchor=\"middle\" x=\"362\" y=\"-14.8\" font-family=\"Times,serif\" font-size=\"14.00\">c</text>\n<polyline fill=\"none\" stroke=\"black\" points=\"373.5,-0.5 373.5,-36.5 \"/>\n<text text-anchor=\"middle\" x=\"417\" y=\"-14.8\" font-family=\"Times,serif\" font-size=\"14.00\">value 8.0000</text>\n<polyline fill=\"none\" stroke=\"black\" points=\"460.5,-0.5 460.5,-36.5 \"/>\n<text text-anchor=\"middle\" x=\"514\" y=\"-14.8\" font-family=\"Times,serif\" font-size=\"14.00\">gradient &#45;2.0000</text>\n</g>\n<!-- 4699969328&#45;&gt;4699977728+ -->\n<g id=\"edge8\" class=\"edge\">\n<title>4699969328&#45;&gt;4699977728+</title>\n<path fill=\"none\" stroke=\"black\" d=\"M567.95,-35.45C578.13,-37.04 587.86,-38.57 596.53,-39.93\"/>\n<polygon fill=\"black\" stroke=\"black\" points=\"596.12,-43.41 606.54,-41.5 597.2,-36.49 596.12,-43.41\"/>\n</g>\n<!-- 4699965824 -->\n<g id=\"node10\" class=\"node\">\n<title>4699965824</title>\n<polygon fill=\"none\" stroke=\"black\" points=\"697,-82.5 697,-118.5 912,-118.5 912,-82.5 697,-82.5\"/>\n<text text-anchor=\"middle\" x=\"707.5\" y=\"-96.8\" font-family=\"Times,serif\" font-size=\"14.00\">f</text>\n<polyline fill=\"none\" stroke=\"black\" points=\"718,-82.5 718,-118.5 \"/>\n<text text-anchor=\"middle\" x=\"764\" y=\"-96.8\" font-family=\"Times,serif\" font-size=\"14.00\">value &#45;2.0000</text>\n<polyline fill=\"none\" stroke=\"black\" points=\"810,-82.5 810,-118.5 \"/>\n<text text-anchor=\"middle\" x=\"861\" y=\"-96.8\" font-family=\"Times,serif\" font-size=\"14.00\">gradient 2.0000</text>\n</g>\n<!-- 4699965824&#45;&gt;4699964624* -->\n<g id=\"edge7\" class=\"edge\">\n<title>4699965824&#45;&gt;4699964624*</title>\n<path fill=\"none\" stroke=\"black\" d=\"M912.37,-82.85C922.03,-81.25 931.29,-79.72 939.58,-78.35\"/>\n<polygon fill=\"black\" stroke=\"black\" points=\"940.23,-81.79 949.52,-76.71 939.08,-74.89 940.23,-81.79\"/>\n</g>\n</g>\n</svg>\n",
            "text/plain": [
              "<graphviz.graphs.Digraph at 0x118203620>"
            ]
          },
          "execution_count": 150,
          "metadata": {},
          "output_type": "execute_result"
        }
      ],
      "source": [
        "a.gradient = f.value * b.value\n",
        "b.gradient = f.value * a.value\n",
        "\n",
        "draw_dot(L)"
      ]
    },
    {
      "cell_type": "markdown",
      "metadata": {},
      "source": [
        "one more example to see how we can affect the loss\n",
        "\n",
        "as we change the operand by a small value, the loss should go up"
      ]
    },
    {
      "cell_type": "code",
      "execution_count": 154,
      "metadata": {},
      "outputs": [
        {
          "data": {
            "text/plain": [
              "Variable(value=-3.23160384)"
            ]
          },
          "execution_count": 154,
          "metadata": {},
          "output_type": "execute_result"
        }
      ],
      "source": [
        "a.value += 0.01 * a.gradient\n",
        "b.value += 0.001 * b.gradient\n",
        "c.value += 0.001 * c.gradient\n",
        "f.value += 0.001 * f.gradient\n",
        "\n",
        "d = a*b\n",
        "e = d + c\n",
        "L = e * f\n",
        "\n",
        "L"
      ]
    },
    {
      "cell_type": "markdown",
      "metadata": {},
      "source": [
        "## Neural Networks are made up of layers of neurons"
      ]
    },
    {
      "cell_type": "markdown",
      "metadata": {},
      "source": [
        "### Backpropagation through a Neuron"
      ]
    },
    {
      "cell_type": "code",
      "execution_count": 277,
      "metadata": {},
      "outputs": [
        {
          "data": {
            "image/svg+xml": "<?xml version=\"1.0\" encoding=\"UTF-8\" standalone=\"no\"?>\n<!DOCTYPE svg PUBLIC \"-//W3C//DTD SVG 1.1//EN\"\n \"http://www.w3.org/Graphics/SVG/1.1/DTD/svg11.dtd\">\n<!-- Generated by graphviz version 2.50.0 (0)\n -->\n<!-- Pages: 1 -->\n<svg width=\"1696pt\" height=\"210pt\"\n viewBox=\"0.00 0.00 1696.00 210.00\" xmlns=\"http://www.w3.org/2000/svg\" xmlns:xlink=\"http://www.w3.org/1999/xlink\">\n<g id=\"graph0\" class=\"graph\" transform=\"scale(1 1) rotate(0) translate(4 206)\">\n<polygon fill=\"white\" stroke=\"transparent\" points=\"-4,4 -4,-206 1692,-206 1692,4 -4,4\"/>\n<!-- 4706352160 -->\n<g id=\"node1\" class=\"node\">\n<title>4706352160</title>\n<polygon fill=\"none\" stroke=\"black\" points=\"2.5,-165.5 2.5,-201.5 224.5,-201.5 224.5,-165.5 2.5,-165.5\"/>\n<text text-anchor=\"middle\" x=\"19\" y=\"-179.8\" font-family=\"Times,serif\" font-size=\"14.00\">w2</text>\n<polyline fill=\"none\" stroke=\"black\" points=\"35.5,-165.5 35.5,-201.5 \"/>\n<text text-anchor=\"middle\" x=\"79\" y=\"-179.8\" font-family=\"Times,serif\" font-size=\"14.00\">value 2.0000</text>\n<polyline fill=\"none\" stroke=\"black\" points=\"122.5,-165.5 122.5,-201.5 \"/>\n<text text-anchor=\"middle\" x=\"173.5\" y=\"-179.8\" font-family=\"Times,serif\" font-size=\"14.00\">gradient 0.4869</text>\n</g>\n<!-- 4706338432* -->\n<g id=\"node7\" class=\"node\">\n<title>4706338432*</title>\n<ellipse fill=\"none\" stroke=\"black\" cx=\"290\" cy=\"-128.5\" rx=\"27\" ry=\"18\"/>\n<text text-anchor=\"middle\" x=\"290\" y=\"-124.8\" font-family=\"Times,serif\" font-size=\"14.00\">*</text>\n</g>\n<!-- 4706352160&#45;&gt;4706338432* -->\n<g id=\"edge6\" class=\"edge\">\n<title>4706352160&#45;&gt;4706338432*</title>\n<path fill=\"none\" stroke=\"black\" d=\"M197.65,-165.42C207.62,-162.71 217.59,-159.72 227,-156.5 237.67,-152.85 249,-148.02 259.03,-143.41\"/>\n<polygon fill=\"black\" stroke=\"black\" points=\"260.62,-146.53 268.17,-139.1 257.63,-140.2 260.62,-146.53\"/>\n</g>\n<!-- 4706337904 -->\n<g id=\"node2\" class=\"node\">\n<title>4706337904</title>\n<polygon fill=\"none\" stroke=\"black\" points=\"1476,-54.5 1476,-90.5 1688,-90.5 1688,-54.5 1476,-54.5\"/>\n<text text-anchor=\"middle\" x=\"1487.5\" y=\"-68.8\" font-family=\"Times,serif\" font-size=\"14.00\">y</text>\n<polyline fill=\"none\" stroke=\"black\" points=\"1499,-54.5 1499,-90.5 \"/>\n<text text-anchor=\"middle\" x=\"1542.5\" y=\"-68.8\" font-family=\"Times,serif\" font-size=\"14.00\">value 0.7163</text>\n<polyline fill=\"none\" stroke=\"black\" points=\"1586,-54.5 1586,-90.5 \"/>\n<text text-anchor=\"middle\" x=\"1637\" y=\"-68.8\" font-family=\"Times,serif\" font-size=\"14.00\">gradient 1.0000</text>\n</g>\n<!-- 4706337904tanh -->\n<g id=\"node3\" class=\"node\">\n<title>4706337904tanh</title>\n<ellipse fill=\"none\" stroke=\"black\" cx=\"1413\" cy=\"-72.5\" rx=\"27\" ry=\"18\"/>\n<text text-anchor=\"middle\" x=\"1413\" y=\"-68.8\" font-family=\"Times,serif\" font-size=\"14.00\">tanh</text>\n</g>\n<!-- 4706337904tanh&#45;&gt;4706337904 -->\n<g id=\"edge1\" class=\"edge\">\n<title>4706337904tanh&#45;&gt;4706337904</title>\n<path fill=\"none\" stroke=\"black\" d=\"M1440.09,-72.5C1447.65,-72.5 1456.42,-72.5 1465.83,-72.5\"/>\n<polygon fill=\"black\" stroke=\"black\" points=\"1465.83,-76 1475.83,-72.5 1465.83,-69 1465.83,-76\"/>\n</g>\n<!-- 4706349184 -->\n<g id=\"node4\" class=\"node\">\n<title>4706349184</title>\n<polygon fill=\"none\" stroke=\"black\" points=\"353,-55.5 353,-91.5 600,-91.5 600,-55.5 353,-55.5\"/>\n<text text-anchor=\"middle\" x=\"379.5\" y=\"-69.8\" font-family=\"Times,serif\" font-size=\"14.00\">x1*w1</text>\n<polyline fill=\"none\" stroke=\"black\" points=\"406,-55.5 406,-91.5 \"/>\n<text text-anchor=\"middle\" x=\"452\" y=\"-69.8\" font-family=\"Times,serif\" font-size=\"14.00\">value &#45;4.0000</text>\n<polyline fill=\"none\" stroke=\"black\" points=\"498,-55.5 498,-91.5 \"/>\n<text text-anchor=\"middle\" x=\"549\" y=\"-69.8\" font-family=\"Times,serif\" font-size=\"14.00\">gradient 0.4869</text>\n</g>\n<!-- 4706342320+ -->\n<g id=\"node14\" class=\"node\">\n<title>4706342320+</title>\n<ellipse fill=\"none\" stroke=\"black\" cx=\"663\" cy=\"-100.5\" rx=\"27\" ry=\"18\"/>\n<text text-anchor=\"middle\" x=\"663\" y=\"-96.8\" font-family=\"Times,serif\" font-size=\"14.00\">+</text>\n</g>\n<!-- 4706349184&#45;&gt;4706342320+ -->\n<g id=\"edge11\" class=\"edge\">\n<title>4706349184&#45;&gt;4706342320+</title>\n<path fill=\"none\" stroke=\"black\" d=\"M600.05,-91.43C609.49,-92.82 618.46,-94.13 626.48,-95.3\"/>\n<polygon fill=\"black\" stroke=\"black\" points=\"626.06,-98.78 636.46,-96.76 627.07,-91.85 626.06,-98.78\"/>\n</g>\n<!-- 4706349184* -->\n<g id=\"node5\" class=\"node\">\n<title>4706349184*</title>\n<ellipse fill=\"none\" stroke=\"black\" cx=\"290\" cy=\"-73.5\" rx=\"27\" ry=\"18\"/>\n<text text-anchor=\"middle\" x=\"290\" y=\"-69.8\" font-family=\"Times,serif\" font-size=\"14.00\">*</text>\n</g>\n<!-- 4706349184*&#45;&gt;4706349184 -->\n<g id=\"edge2\" class=\"edge\">\n<title>4706349184*&#45;&gt;4706349184</title>\n<path fill=\"none\" stroke=\"black\" d=\"M317.04,-73.5C324.56,-73.5 333.32,-73.5 342.79,-73.5\"/>\n<polygon fill=\"black\" stroke=\"black\" points=\"342.89,-77 352.89,-73.5 342.89,-70 342.89,-77\"/>\n</g>\n<!-- 4706338432 -->\n<g id=\"node6\" class=\"node\">\n<title>4706338432</title>\n<polygon fill=\"none\" stroke=\"black\" points=\"355.5,-110.5 355.5,-146.5 597.5,-146.5 597.5,-110.5 355.5,-110.5\"/>\n<text text-anchor=\"middle\" x=\"382\" y=\"-124.8\" font-family=\"Times,serif\" font-size=\"14.00\">x2*w2</text>\n<polyline fill=\"none\" stroke=\"black\" points=\"408.5,-110.5 408.5,-146.5 \"/>\n<text text-anchor=\"middle\" x=\"452\" y=\"-124.8\" font-family=\"Times,serif\" font-size=\"14.00\">value 2.0000</text>\n<polyline fill=\"none\" stroke=\"black\" points=\"495.5,-110.5 495.5,-146.5 \"/>\n<text text-anchor=\"middle\" x=\"546.5\" y=\"-124.8\" font-family=\"Times,serif\" font-size=\"14.00\">gradient 0.4869</text>\n</g>\n<!-- 4706338432&#45;&gt;4706342320+ -->\n<g id=\"edge14\" class=\"edge\">\n<title>4706338432&#45;&gt;4706342320+</title>\n<path fill=\"none\" stroke=\"black\" d=\"M596.17,-110.49C607.03,-108.84 617.36,-107.27 626.48,-105.89\"/>\n<polygon fill=\"black\" stroke=\"black\" points=\"627.22,-109.32 636.59,-104.36 626.17,-102.4 627.22,-109.32\"/>\n</g>\n<!-- 4706338432*&#45;&gt;4706338432 -->\n<g id=\"edge3\" class=\"edge\">\n<title>4706338432*&#45;&gt;4706338432</title>\n<path fill=\"none\" stroke=\"black\" d=\"M317.04,-128.5C325.17,-128.5 334.75,-128.5 345.11,-128.5\"/>\n<polygon fill=\"black\" stroke=\"black\" points=\"345.26,-132 355.26,-128.5 345.26,-125 345.26,-132\"/>\n</g>\n<!-- 4706350240 -->\n<g id=\"node8\" class=\"node\">\n<title>4706350240</title>\n<polygon fill=\"none\" stroke=\"black\" points=\"1.5,-55.5 1.5,-91.5 225.5,-91.5 225.5,-55.5 1.5,-55.5\"/>\n<text text-anchor=\"middle\" x=\"16.5\" y=\"-69.8\" font-family=\"Times,serif\" font-size=\"14.00\">x1</text>\n<polyline fill=\"none\" stroke=\"black\" points=\"31.5,-55.5 31.5,-91.5 \"/>\n<text text-anchor=\"middle\" x=\"75\" y=\"-69.8\" font-family=\"Times,serif\" font-size=\"14.00\">value 2.0000</text>\n<polyline fill=\"none\" stroke=\"black\" points=\"118.5,-55.5 118.5,-91.5 \"/>\n<text text-anchor=\"middle\" x=\"172\" y=\"-69.8\" font-family=\"Times,serif\" font-size=\"14.00\">gradient &#45;0.9738</text>\n</g>\n<!-- 4706350240&#45;&gt;4706349184* -->\n<g id=\"edge7\" class=\"edge\">\n<title>4706350240&#45;&gt;4706349184*</title>\n<path fill=\"none\" stroke=\"black\" d=\"M225.51,-73.5C235.24,-73.5 244.55,-73.5 252.9,-73.5\"/>\n<polygon fill=\"black\" stroke=\"black\" points=\"252.91,-77 262.91,-73.5 252.91,-70 252.91,-77\"/>\n</g>\n<!-- 4706339104 -->\n<g id=\"node9\" class=\"node\">\n<title>4706339104</title>\n<polygon fill=\"none\" stroke=\"black\" points=\"4,-110.5 4,-146.5 223,-146.5 223,-110.5 4,-110.5\"/>\n<text text-anchor=\"middle\" x=\"19\" y=\"-124.8\" font-family=\"Times,serif\" font-size=\"14.00\">x2</text>\n<polyline fill=\"none\" stroke=\"black\" points=\"34,-110.5 34,-146.5 \"/>\n<text text-anchor=\"middle\" x=\"77.5\" y=\"-124.8\" font-family=\"Times,serif\" font-size=\"14.00\">value 1.0000</text>\n<polyline fill=\"none\" stroke=\"black\" points=\"121,-110.5 121,-146.5 \"/>\n<text text-anchor=\"middle\" x=\"172\" y=\"-124.8\" font-family=\"Times,serif\" font-size=\"14.00\">gradient 0.9738</text>\n</g>\n<!-- 4706339104&#45;&gt;4706338432* -->\n<g id=\"edge8\" class=\"edge\">\n<title>4706339104&#45;&gt;4706338432*</title>\n<path fill=\"none\" stroke=\"black\" d=\"M223.03,-128.5C233.59,-128.5 243.71,-128.5 252.71,-128.5\"/>\n<polygon fill=\"black\" stroke=\"black\" points=\"252.73,-132 262.73,-128.5 252.73,-125 252.73,-132\"/>\n</g>\n<!-- 4706349376 -->\n<g id=\"node10\" class=\"node\">\n<title>4706349376</title>\n<polygon fill=\"none\" stroke=\"black\" points=\"763,-27.5 763,-63.5 975,-63.5 975,-27.5 763,-27.5\"/>\n<text text-anchor=\"middle\" x=\"774.5\" y=\"-41.8\" font-family=\"Times,serif\" font-size=\"14.00\">b</text>\n<polyline fill=\"none\" stroke=\"black\" points=\"786,-27.5 786,-63.5 \"/>\n<text text-anchor=\"middle\" x=\"829.5\" y=\"-41.8\" font-family=\"Times,serif\" font-size=\"14.00\">value 2.9000</text>\n<polyline fill=\"none\" stroke=\"black\" points=\"873,-27.5 873,-63.5 \"/>\n<text text-anchor=\"middle\" x=\"924\" y=\"-41.8\" font-family=\"Times,serif\" font-size=\"14.00\">gradient 0.4869</text>\n</g>\n<!-- 4706347408+ -->\n<g id=\"node12\" class=\"node\">\n<title>4706347408+</title>\n<ellipse fill=\"none\" stroke=\"black\" cx=\"1075\" cy=\"-72.5\" rx=\"27\" ry=\"18\"/>\n<text text-anchor=\"middle\" x=\"1075\" y=\"-68.8\" font-family=\"Times,serif\" font-size=\"14.00\">+</text>\n</g>\n<!-- 4706349376&#45;&gt;4706347408+ -->\n<g id=\"edge13\" class=\"edge\">\n<title>4706349376&#45;&gt;4706347408+</title>\n<path fill=\"none\" stroke=\"black\" d=\"M975.29,-59.43C997.98,-62.44 1020.46,-65.41 1038.22,-67.76\"/>\n<polygon fill=\"black\" stroke=\"black\" points=\"1037.99,-71.26 1048.37,-69.11 1038.91,-64.33 1037.99,-71.26\"/>\n</g>\n<!-- 4706347408 -->\n<g id=\"node11\" class=\"node\">\n<title>4706347408</title>\n<polygon fill=\"none\" stroke=\"black\" points=\"1138,-54.5 1138,-90.5 1350,-90.5 1350,-54.5 1138,-54.5\"/>\n<text text-anchor=\"middle\" x=\"1149.5\" y=\"-68.8\" font-family=\"Times,serif\" font-size=\"14.00\">n</text>\n<polyline fill=\"none\" stroke=\"black\" points=\"1161,-54.5 1161,-90.5 \"/>\n<text text-anchor=\"middle\" x=\"1204.5\" y=\"-68.8\" font-family=\"Times,serif\" font-size=\"14.00\">value 0.9000</text>\n<polyline fill=\"none\" stroke=\"black\" points=\"1248,-54.5 1248,-90.5 \"/>\n<text text-anchor=\"middle\" x=\"1299\" y=\"-68.8\" font-family=\"Times,serif\" font-size=\"14.00\">gradient 0.4869</text>\n</g>\n<!-- 4706347408&#45;&gt;4706337904tanh -->\n<g id=\"edge9\" class=\"edge\">\n<title>4706347408&#45;&gt;4706337904tanh</title>\n<path fill=\"none\" stroke=\"black\" d=\"M1350.29,-72.5C1359.34,-72.5 1368.01,-72.5 1375.86,-72.5\"/>\n<polygon fill=\"black\" stroke=\"black\" points=\"1376,-76 1386,-72.5 1376,-69 1376,-76\"/>\n</g>\n<!-- 4706347408+&#45;&gt;4706347408 -->\n<g id=\"edge4\" class=\"edge\">\n<title>4706347408+&#45;&gt;4706347408</title>\n<path fill=\"none\" stroke=\"black\" d=\"M1102.09,-72.5C1109.65,-72.5 1118.42,-72.5 1127.83,-72.5\"/>\n<polygon fill=\"black\" stroke=\"black\" points=\"1127.83,-76 1137.83,-72.5 1127.83,-69 1127.83,-76\"/>\n</g>\n<!-- 4706342320 -->\n<g id=\"node13\" class=\"node\">\n<title>4706342320</title>\n<polygon fill=\"none\" stroke=\"black\" points=\"726,-82.5 726,-118.5 1012,-118.5 1012,-82.5 726,-82.5\"/>\n<text text-anchor=\"middle\" x=\"772\" y=\"-96.8\" font-family=\"Times,serif\" font-size=\"14.00\">x1w1 + x2w2</text>\n<polyline fill=\"none\" stroke=\"black\" points=\"818,-82.5 818,-118.5 \"/>\n<text text-anchor=\"middle\" x=\"864\" y=\"-96.8\" font-family=\"Times,serif\" font-size=\"14.00\">value &#45;2.0000</text>\n<polyline fill=\"none\" stroke=\"black\" points=\"910,-82.5 910,-118.5 \"/>\n<text text-anchor=\"middle\" x=\"961\" y=\"-96.8\" font-family=\"Times,serif\" font-size=\"14.00\">gradient 0.4869</text>\n</g>\n<!-- 4706342320&#45;&gt;4706347408+ -->\n<g id=\"edge12\" class=\"edge\">\n<title>4706342320&#45;&gt;4706347408+</title>\n<path fill=\"none\" stroke=\"black\" d=\"M1001.22,-82.49C1014.56,-80.66 1027.17,-78.93 1038.03,-77.44\"/>\n<polygon fill=\"black\" stroke=\"black\" points=\"1038.84,-80.86 1048.27,-76.03 1037.89,-73.92 1038.84,-80.86\"/>\n</g>\n<!-- 4706342320+&#45;&gt;4706342320 -->\n<g id=\"edge5\" class=\"edge\">\n<title>4706342320+&#45;&gt;4706342320</title>\n<path fill=\"none\" stroke=\"black\" d=\"M690.25,-100.5C697.68,-100.5 706.33,-100.5 715.75,-100.5\"/>\n<polygon fill=\"black\" stroke=\"black\" points=\"715.82,-104 725.82,-100.5 715.82,-97 715.82,-104\"/>\n</g>\n<!-- 4706352112 -->\n<g id=\"node15\" class=\"node\">\n<title>4706352112</title>\n<polygon fill=\"none\" stroke=\"black\" points=\"0,-0.5 0,-36.5 227,-36.5 227,-0.5 0,-0.5\"/>\n<text text-anchor=\"middle\" x=\"16.5\" y=\"-14.8\" font-family=\"Times,serif\" font-size=\"14.00\">w1</text>\n<polyline fill=\"none\" stroke=\"black\" points=\"33,-0.5 33,-36.5 \"/>\n<text text-anchor=\"middle\" x=\"79\" y=\"-14.8\" font-family=\"Times,serif\" font-size=\"14.00\">value &#45;2.0000</text>\n<polyline fill=\"none\" stroke=\"black\" points=\"125,-0.5 125,-36.5 \"/>\n<text text-anchor=\"middle\" x=\"176\" y=\"-14.8\" font-family=\"Times,serif\" font-size=\"14.00\">gradient 0.9738</text>\n</g>\n<!-- 4706352112&#45;&gt;4706349184* -->\n<g id=\"edge10\" class=\"edge\">\n<title>4706352112&#45;&gt;4706349184*</title>\n<path fill=\"none\" stroke=\"black\" d=\"M193.97,-36.51C205.14,-39.56 216.42,-42.91 227,-46.5 237.34,-50.01 248.35,-54.53 258.18,-58.87\"/>\n<polygon fill=\"black\" stroke=\"black\" points=\"256.99,-62.17 267.54,-63.1 259.87,-55.79 256.99,-62.17\"/>\n</g>\n</g>\n</svg>\n",
            "text/plain": [
              "<graphviz.graphs.Digraph at 0x118850560>"
            ]
          },
          "execution_count": 277,
          "metadata": {},
          "output_type": "execute_result"
        }
      ],
      "source": [
        "# single neuron\n",
        "\n",
        "# inputs: x1, x2\n",
        "x1 = Operand(2.0, _label='x1')\n",
        "x2 = Operand(1.0, _label='x2')\n",
        "\n",
        "# weights: w1, w2\n",
        "w1 = Operand(-2.0, _label='w1')\n",
        "w2 = Operand(2.0, _label='w2')\n",
        "\n",
        "# bias\n",
        "b = Operand(2.9, _label='b')\n",
        "\n",
        "# loss: x1*w1 + x2*w2 + b\n",
        "x1w1 = x1 * w1; x1w1._label ='x1*w1'\n",
        "x2w2 = x2 * w2; x2w2._label = 'x2*w2' \n",
        "x1w1x2w2 = x1w1 + x2w2; x1w1x2w2._label = 'x1w1 + x2w2'\n",
        "n = x1w1x2w2 + b; n._label = 'n'\n",
        "\n",
        "y = n.tanh(); y._label='y'\n",
        "y.backward()\n",
        "draw_dot(y)"
      ]
    },
    {
      "cell_type": "code",
      "execution_count": 281,
      "metadata": {},
      "outputs": [
        {
          "data": {
            "image/svg+xml": "<?xml version=\"1.0\" encoding=\"UTF-8\" standalone=\"no\"?>\n<!DOCTYPE svg PUBLIC \"-//W3C//DTD SVG 1.1//EN\"\n \"http://www.w3.org/Graphics/SVG/1.1/DTD/svg11.dtd\">\n<!-- Generated by graphviz version 2.50.0 (0)\n -->\n<!-- Pages: 1 -->\n<svg width=\"3201pt\" height=\"210pt\"\n viewBox=\"0.00 0.00 3201.00 210.00\" xmlns=\"http://www.w3.org/2000/svg\" xmlns:xlink=\"http://www.w3.org/1999/xlink\">\n<g id=\"graph0\" class=\"graph\" transform=\"scale(1 1) rotate(0) translate(4 206)\">\n<polygon fill=\"white\" stroke=\"transparent\" points=\"-4,4 -4,-206 3197,-206 3197,4 -4,4\"/>\n<!-- 4701330448 -->\n<g id=\"node1\" class=\"node\">\n<title>4701330448</title>\n<polygon fill=\"none\" stroke=\"black\" points=\"1812,-81.5 1812,-117.5 2024,-117.5 2024,-81.5 1812,-81.5\"/>\n<text text-anchor=\"middle\" x=\"1823.5\" y=\"-95.8\" font-family=\"Times,serif\" font-size=\"14.00\">e</text>\n<polyline fill=\"none\" stroke=\"black\" points=\"1835,-81.5 1835,-117.5 \"/>\n<text text-anchor=\"middle\" x=\"1878.5\" y=\"-95.8\" font-family=\"Times,serif\" font-size=\"14.00\">value 6.0496</text>\n<polyline fill=\"none\" stroke=\"black\" points=\"1922,-81.5 1922,-117.5 \"/>\n<text text-anchor=\"middle\" x=\"1973\" y=\"-95.8\" font-family=\"Times,serif\" font-size=\"14.00\">gradient 0.0402</text>\n</g>\n<!-- 4701324928+ -->\n<g id=\"node9\" class=\"node\">\n<title>4701324928+</title>\n<ellipse fill=\"none\" stroke=\"black\" cx=\"2088\" cy=\"-71.5\" rx=\"27\" ry=\"18\"/>\n<text text-anchor=\"middle\" x=\"2088\" y=\"-67.8\" font-family=\"Times,serif\" font-size=\"14.00\">+</text>\n</g>\n<!-- 4701330448&#45;&gt;4701324928+ -->\n<g id=\"edge16\" class=\"edge\">\n<title>4701330448&#45;&gt;4701324928+</title>\n<path fill=\"none\" stroke=\"black\" d=\"M2024.44,-81.93C2034.08,-80.32 2043.32,-78.78 2051.6,-77.4\"/>\n<polygon fill=\"black\" stroke=\"black\" points=\"2052.24,-80.84 2061.53,-75.74 2051.09,-73.94 2052.24,-80.84\"/>\n</g>\n<!-- 4701334768+ -->\n<g id=\"node13\" class=\"node\">\n<title>4701334768+</title>\n<ellipse fill=\"none\" stroke=\"black\" cx=\"2088\" cy=\"-126.5\" rx=\"27\" ry=\"18\"/>\n<text text-anchor=\"middle\" x=\"2088\" y=\"-122.8\" font-family=\"Times,serif\" font-size=\"14.00\">+</text>\n</g>\n<!-- 4701330448&#45;&gt;4701334768+ -->\n<g id=\"edge15\" class=\"edge\">\n<title>4701330448&#45;&gt;4701334768+</title>\n<path fill=\"none\" stroke=\"black\" d=\"M2024.44,-116.45C2034.08,-118 2043.32,-119.48 2051.6,-120.81\"/>\n<polygon fill=\"black\" stroke=\"black\" points=\"2051.1,-124.28 2061.53,-122.41 2052.21,-117.36 2051.1,-124.28\"/>\n</g>\n<!-- 4701330448exp -->\n<g id=\"node2\" class=\"node\">\n<title>4701330448exp</title>\n<ellipse fill=\"none\" stroke=\"black\" cx=\"1748\" cy=\"-99.5\" rx=\"27\" ry=\"18\"/>\n<text text-anchor=\"middle\" x=\"1748\" y=\"-95.8\" font-family=\"Times,serif\" font-size=\"14.00\">exp</text>\n</g>\n<!-- 4701330448exp&#45;&gt;4701330448 -->\n<g id=\"edge1\" class=\"edge\">\n<title>4701330448exp&#45;&gt;4701330448</title>\n<path fill=\"none\" stroke=\"black\" d=\"M1775.25,-99.5C1782.99,-99.5 1792,-99.5 1801.65,-99.5\"/>\n<polygon fill=\"black\" stroke=\"black\" points=\"1801.92,-103 1811.92,-99.5 1801.92,-96 1801.92,-103\"/>\n</g>\n<!-- 4701324304 -->\n<g id=\"node3\" class=\"node\">\n<title>4701324304</title>\n<polygon fill=\"none\" stroke=\"black\" points=\"1.5,-165.5 1.5,-201.5 225.5,-201.5 225.5,-165.5 1.5,-165.5\"/>\n<text text-anchor=\"middle\" x=\"16.5\" y=\"-179.8\" font-family=\"Times,serif\" font-size=\"14.00\">x1</text>\n<polyline fill=\"none\" stroke=\"black\" points=\"31.5,-165.5 31.5,-201.5 \"/>\n<text text-anchor=\"middle\" x=\"75\" y=\"-179.8\" font-family=\"Times,serif\" font-size=\"14.00\">value 2.0000</text>\n<polyline fill=\"none\" stroke=\"black\" points=\"118.5,-165.5 118.5,-201.5 \"/>\n<text text-anchor=\"middle\" x=\"172\" y=\"-179.8\" font-family=\"Times,serif\" font-size=\"14.00\">gradient &#45;0.9738</text>\n</g>\n<!-- 4701332560* -->\n<g id=\"node5\" class=\"node\">\n<title>4701332560*</title>\n<ellipse fill=\"none\" stroke=\"black\" cx=\"290\" cy=\"-128.5\" rx=\"27\" ry=\"18\"/>\n<text text-anchor=\"middle\" x=\"290\" y=\"-124.8\" font-family=\"Times,serif\" font-size=\"14.00\">*</text>\n</g>\n<!-- 4701324304&#45;&gt;4701332560* -->\n<g id=\"edge13\" class=\"edge\">\n<title>4701324304&#45;&gt;4701332560*</title>\n<path fill=\"none\" stroke=\"black\" d=\"M197.65,-165.42C207.62,-162.71 217.59,-159.72 227,-156.5 237.67,-152.85 249,-148.02 259.03,-143.41\"/>\n<polygon fill=\"black\" stroke=\"black\" points=\"260.62,-146.53 268.17,-139.1 257.63,-140.2 260.62,-146.53\"/>\n</g>\n<!-- 4701332560 -->\n<g id=\"node4\" class=\"node\">\n<title>4701332560</title>\n<polygon fill=\"none\" stroke=\"black\" points=\"353,-110.5 353,-146.5 600,-146.5 600,-110.5 353,-110.5\"/>\n<text text-anchor=\"middle\" x=\"379.5\" y=\"-124.8\" font-family=\"Times,serif\" font-size=\"14.00\">x1*w1</text>\n<polyline fill=\"none\" stroke=\"black\" points=\"406,-110.5 406,-146.5 \"/>\n<text text-anchor=\"middle\" x=\"452\" y=\"-124.8\" font-family=\"Times,serif\" font-size=\"14.00\">value &#45;4.0000</text>\n<polyline fill=\"none\" stroke=\"black\" points=\"498,-110.5 498,-146.5 \"/>\n<text text-anchor=\"middle\" x=\"549\" y=\"-124.8\" font-family=\"Times,serif\" font-size=\"14.00\">gradient 0.4869</text>\n</g>\n<!-- 4701333280+ -->\n<g id=\"node17\" class=\"node\">\n<title>4701333280+</title>\n<ellipse fill=\"none\" stroke=\"black\" cx=\"663\" cy=\"-100.5\" rx=\"27\" ry=\"18\"/>\n<text text-anchor=\"middle\" x=\"663\" y=\"-96.8\" font-family=\"Times,serif\" font-size=\"14.00\">+</text>\n</g>\n<!-- 4701332560&#45;&gt;4701333280+ -->\n<g id=\"edge24\" class=\"edge\">\n<title>4701332560&#45;&gt;4701333280+</title>\n<path fill=\"none\" stroke=\"black\" d=\"M596.17,-110.49C607.03,-108.84 617.36,-107.27 626.48,-105.89\"/>\n<polygon fill=\"black\" stroke=\"black\" points=\"627.22,-109.32 636.59,-104.36 626.17,-102.4 627.22,-109.32\"/>\n</g>\n<!-- 4701332560*&#45;&gt;4701332560 -->\n<g id=\"edge2\" class=\"edge\">\n<title>4701332560*&#45;&gt;4701332560</title>\n<path fill=\"none\" stroke=\"black\" d=\"M317.04,-128.5C324.56,-128.5 333.32,-128.5 342.79,-128.5\"/>\n<polygon fill=\"black\" stroke=\"black\" points=\"342.89,-132 352.89,-128.5 342.89,-125 342.89,-132\"/>\n</g>\n<!-- 4701331072 -->\n<g id=\"node6\" class=\"node\">\n<title>4701331072</title>\n<polygon fill=\"none\" stroke=\"black\" points=\"2646,-57.5 2646,-93.5 2855,-93.5 2855,-57.5 2646,-57.5\"/>\n<text text-anchor=\"middle\" x=\"2656\" y=\"-71.8\" font-family=\"Times,serif\" font-size=\"14.00\"> </text>\n<polyline fill=\"none\" stroke=\"black\" points=\"2666,-57.5 2666,-93.5 \"/>\n<text text-anchor=\"middle\" x=\"2709.5\" y=\"-71.8\" font-family=\"Times,serif\" font-size=\"14.00\">value 0.1419</text>\n<polyline fill=\"none\" stroke=\"black\" points=\"2753,-57.5 2753,-93.5 \"/>\n<text text-anchor=\"middle\" x=\"2804\" y=\"-71.8\" font-family=\"Times,serif\" font-size=\"14.00\">gradient 5.0496</text>\n</g>\n<!-- 4701335824* -->\n<g id=\"node15\" class=\"node\">\n<title>4701335824*</title>\n<ellipse fill=\"none\" stroke=\"black\" cx=\"2918\" cy=\"-98.5\" rx=\"27\" ry=\"18\"/>\n<text text-anchor=\"middle\" x=\"2918\" y=\"-94.8\" font-family=\"Times,serif\" font-size=\"14.00\">*</text>\n</g>\n<!-- 4701331072&#45;&gt;4701335824* -->\n<g id=\"edge17\" class=\"edge\">\n<title>4701331072&#45;&gt;4701335824*</title>\n<path fill=\"none\" stroke=\"black\" d=\"M2855.37,-89.94C2864.59,-91.22 2873.42,-92.44 2881.39,-93.55\"/>\n<polygon fill=\"black\" stroke=\"black\" points=\"2880.92,-97.02 2891.31,-94.93 2881.89,-90.09 2880.92,-97.02\"/>\n</g>\n<!-- 4701331072**&#45;1 -->\n<g id=\"node7\" class=\"node\">\n<title>4701331072**&#45;1</title>\n<ellipse fill=\"none\" stroke=\"black\" cx=\"2505.5\" cy=\"-71.5\" rx=\"27\" ry=\"18\"/>\n<text text-anchor=\"middle\" x=\"2505.5\" y=\"-67.8\" font-family=\"Times,serif\" font-size=\"14.00\">**&#45;1</text>\n</g>\n<!-- 4701331072**&#45;1&#45;&gt;4701331072 -->\n<g id=\"edge3\" class=\"edge\">\n<title>4701331072**&#45;1&#45;&gt;4701331072</title>\n<path fill=\"none\" stroke=\"black\" d=\"M2532.51,-71.93C2557.51,-72.34 2597.1,-72.99 2635.66,-73.63\"/>\n<polygon fill=\"black\" stroke=\"black\" points=\"2635.9,-77.13 2645.96,-73.8 2636.02,-70.13 2635.9,-77.13\"/>\n</g>\n<!-- 4701324928 -->\n<g id=\"node8\" class=\"node\">\n<title>4701324928</title>\n<polygon fill=\"none\" stroke=\"black\" points=\"2151,-53.5 2151,-89.5 2365,-89.5 2365,-53.5 2151,-53.5\"/>\n<text text-anchor=\"middle\" x=\"2161\" y=\"-67.8\" font-family=\"Times,serif\" font-size=\"14.00\"> </text>\n<polyline fill=\"none\" stroke=\"black\" points=\"2171,-53.5 2171,-89.5 \"/>\n<text text-anchor=\"middle\" x=\"2214.5\" y=\"-67.8\" font-family=\"Times,serif\" font-size=\"14.00\">value 7.0496</text>\n<polyline fill=\"none\" stroke=\"black\" points=\"2258,-53.5 2258,-89.5 \"/>\n<text text-anchor=\"middle\" x=\"2311.5\" y=\"-67.8\" font-family=\"Times,serif\" font-size=\"14.00\">gradient &#45;0.1016</text>\n</g>\n<!-- 4701324928&#45;&gt;4701331072**&#45;1 -->\n<g id=\"edge22\" class=\"edge\">\n<title>4701324928&#45;&gt;4701331072**&#45;1</title>\n<path fill=\"none\" stroke=\"black\" d=\"M2365.25,-71.5C2402.09,-71.5 2440.95,-71.5 2468.22,-71.5\"/>\n<polygon fill=\"black\" stroke=\"black\" points=\"2468.44,-75 2478.44,-71.5 2468.44,-68 2468.44,-75\"/>\n</g>\n<!-- 4701324928+&#45;&gt;4701324928 -->\n<g id=\"edge4\" class=\"edge\">\n<title>4701324928+&#45;&gt;4701324928</title>\n<path fill=\"none\" stroke=\"black\" d=\"M2115.25,-71.5C2122.7,-71.5 2131.34,-71.5 2140.59,-71.5\"/>\n<polygon fill=\"black\" stroke=\"black\" points=\"2140.84,-75 2150.84,-71.5 2140.84,-68 2140.84,-75\"/>\n</g>\n<!-- 4701331168 -->\n<g id=\"node10\" class=\"node\">\n<title>4701331168</title>\n<polygon fill=\"none\" stroke=\"black\" points=\"2.5,-55.5 2.5,-91.5 224.5,-91.5 224.5,-55.5 2.5,-55.5\"/>\n<text text-anchor=\"middle\" x=\"19\" y=\"-69.8\" font-family=\"Times,serif\" font-size=\"14.00\">w2</text>\n<polyline fill=\"none\" stroke=\"black\" points=\"35.5,-55.5 35.5,-91.5 \"/>\n<text text-anchor=\"middle\" x=\"79\" y=\"-69.8\" font-family=\"Times,serif\" font-size=\"14.00\">value 2.0000</text>\n<polyline fill=\"none\" stroke=\"black\" points=\"122.5,-55.5 122.5,-91.5 \"/>\n<text text-anchor=\"middle\" x=\"173.5\" y=\"-69.8\" font-family=\"Times,serif\" font-size=\"14.00\">gradient 0.4869</text>\n</g>\n<!-- 4701330832* -->\n<g id=\"node27\" class=\"node\">\n<title>4701330832*</title>\n<ellipse fill=\"none\" stroke=\"black\" cx=\"290\" cy=\"-73.5\" rx=\"27\" ry=\"18\"/>\n<text text-anchor=\"middle\" x=\"290\" y=\"-69.8\" font-family=\"Times,serif\" font-size=\"14.00\">*</text>\n</g>\n<!-- 4701331168&#45;&gt;4701330832* -->\n<g id=\"edge11\" class=\"edge\">\n<title>4701331168&#45;&gt;4701330832*</title>\n<path fill=\"none\" stroke=\"black\" d=\"M224.52,-73.5C234.47,-73.5 244,-73.5 252.53,-73.5\"/>\n<polygon fill=\"black\" stroke=\"black\" points=\"252.77,-77 262.77,-73.5 252.77,-70 252.77,-77\"/>\n</g>\n<!-- 4701327088 -->\n<g id=\"node11\" class=\"node\">\n<title>4701327088</title>\n<polygon fill=\"none\" stroke=\"black\" points=\"1811,-26.5 1811,-62.5 2025,-62.5 2025,-26.5 1811,-26.5\"/>\n<text text-anchor=\"middle\" x=\"1821\" y=\"-40.8\" font-family=\"Times,serif\" font-size=\"14.00\"> </text>\n<polyline fill=\"none\" stroke=\"black\" points=\"1831,-26.5 1831,-62.5 \"/>\n<text text-anchor=\"middle\" x=\"1874.5\" y=\"-40.8\" font-family=\"Times,serif\" font-size=\"14.00\">value 1.0000</text>\n<polyline fill=\"none\" stroke=\"black\" points=\"1918,-26.5 1918,-62.5 \"/>\n<text text-anchor=\"middle\" x=\"1971.5\" y=\"-40.8\" font-family=\"Times,serif\" font-size=\"14.00\">gradient &#45;0.1016</text>\n</g>\n<!-- 4701327088&#45;&gt;4701324928+ -->\n<g id=\"edge26\" class=\"edge\">\n<title>4701327088&#45;&gt;4701324928+</title>\n<path fill=\"none\" stroke=\"black\" d=\"M2025.4,-61.6C2034.72,-63.1 2043.65,-64.53 2051.68,-65.82\"/>\n<polygon fill=\"black\" stroke=\"black\" points=\"2051.24,-69.3 2061.66,-67.43 2052.35,-62.39 2051.24,-69.3\"/>\n</g>\n<!-- 4701334768 -->\n<g id=\"node12\" class=\"node\">\n<title>4701334768</title>\n<polygon fill=\"none\" stroke=\"black\" points=\"2401,-108.5 2401,-144.5 2610,-144.5 2610,-108.5 2401,-108.5\"/>\n<text text-anchor=\"middle\" x=\"2411\" y=\"-122.8\" font-family=\"Times,serif\" font-size=\"14.00\"> </text>\n<polyline fill=\"none\" stroke=\"black\" points=\"2421,-108.5 2421,-144.5 \"/>\n<text text-anchor=\"middle\" x=\"2464.5\" y=\"-122.8\" font-family=\"Times,serif\" font-size=\"14.00\">value 5.0496</text>\n<polyline fill=\"none\" stroke=\"black\" points=\"2508,-108.5 2508,-144.5 \"/>\n<text text-anchor=\"middle\" x=\"2559\" y=\"-122.8\" font-family=\"Times,serif\" font-size=\"14.00\">gradient 0.1419</text>\n</g>\n<!-- 4701334768&#45;&gt;4701335824* -->\n<g id=\"edge25\" class=\"edge\">\n<title>4701334768&#45;&gt;4701335824*</title>\n<path fill=\"none\" stroke=\"black\" d=\"M2610.22,-120.05C2679.54,-115.64 2772.76,-109.53 2855,-103.5 2863.42,-102.88 2872.48,-102.18 2881.01,-101.49\"/>\n<polygon fill=\"black\" stroke=\"black\" points=\"2881.38,-104.97 2891.06,-100.68 2880.81,-98 2881.38,-104.97\"/>\n</g>\n<!-- 4701334768+&#45;&gt;4701334768 -->\n<g id=\"edge5\" class=\"edge\">\n<title>4701334768+&#45;&gt;4701334768</title>\n<path fill=\"none\" stroke=\"black\" d=\"M2115.31,-126.5C2169.52,-126.5 2296.51,-126.5 2390.77,-126.5\"/>\n<polygon fill=\"black\" stroke=\"black\" points=\"2390.94,-130 2400.94,-126.5 2390.94,-123 2390.94,-130\"/>\n</g>\n<!-- 4701335824 -->\n<g id=\"node14\" class=\"node\">\n<title>4701335824</title>\n<polygon fill=\"none\" stroke=\"black\" points=\"2981,-80.5 2981,-116.5 3193,-116.5 3193,-80.5 2981,-80.5\"/>\n<text text-anchor=\"middle\" x=\"2992.5\" y=\"-94.8\" font-family=\"Times,serif\" font-size=\"14.00\">y</text>\n<polyline fill=\"none\" stroke=\"black\" points=\"3004,-80.5 3004,-116.5 \"/>\n<text text-anchor=\"middle\" x=\"3047.5\" y=\"-94.8\" font-family=\"Times,serif\" font-size=\"14.00\">value 0.7163</text>\n<polyline fill=\"none\" stroke=\"black\" points=\"3091,-80.5 3091,-116.5 \"/>\n<text text-anchor=\"middle\" x=\"3142\" y=\"-94.8\" font-family=\"Times,serif\" font-size=\"14.00\">gradient 1.0000</text>\n</g>\n<!-- 4701335824*&#45;&gt;4701335824 -->\n<g id=\"edge6\" class=\"edge\">\n<title>4701335824*&#45;&gt;4701335824</title>\n<path fill=\"none\" stroke=\"black\" d=\"M2945.09,-98.5C2952.65,-98.5 2961.42,-98.5 2970.83,-98.5\"/>\n<polygon fill=\"black\" stroke=\"black\" points=\"2970.83,-102 2980.83,-98.5 2970.83,-95 2970.83,-102\"/>\n</g>\n<!-- 4701333280 -->\n<g id=\"node16\" class=\"node\">\n<title>4701333280</title>\n<polygon fill=\"none\" stroke=\"black\" points=\"726,-82.5 726,-118.5 1012,-118.5 1012,-82.5 726,-82.5\"/>\n<text text-anchor=\"middle\" x=\"772\" y=\"-96.8\" font-family=\"Times,serif\" font-size=\"14.00\">x1w1 + x2w2</text>\n<polyline fill=\"none\" stroke=\"black\" points=\"818,-82.5 818,-118.5 \"/>\n<text text-anchor=\"middle\" x=\"864\" y=\"-96.8\" font-family=\"Times,serif\" font-size=\"14.00\">value &#45;2.0000</text>\n<polyline fill=\"none\" stroke=\"black\" points=\"910,-82.5 910,-118.5 \"/>\n<text text-anchor=\"middle\" x=\"961\" y=\"-96.8\" font-family=\"Times,serif\" font-size=\"14.00\">gradient 0.4869</text>\n</g>\n<!-- 4701328768+ -->\n<g id=\"node25\" class=\"node\">\n<title>4701328768+</title>\n<ellipse fill=\"none\" stroke=\"black\" cx=\"1075\" cy=\"-72.5\" rx=\"27\" ry=\"18\"/>\n<text text-anchor=\"middle\" x=\"1075\" y=\"-68.8\" font-family=\"Times,serif\" font-size=\"14.00\">+</text>\n</g>\n<!-- 4701333280&#45;&gt;4701328768+ -->\n<g id=\"edge21\" class=\"edge\">\n<title>4701333280&#45;&gt;4701328768+</title>\n<path fill=\"none\" stroke=\"black\" d=\"M1001.22,-82.49C1014.56,-80.66 1027.17,-78.93 1038.03,-77.44\"/>\n<polygon fill=\"black\" stroke=\"black\" points=\"1038.84,-80.86 1048.27,-76.03 1037.89,-73.92 1038.84,-80.86\"/>\n</g>\n<!-- 4701333280+&#45;&gt;4701333280 -->\n<g id=\"edge7\" class=\"edge\">\n<title>4701333280+&#45;&gt;4701333280</title>\n<path fill=\"none\" stroke=\"black\" d=\"M690.25,-100.5C697.68,-100.5 706.33,-100.5 715.75,-100.5\"/>\n<polygon fill=\"black\" stroke=\"black\" points=\"715.82,-104 725.82,-100.5 715.82,-97 715.82,-104\"/>\n</g>\n<!-- 4701329680 -->\n<g id=\"node18\" class=\"node\">\n<title>4701329680</title>\n<polygon fill=\"none\" stroke=\"black\" points=\"4,-0.5 4,-36.5 223,-36.5 223,-0.5 4,-0.5\"/>\n<text text-anchor=\"middle\" x=\"19\" y=\"-14.8\" font-family=\"Times,serif\" font-size=\"14.00\">x2</text>\n<polyline fill=\"none\" stroke=\"black\" points=\"34,-0.5 34,-36.5 \"/>\n<text text-anchor=\"middle\" x=\"77.5\" y=\"-14.8\" font-family=\"Times,serif\" font-size=\"14.00\">value 1.0000</text>\n<polyline fill=\"none\" stroke=\"black\" points=\"121,-0.5 121,-36.5 \"/>\n<text text-anchor=\"middle\" x=\"172\" y=\"-14.8\" font-family=\"Times,serif\" font-size=\"14.00\">gradient 0.9738</text>\n</g>\n<!-- 4701329680&#45;&gt;4701330832* -->\n<g id=\"edge19\" class=\"edge\">\n<title>4701329680&#45;&gt;4701330832*</title>\n<path fill=\"none\" stroke=\"black\" d=\"M197.65,-36.58C207.62,-39.29 217.59,-42.28 227,-45.5 237.67,-49.15 249,-53.98 259.03,-58.59\"/>\n<polygon fill=\"black\" stroke=\"black\" points=\"257.63,-61.8 268.17,-62.9 260.62,-55.47 257.63,-61.8\"/>\n</g>\n<!-- 4701334816 -->\n<g id=\"node19\" class=\"node\">\n<title>4701334816</title>\n<polygon fill=\"none\" stroke=\"black\" points=\"1139.5,-109.5 1139.5,-145.5 1348.5,-145.5 1348.5,-109.5 1139.5,-109.5\"/>\n<text text-anchor=\"middle\" x=\"1149.5\" y=\"-123.8\" font-family=\"Times,serif\" font-size=\"14.00\"> </text>\n<polyline fill=\"none\" stroke=\"black\" points=\"1159.5,-109.5 1159.5,-145.5 \"/>\n<text text-anchor=\"middle\" x=\"1203\" y=\"-123.8\" font-family=\"Times,serif\" font-size=\"14.00\">value 2.0000</text>\n<polyline fill=\"none\" stroke=\"black\" points=\"1246.5,-109.5 1246.5,-145.5 \"/>\n<text text-anchor=\"middle\" x=\"1297.5\" y=\"-123.8\" font-family=\"Times,serif\" font-size=\"14.00\">gradient 0.2191</text>\n</g>\n<!-- 4701331792* -->\n<g id=\"node21\" class=\"node\">\n<title>4701331792*</title>\n<ellipse fill=\"none\" stroke=\"black\" cx=\"1413\" cy=\"-99.5\" rx=\"27\" ry=\"18\"/>\n<text text-anchor=\"middle\" x=\"1413\" y=\"-95.8\" font-family=\"Times,serif\" font-size=\"14.00\">*</text>\n</g>\n<!-- 4701334816&#45;&gt;4701331792* -->\n<g id=\"edge20\" class=\"edge\">\n<title>4701334816&#45;&gt;4701331792*</title>\n<path fill=\"none\" stroke=\"black\" d=\"M1348.86,-110.09C1358.66,-108.44 1368.05,-106.87 1376.47,-105.46\"/>\n<polygon fill=\"black\" stroke=\"black\" points=\"1377.27,-108.87 1386.55,-103.77 1376.11,-101.97 1377.27,-108.87\"/>\n</g>\n<!-- 4701331792 -->\n<g id=\"node20\" class=\"node\">\n<title>4701331792</title>\n<polygon fill=\"none\" stroke=\"black\" points=\"1476,-81.5 1476,-117.5 1685,-117.5 1685,-81.5 1476,-81.5\"/>\n<text text-anchor=\"middle\" x=\"1486\" y=\"-95.8\" font-family=\"Times,serif\" font-size=\"14.00\"> </text>\n<polyline fill=\"none\" stroke=\"black\" points=\"1496,-81.5 1496,-117.5 \"/>\n<text text-anchor=\"middle\" x=\"1539.5\" y=\"-95.8\" font-family=\"Times,serif\" font-size=\"14.00\">value 1.8000</text>\n<polyline fill=\"none\" stroke=\"black\" points=\"1583,-81.5 1583,-117.5 \"/>\n<text text-anchor=\"middle\" x=\"1634\" y=\"-95.8\" font-family=\"Times,serif\" font-size=\"14.00\">gradient 0.2435</text>\n</g>\n<!-- 4701331792&#45;&gt;4701330448exp -->\n<g id=\"edge23\" class=\"edge\">\n<title>4701331792&#45;&gt;4701330448exp</title>\n<path fill=\"none\" stroke=\"black\" d=\"M1685.37,-99.5C1694.3,-99.5 1702.88,-99.5 1710.65,-99.5\"/>\n<polygon fill=\"black\" stroke=\"black\" points=\"1710.71,-103 1720.71,-99.5 1710.71,-96 1710.71,-103\"/>\n</g>\n<!-- 4701331792*&#45;&gt;4701331792 -->\n<g id=\"edge8\" class=\"edge\">\n<title>4701331792*&#45;&gt;4701331792</title>\n<path fill=\"none\" stroke=\"black\" d=\"M1440.22,-99.5C1447.8,-99.5 1456.59,-99.5 1465.99,-99.5\"/>\n<polygon fill=\"black\" stroke=\"black\" points=\"1465.99,-103 1475.99,-99.5 1465.99,-96 1465.99,-103\"/>\n</g>\n<!-- 4701329248 -->\n<g id=\"node22\" class=\"node\">\n<title>4701329248</title>\n<polygon fill=\"none\" stroke=\"black\" points=\"0,-110.5 0,-146.5 227,-146.5 227,-110.5 0,-110.5\"/>\n<text text-anchor=\"middle\" x=\"16.5\" y=\"-124.8\" font-family=\"Times,serif\" font-size=\"14.00\">w1</text>\n<polyline fill=\"none\" stroke=\"black\" points=\"33,-110.5 33,-146.5 \"/>\n<text text-anchor=\"middle\" x=\"79\" y=\"-124.8\" font-family=\"Times,serif\" font-size=\"14.00\">value &#45;2.0000</text>\n<polyline fill=\"none\" stroke=\"black\" points=\"125,-110.5 125,-146.5 \"/>\n<text text-anchor=\"middle\" x=\"176\" y=\"-124.8\" font-family=\"Times,serif\" font-size=\"14.00\">gradient 0.9738</text>\n</g>\n<!-- 4701329248&#45;&gt;4701332560* -->\n<g id=\"edge28\" class=\"edge\">\n<title>4701329248&#45;&gt;4701332560*</title>\n<path fill=\"none\" stroke=\"black\" d=\"M227.48,-128.5C236.49,-128.5 245.09,-128.5 252.87,-128.5\"/>\n<polygon fill=\"black\" stroke=\"black\" points=\"252.91,-132 262.91,-128.5 252.91,-125 252.91,-132\"/>\n</g>\n<!-- 4701331312 -->\n<g id=\"node23\" class=\"node\">\n<title>4701331312</title>\n<polygon fill=\"none\" stroke=\"black\" points=\"763,-27.5 763,-63.5 975,-63.5 975,-27.5 763,-27.5\"/>\n<text text-anchor=\"middle\" x=\"774.5\" y=\"-41.8\" font-family=\"Times,serif\" font-size=\"14.00\">b</text>\n<polyline fill=\"none\" stroke=\"black\" points=\"786,-27.5 786,-63.5 \"/>\n<text text-anchor=\"middle\" x=\"829.5\" y=\"-41.8\" font-family=\"Times,serif\" font-size=\"14.00\">value 2.9000</text>\n<polyline fill=\"none\" stroke=\"black\" points=\"873,-27.5 873,-63.5 \"/>\n<text text-anchor=\"middle\" x=\"924\" y=\"-41.8\" font-family=\"Times,serif\" font-size=\"14.00\">gradient 0.4869</text>\n</g>\n<!-- 4701331312&#45;&gt;4701328768+ -->\n<g id=\"edge14\" class=\"edge\">\n<title>4701331312&#45;&gt;4701328768+</title>\n<path fill=\"none\" stroke=\"black\" d=\"M975.29,-59.43C997.98,-62.44 1020.46,-65.41 1038.22,-67.76\"/>\n<polygon fill=\"black\" stroke=\"black\" points=\"1037.99,-71.26 1048.37,-69.11 1038.91,-64.33 1037.99,-71.26\"/>\n</g>\n<!-- 4701328768 -->\n<g id=\"node24\" class=\"node\">\n<title>4701328768</title>\n<polygon fill=\"none\" stroke=\"black\" points=\"1138,-54.5 1138,-90.5 1350,-90.5 1350,-54.5 1138,-54.5\"/>\n<text text-anchor=\"middle\" x=\"1149.5\" y=\"-68.8\" font-family=\"Times,serif\" font-size=\"14.00\">n</text>\n<polyline fill=\"none\" stroke=\"black\" points=\"1161,-54.5 1161,-90.5 \"/>\n<text text-anchor=\"middle\" x=\"1204.5\" y=\"-68.8\" font-family=\"Times,serif\" font-size=\"14.00\">value 0.9000</text>\n<polyline fill=\"none\" stroke=\"black\" points=\"1248,-54.5 1248,-90.5 \"/>\n<text text-anchor=\"middle\" x=\"1299\" y=\"-68.8\" font-family=\"Times,serif\" font-size=\"14.00\">gradient 0.4869</text>\n</g>\n<!-- 4701328768&#45;&gt;4701331792* -->\n<g id=\"edge12\" class=\"edge\">\n<title>4701328768&#45;&gt;4701331792*</title>\n<path fill=\"none\" stroke=\"black\" d=\"M1350.29,-89.52C1359.62,-91.03 1368.56,-92.48 1376.6,-93.78\"/>\n<polygon fill=\"black\" stroke=\"black\" points=\"1376.17,-97.25 1386.6,-95.39 1377.28,-90.34 1376.17,-97.25\"/>\n</g>\n<!-- 4701328768+&#45;&gt;4701328768 -->\n<g id=\"edge9\" class=\"edge\">\n<title>4701328768+&#45;&gt;4701328768</title>\n<path fill=\"none\" stroke=\"black\" d=\"M1102.09,-72.5C1109.65,-72.5 1118.42,-72.5 1127.83,-72.5\"/>\n<polygon fill=\"black\" stroke=\"black\" points=\"1127.83,-76 1137.83,-72.5 1127.83,-69 1127.83,-76\"/>\n</g>\n<!-- 4701330832 -->\n<g id=\"node26\" class=\"node\">\n<title>4701330832</title>\n<polygon fill=\"none\" stroke=\"black\" points=\"355.5,-55.5 355.5,-91.5 597.5,-91.5 597.5,-55.5 355.5,-55.5\"/>\n<text text-anchor=\"middle\" x=\"382\" y=\"-69.8\" font-family=\"Times,serif\" font-size=\"14.00\">x2*w2</text>\n<polyline fill=\"none\" stroke=\"black\" points=\"408.5,-55.5 408.5,-91.5 \"/>\n<text text-anchor=\"middle\" x=\"452\" y=\"-69.8\" font-family=\"Times,serif\" font-size=\"14.00\">value 2.0000</text>\n<polyline fill=\"none\" stroke=\"black\" points=\"495.5,-55.5 495.5,-91.5 \"/>\n<text text-anchor=\"middle\" x=\"546.5\" y=\"-69.8\" font-family=\"Times,serif\" font-size=\"14.00\">gradient 0.4869</text>\n</g>\n<!-- 4701330832&#45;&gt;4701333280+ -->\n<g id=\"edge18\" class=\"edge\">\n<title>4701330832&#45;&gt;4701333280+</title>\n<path fill=\"none\" stroke=\"black\" d=\"M597.73,-91.09C607.97,-92.59 617.71,-94.02 626.36,-95.28\"/>\n<polygon fill=\"black\" stroke=\"black\" points=\"625.93,-98.76 636.33,-96.74 626.95,-91.83 625.93,-98.76\"/>\n</g>\n<!-- 4701330832*&#45;&gt;4701330832 -->\n<g id=\"edge10\" class=\"edge\">\n<title>4701330832*&#45;&gt;4701330832</title>\n<path fill=\"none\" stroke=\"black\" d=\"M317.04,-73.5C325.17,-73.5 334.75,-73.5 345.11,-73.5\"/>\n<polygon fill=\"black\" stroke=\"black\" points=\"345.26,-77 355.26,-73.5 345.26,-70 345.26,-77\"/>\n</g>\n<!-- 4701333472 -->\n<g id=\"node28\" class=\"node\">\n<title>4701333472</title>\n<polygon fill=\"none\" stroke=\"black\" points=\"1811,-136.5 1811,-172.5 2025,-172.5 2025,-136.5 1811,-136.5\"/>\n<text text-anchor=\"middle\" x=\"1821\" y=\"-150.8\" font-family=\"Times,serif\" font-size=\"14.00\"> </text>\n<polyline fill=\"none\" stroke=\"black\" points=\"1831,-136.5 1831,-172.5 \"/>\n<text text-anchor=\"middle\" x=\"1877\" y=\"-150.8\" font-family=\"Times,serif\" font-size=\"14.00\">value &#45;1.0000</text>\n<polyline fill=\"none\" stroke=\"black\" points=\"1923,-136.5 1923,-172.5 \"/>\n<text text-anchor=\"middle\" x=\"1974\" y=\"-150.8\" font-family=\"Times,serif\" font-size=\"14.00\">gradient 0.1419</text>\n</g>\n<!-- 4701333472&#45;&gt;4701334768+ -->\n<g id=\"edge27\" class=\"edge\">\n<title>4701333472&#45;&gt;4701334768+</title>\n<path fill=\"none\" stroke=\"black\" d=\"M2025.4,-136.77C2034.72,-135.21 2043.65,-133.72 2051.68,-132.39\"/>\n<polygon fill=\"black\" stroke=\"black\" points=\"2052.38,-135.82 2061.66,-130.72 2051.22,-128.91 2052.38,-135.82\"/>\n</g>\n</g>\n</svg>\n",
            "text/plain": [
              "<graphviz.graphs.Digraph at 0x11838a9c0>"
            ]
          },
          "execution_count": 281,
          "metadata": {},
          "output_type": "execute_result"
        }
      ],
      "source": [
        "# inputs: x1, x2\n",
        "x1 = Operand(2.0, _label='x1')\n",
        "x2 = Operand(1.0, _label='x2')\n",
        "\n",
        "# weights: w1, w2\n",
        "w1 = Operand(-2.0, _label='w1')\n",
        "w2 = Operand(2.0, _label='w2')\n",
        "\n",
        "# bias\n",
        "b = Operand(2.9, _label='b')\n",
        "\n",
        "# loss: x1*w1 + x2*w2 + b\n",
        "x1w1 = x1 * w1; x1w1._label ='x1*w1'\n",
        "x2w2 = x2 * w2; x2w2._label = 'x2*w2' \n",
        "x1w1x2w2 = x1w1 + x2w2; x1w1x2w2._label = 'x1w1 + x2w2'\n",
        "n = x1w1x2w2 + b; n._label = 'n'\n",
        "\n",
        "# y = n.tanh(); y._label='y'\n",
        "# using formula for tanh\n",
        "e = (2*n).exp()\n",
        "y = (e-1)/(e+1)\n",
        "y._label = 'y'\n",
        "\n",
        "y.backward()\n",
        "draw_dot(y)"
      ]
    },
    {
      "cell_type": "code",
      "execution_count": null,
      "metadata": {},
      "outputs": [],
      "source": []
    },
    {
      "cell_type": "markdown",
      "metadata": {
        "id": "4nWGUm_7VVI9"
      },
      "source": [
        " __Reference: [Neural Networks: Zero to Hero by **Anderj Karpathy**](https://youtu.be/VMj-3S1tku0?si=nt0sYb9Rs2g4qApr)__"
      ]
    }
  ],
  "metadata": {
    "colab": {
      "provenance": []
    },
    "kernelspec": {
      "display_name": "Python 3.12.4 ('genAI')",
      "language": "python",
      "name": "python3"
    },
    "language_info": {
      "codemirror_mode": {
        "name": "ipython",
        "version": 3
      },
      "file_extension": ".py",
      "mimetype": "text/x-python",
      "name": "python",
      "nbconvert_exporter": "python",
      "pygments_lexer": "ipython3",
      "version": "3.12.4"
    },
    "vscode": {
      "interpreter": {
        "hash": "cdc7a2fc295da552623d6189d2d73e88b479f44ab32ab05a73d51a9a8b2f91f6"
      }
    }
  },
  "nbformat": 4,
  "nbformat_minor": 0
}
