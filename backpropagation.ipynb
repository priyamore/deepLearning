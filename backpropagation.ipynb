{
  "nbformat": 4,
  "nbformat_minor": 0,
  "metadata": {
    "colab": {
      "provenance": []
    },
    "kernelspec": {
      "name": "python3",
      "display_name": "Python 3"
    },
    "language_info": {
      "name": "python"
    }
  },
  "cells": [
    {
      "cell_type": "markdown",
      "source": [
        "# **Backpropagation from Scratch**"
      ],
      "metadata": {
        "id": "cDDdu3vDUlY7"
      }
    },
    {
      "cell_type": "code",
      "source": [
        "import math\n",
        "import numpy as np\n",
        "import matplotlib.pyplot as plt\n",
        "%matplotlib inline"
      ],
      "metadata": {
        "id": "4e6ox9F1VE68"
      },
      "execution_count": 14,
      "outputs": []
    },
    {
      "cell_type": "markdown",
      "source": [
        "#Derivation is at the heart of backpropagation\n",
        "Derivation helps us undrstand how a function behaves if the input is modified.Given a function f(x), how does the function behave if input x is modified with h i.e x+h.\n",
        "\n",
        "In case of backpropagation, the inputs are weights and biases. We want to understand what happens if small changes(h) are made to x(weights and biases)"
      ],
      "metadata": {
        "id": "U80CuZHWarjz"
      }
    },
    {
      "cell_type": "markdown",
      "source": [
        "# Now lets take a simple equation f(x) to understand how the function behaviour changes upon increasing it with a small value"
      ],
      "metadata": {
        "id": "vo3WSC1Oh9Ee"
      }
    },
    {
      "cell_type": "code",
      "source": [
        "def f(x):\n",
        "  return 3*x**2 - 4*x + 5\n",
        "  # return 4*x**2 - 5*x + 6"
      ],
      "metadata": {
        "id": "e-h9SssAZFkx"
      },
      "execution_count": 38,
      "outputs": []
    },
    {
      "cell_type": "code",
      "source": [
        "f(3.0)"
      ],
      "metadata": {
        "colab": {
          "base_uri": "https://localhost:8080/"
        },
        "id": "VBpDawwghdvb",
        "outputId": "47a35827-850a-4b49-e3d2-a9494a732c6b"
      },
      "execution_count": 39,
      "outputs": [
        {
          "output_type": "execute_result",
          "data": {
            "text/plain": [
              "20.0"
            ]
          },
          "metadata": {},
          "execution_count": 39
        }
      ]
    },
    {
      "cell_type": "code",
      "source": [
        "xs = np.arange(-5, 5, 0.5)\n",
        "ys = f(xs)\n",
        "ys"
      ],
      "metadata": {
        "colab": {
          "base_uri": "https://localhost:8080/"
        },
        "id": "xSmCyC1TiP6p",
        "outputId": "986beb23-cdf6-47a5-d01d-71351c7fc78f"
      },
      "execution_count": 40,
      "outputs": [
        {
          "output_type": "execute_result",
          "data": {
            "text/plain": [
              "array([100.  ,  83.75,  69.  ,  55.75,  44.  ,  33.75,  25.  ,  17.75,\n",
              "        12.  ,   7.75,   5.  ,   3.75,   4.  ,   5.75,   9.  ,  13.75,\n",
              "        20.  ,  27.75,  37.  ,  47.75])"
            ]
          },
          "metadata": {},
          "execution_count": 40
        }
      ]
    },
    {
      "cell_type": "code",
      "source": [
        "plt.plot(xs, ys)"
      ],
      "metadata": {
        "colab": {
          "base_uri": "https://localhost:8080/",
          "height": 445
        },
        "id": "q-4wUUsSlUH5",
        "outputId": "9fb2167a-e7a0-47a0-9b4f-93ed4078ca74"
      },
      "execution_count": 41,
      "outputs": [
        {
          "output_type": "execute_result",
          "data": {
            "text/plain": [
              "[<matplotlib.lines.Line2D at 0x7fe4011a3160>]"
            ]
          },
          "metadata": {},
          "execution_count": 41
        },
        {
          "output_type": "display_data",
          "data": {
            "text/plain": [
              "<Figure size 640x480 with 1 Axes>"
            ],
            "image/png": "[encoded data removed]"
          },
          "metadata": {}
        }
      ]
    },
    {
      "cell_type": "code",
      "source": [
        "x = 3.0\n",
        "\n",
        "# to get a more accurate slope, coverge h towards 0\n",
        "h = 0.00001\n",
        "f(x+h)"
      ],
      "metadata": {
        "colab": {
          "base_uri": "https://localhost:8080/"
        },
        "id": "HMffO6UTnQMK",
        "outputId": "1808127c-a3f9-4bf3-efa1-f3014a20e7ed"
      },
      "execution_count": 42,
      "outputs": [
        {
          "output_type": "execute_result",
          "data": {
            "text/plain": [
              "20.0001400003"
            ]
          },
          "metadata": {},
          "execution_count": 42
        }
      ]
    },
    {
      "cell_type": "markdown",
      "source": [
        "Now lets get the slope(f(x+h)-f(x))/h"
      ],
      "metadata": {
        "id": "iDW5v-r4nmM0"
      }
    },
    {
      "cell_type": "code",
      "source": [
        "(f(x+h)-f(x))/h"
      ],
      "metadata": {
        "colab": {
          "base_uri": "https://localhost:8080/"
        },
        "id": "iPQ1pUgHnfR5",
        "outputId": "781faf1e-4ed5-45dc-a9b7-9907d697054e"
      },
      "execution_count": 43,
      "outputs": [
        {
          "output_type": "execute_result",
          "data": {
            "text/plain": [
              "14.00003000000538"
            ]
          },
          "metadata": {},
          "execution_count": 43
        }
      ]
    },
    {
      "cell_type": "markdown",
      "source": [
        "#one more example, a bit more complex"
      ],
      "metadata": {
        "id": "vU800rJ4o1L3"
      }
    },
    {
      "cell_type": "code",
      "source": [
        "a = 2.0\n",
        "b = -3.0\n",
        "c = 10.0\n",
        "\n",
        "# equation\n",
        "d = a*b + c\n",
        "\n",
        "print(d)"
      ],
      "metadata": {
        "colab": {
          "base_uri": "https://localhost:8080/"
        },
        "id": "RrvY6pG6oM4c",
        "outputId": "4d51a2ba-8bcf-4f23-e377-fbdea788bba7"
      },
      "execution_count": 46,
      "outputs": [
        {
          "output_type": "stream",
          "name": "stdout",
          "text": [
            "4.0\n"
          ]
        }
      ]
    },
    {
      "cell_type": "code",
      "source": [
        "# observe the values when a is increased\n",
        "\n",
        "def f1(a, b, c):\n",
        "  return a*b + c\n",
        "\n",
        "h = 0.00001\n",
        "\n",
        "a = 2.0\n",
        "b = -3.0\n",
        "c = 10.0\n",
        "\n",
        "d1 = f1(a, b, c)\n",
        "d2 = f1(a+h, b, c)\n",
        "\n",
        "# slope when a is increased by h\n",
        "print(\"slope when a is increased: \",(d2-d1)/h)\n",
        "\n",
        "d2 = f1(a, b+h, c)\n",
        "# slope when b is increased by h\n",
        "print(\"slope when b is increased: \",(d2-d1)/h)\n",
        "\n",
        "d2 = f1(a, b, c+h)\n",
        "# slope when c is increased by h\n",
        "print(\"slope when c is increased: \",(d2-d1)/h)"
      ],
      "metadata": {
        "colab": {
          "base_uri": "https://localhost:8080/"
        },
        "id": "lXlBaq6Up2wa",
        "outputId": "75e33c72-a30f-4b37-e233-74c248da197f"
      },
      "execution_count": 55,
      "outputs": [
        {
          "output_type": "stream",
          "name": "stdout",
          "text": [
            "slope when a is increased:  -3.000000000064062\n",
            "slope when b is increased:  2.0000000000131024\n",
            "slope when c is increased:  0.9999999999621422\n"
          ]
        }
      ]
    },
    {
      "cell_type": "markdown",
      "source": [
        "Neural Networks have massive expressions so lets start with creating a data structure to maintain these expressions"
      ],
      "metadata": {
        "id": "tKla2s0GtJUO"
      }
    },
    {
      "cell_type": "code",
      "source": [],
      "metadata": {
        "id": "v2RnlHddrAal"
      },
      "execution_count": null,
      "outputs": []
    },
    {
      "cell_type": "markdown",
      "source": [
        " __Reference: [Neural Networks: Zero to Hero by **Anderj Karpathy**](https://youtu.be/VMj-3S1tku0?si=nt0sYb9Rs2g4qApr)__"
      ],
      "metadata": {
        "id": "4nWGUm_7VVI9"
      }
    }
  ]
}