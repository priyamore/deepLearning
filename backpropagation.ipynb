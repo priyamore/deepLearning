{
  "cells": [
    {
      "cell_type": "markdown",
      "metadata": {
        "id": "cDDdu3vDUlY7"
      },
      "source": [
        "# **Backpropagation from Scratch**"
      ]
    },
    {
      "cell_type": "code",
      "execution_count": 1,
      "metadata": {
        "id": "4e6ox9F1VE68"
      },
      "outputs": [],
      "source": [
        "import math\n",
        "import random\n",
        "import numpy as np\n",
        "import matplotlib.pyplot as plt\n",
        "%matplotlib inline"
      ]
    },
    {
      "cell_type": "code",
      "execution_count": 2,
      "metadata": {},
      "outputs": [],
      "source": [
        "from graphviz import Digraph\n",
        "# for installation follow: https://stackoverflow.com/questions/46182603/graphviz-not-running-in-jupyter-notebook-python-3-6"
      ]
    },
    {
      "cell_type": "markdown",
      "metadata": {
        "id": "U80CuZHWarjz"
      },
      "source": [
        "## Derivation is at the heart of backpropagation\n",
        "Derivation helps us understand how a function behaves if the input is modified. \n",
        "Given a function f(x), how does the function behave if input x is modified with h i.e x+h.\n",
        "\n",
        "In case of backpropagation, the inputs are weights and biases. We want to understand what happens if small changes(h) are made to x(weights and biases)"
      ]
    },
    {
      "cell_type": "markdown",
      "metadata": {
        "id": "vo3WSC1Oh9Ee"
      },
      "source": [
        "### Now lets take a few examples to understand how the function behaviour changes upon increasing it with a small value"
      ]
    },
    {
      "cell_type": "markdown",
      "metadata": {},
      "source": [
        "Example 1"
      ]
    },
    {
      "cell_type": "code",
      "execution_count": 3,
      "metadata": {
        "id": "e-h9SssAZFkx"
      },
      "outputs": [],
      "source": [
        "def f(x):\n",
        "  return 4*x**2 - 5*x + 6"
      ]
    },
    {
      "cell_type": "code",
      "execution_count": 4,
      "metadata": {
        "colab": {
          "base_uri": "https://localhost:8080/"
        },
        "id": "xSmCyC1TiP6p",
        "outputId": "986beb23-cdf6-47a5-d01d-71351c7fc78f"
      },
      "outputs": [
        {
          "data": {
            "text/plain": [
              "[<matplotlib.lines.Line2D at 0x10e8c3380>]"
            ]
          },
          "execution_count": 4,
          "metadata": {},
          "output_type": "execute_result"
        },
        {
          "data": {
            "image/png": "[encoded data removed]",
            "text/plain": [
              "<Figure size 640x480 with 1 Axes>"
            ]
          },
          "metadata": {},
          "output_type": "display_data"
        }
      ],
      "source": [
        "xs = np.arange(-5, 5, 0.5)\n",
        "ys = f(xs)\n",
        "plt.plot(xs, ys)"
      ]
    },
    {
      "cell_type": "markdown",
      "metadata": {},
      "source": [
        "calculate the slope(f(x+h)-f(x))/h"
      ]
    },
    {
      "cell_type": "code",
      "execution_count": 5,
      "metadata": {
        "colab": {
          "base_uri": "https://localhost:8080/"
        },
        "id": "HMffO6UTnQMK",
        "outputId": "1808127c-a3f9-4bf3-efa1-f3014a20e7ed"
      },
      "outputs": [
        {
          "data": {
            "text/plain": [
              "19.000039999639284"
            ]
          },
          "execution_count": 5,
          "metadata": {},
          "output_type": "execute_result"
        }
      ],
      "source": [
        "# to get a more accurate slope, coverge h towards 0\n",
        "x = 3.0\n",
        "h = 0.00001\n",
        "(f(x+h)-f(x))/h"
      ]
    },
    {
      "cell_type": "markdown",
      "metadata": {
        "id": "vU800rJ4o1L3"
      },
      "source": [
        "Example 2"
      ]
    },
    {
      "cell_type": "code",
      "execution_count": 6,
      "metadata": {
        "colab": {
          "base_uri": "https://localhost:8080/"
        },
        "id": "RrvY6pG6oM4c",
        "outputId": "4d51a2ba-8bcf-4f23-e377-fbdea788bba7"
      },
      "outputs": [
        {
          "name": "stdout",
          "output_type": "stream",
          "text": [
            "slope when a is increased:  -3.000000000010772\n",
            "slope when b is increased:  2.0000000000042206\n",
            "slope when c is increased:  0.9999999999976694\n"
          ]
        }
      ],
      "source": [
        "# observe the values when a is increased\n",
        "\n",
        "def f1(a, b, c):\n",
        "  return (a * b) + c\n",
        "\n",
        "h = 0.0001\n",
        "\n",
        "a = 2.0\n",
        "b = -3.0\n",
        "c = 10.0\n",
        "\n",
        "d1 = f1(a, b, c)\n",
        "d2 = f1(a+h, b, c)\n",
        "\n",
        "# slope when a is increased by h\n",
        "print(\"slope when a is increased: \",(d2-d1)/h)\n",
        "\n",
        "d2 = f1(a, b+h, c)\n",
        "# slope when b is increased by h\n",
        "print(\"slope when b is increased: \",(d2-d1)/h)\n",
        "\n",
        "d2 = f1(a, b, c+h)\n",
        "# slope when c is increased by h\n",
        "print(\"slope when c is increased: \",(d2-d1)/h)"
      ]
    },
    {
      "cell_type": "markdown",
      "metadata": {
        "id": "tKla2s0GtJUO"
      },
      "source": [
        "### Neural Networks have massive expressions so lets create a data structure to maintain these expressions"
      ]
    },
    {
      "cell_type": "code",
      "execution_count": 7,
      "metadata": {
        "id": "v2RnlHddrAal"
      },
      "outputs": [],
      "source": [
        "class Operand:\n",
        "    def __init__(self, value, _children = (), _operation='', _label = ''):\n",
        "        self.value = value\n",
        "        self.gradient = 0.0\n",
        "        self._backward = lambda: None\n",
        "        self._prev_ops = set(_children)\n",
        "        self._operation = _operation\n",
        "        self._label = _label\n",
        "    \n",
        "    def __repr__(self):\n",
        "        return f\"Variable(value={self.value})\"\n",
        "\n",
        "    # adding two operands\n",
        "    def __add__(self, other):\n",
        "        other = other if isinstance(other, Operand) else Operand(other)\n",
        "        addition = Operand(self.value + other.value, (self, other), '+')\n",
        "\n",
        "        def _backward():\n",
        "            self.gradient += 1.0 * addition.gradient\n",
        "            other.gradient += 1.0 * addition.gradient\n",
        "\n",
        "        addition._backward = _backward\n",
        "        return addition\n",
        "\n",
        "    def __neg__(self):\n",
        "        return -1 * self\n",
        "\n",
        "    # subtracting two operands\n",
        "    def __sub__(self, other):\n",
        "        return self + (-other)\n",
        "        \n",
        "    # multiplying two operands\n",
        "    def __mul__(self, other):\n",
        "        other = other if isinstance(other, Operand) else Operand(other)\n",
        "        product = Operand(self.value * other.value, (self, other), '*')\n",
        "        def _backward():\n",
        "            self.gradient += other.value * product.gradient\n",
        "            other.gradient += self.value * product.gradient\n",
        "        \n",
        "        product._backward = _backward\n",
        "        return product\n",
        "\n",
        "    def __rmul__(self, other):\n",
        "        return self * other\n",
        "\n",
        "    # dividing two operands\n",
        "    def __truediv__(self, other):\n",
        "        # a * b = a * (b ** -1)\n",
        "        return self * other**-1\n",
        "\n",
        "    def __pow__(self, other):\n",
        "        pow_y = Operand(self.value**other, (self, ), f'**{other}')\n",
        "\n",
        "        def _backward():\n",
        "            self.gradient += (other * self.value ** (other - 1)) * pow_y.gradient\n",
        "\n",
        "        pow_y._backward = _backward\n",
        "        return pow_y\n",
        "\n",
        "    def exp(self):\n",
        "        x = self.value\n",
        "        exp_y = Operand(math.exp(x), (self,), 'exp')\n",
        "\n",
        "        def _backward():\n",
        "            # derivative of e**x is e**x\n",
        "            self.gradient += exp_y.value * exp_y.gradient\n",
        "        \n",
        "        exp_y._backward = _backward\n",
        "        return exp_y\n",
        "\n",
        "    def tanh(self):\n",
        "        x = self.value\n",
        "        tanh_x = (math.exp(2*x) - 1)/(math.exp(2*x) + 1)\n",
        "        y = Operand(tanh_x, (self, ),'tanh')\n",
        "\n",
        "        def _backward():\n",
        "            self.gradient += (1 - tanh_x**2) *  y.gradient\n",
        "\n",
        "        y._backward = _backward\n",
        "        return y\n",
        "\n",
        "    \n",
        "    def backward(self):\n",
        "        # backward pass for a node\n",
        "        topo_sort = []\n",
        "        visited = set()\n",
        "        def build(node):\n",
        "            if node not in visited:\n",
        "                visited.add(node)\n",
        "                for child in node._prev_ops:\n",
        "                    build(child)\n",
        "\n",
        "                topo_sort.append(node)\n",
        "\n",
        "        build(self)\n",
        "\n",
        "        self.gradient = 1.0\n",
        "        for node in reversed(topo_sort):\n",
        "            node._backward()"
      ]
    },
    {
      "cell_type": "markdown",
      "metadata": {},
      "source": [
        "calculating loss for a simple expression"
      ]
    },
    {
      "cell_type": "code",
      "execution_count": 8,
      "metadata": {},
      "outputs": [
        {
          "data": {
            "text/plain": [
              "Variable(value=-4.0)"
            ]
          },
          "execution_count": 8,
          "metadata": {},
          "output_type": "execute_result"
        }
      ],
      "source": [
        "a = Operand(2.0, _label='a')\n",
        "b = Operand(-3.0, _label='b')\n",
        "c = Operand(8.0, _label='c')\n",
        "d = a*b\n",
        "d._label = 'd'\n",
        "e = d + c\n",
        "e._label='e'\n",
        "f = Operand(-2.0, _label='f')\n",
        "\n",
        "# Loss function\n",
        "L = e * f; L._label='L'\n",
        "L"
      ]
    },
    {
      "cell_type": "markdown",
      "metadata": {},
      "source": [
        "Visualizing Loss with a graph"
      ]
    },
    {
      "cell_type": "code",
      "execution_count": 9,
      "metadata": {},
      "outputs": [],
      "source": [
        "def trace(root):\n",
        "    nodes = set()\n",
        "    edges = set()\n",
        "    def build_graph(node):\n",
        "        if node not in nodes:\n",
        "            nodes.add(node)\n",
        "            for child in node._prev_ops:\n",
        "                edges.add((child, node))\n",
        "                build_graph(child)\n",
        "    build_graph(root)\n",
        "    return nodes, edges\n",
        "\n",
        "def draw_dot(root):\n",
        "    dot = Digraph(format='svg', graph_attr={'rankdir': 'LR'})\n",
        "    nodes, edges = trace(root)\n",
        "    for node in nodes:\n",
        "        nid = str(id(node))\n",
        "        dot.node(name=nid, label = \"{%s | value %.4f | gradient %.4f}\" % ( node._label, node.value, node.gradient), shape='record')\n",
        "        if node._operation:\n",
        "            dot.node(name=nid + node._operation, label=node._operation)\n",
        "            dot.edge(nid + node._operation, nid)\n",
        "    \n",
        "    for e1, e2 in edges:\n",
        "        dot.edge(str(id(e1)), str(id(e2)) + e2._operation)\n",
        "    \n",
        "    return dot"
      ]
    },
    {
      "cell_type": "code",
      "execution_count": 10,
      "metadata": {},
      "outputs": [
        {
          "data": {
            "image/svg+xml": "<?xml version=\"1.0\" encoding=\"UTF-8\" standalone=\"no\"?>\n<!DOCTYPE svg PUBLIC \"-//W3C//DTD SVG 1.1//EN\"\n \"http://www.w3.org/Graphics/SVG/1.1/DTD/svg11.dtd\">\n<!-- Generated by graphviz version 2.50.0 (0)\n -->\n<!-- Pages: 1 -->\n<svg width=\"1254pt\" height=\"154pt\"\n viewBox=\"0.00 0.00 1254.00 154.00\" xmlns=\"http://www.w3.org/2000/svg\" xmlns:xlink=\"http://www.w3.org/1999/xlink\">\n<g id=\"graph0\" class=\"graph\" transform=\"scale(1 1) rotate(0) translate(4 150)\">\n<polygon fill=\"white\" stroke=\"transparent\" points=\"-4,4 -4,-150 1250,-150 1250,4 -4,4\"/>\n<!-- 4538870832 -->\n<g id=\"node1\" class=\"node\">\n<title>4538870832</title>\n<polygon fill=\"none\" stroke=\"black\" points=\"343,-27.5 343,-63.5 560,-63.5 560,-27.5 343,-27.5\"/>\n<text text-anchor=\"middle\" x=\"354.5\" y=\"-41.8\" font-family=\"Times,serif\" font-size=\"14.00\">d</text>\n<polyline fill=\"none\" stroke=\"black\" points=\"366,-27.5 366,-63.5 \"/>\n<text text-anchor=\"middle\" x=\"412\" y=\"-41.8\" font-family=\"Times,serif\" font-size=\"14.00\">value &#45;6.0000</text>\n<polyline fill=\"none\" stroke=\"black\" points=\"458,-27.5 458,-63.5 \"/>\n<text text-anchor=\"middle\" x=\"509\" y=\"-41.8\" font-family=\"Times,serif\" font-size=\"14.00\">gradient 0.0000</text>\n</g>\n<!-- 4538871072+ -->\n<g id=\"node6\" class=\"node\">\n<title>4538871072+</title>\n<ellipse fill=\"none\" stroke=\"black\" cx=\"623\" cy=\"-72.5\" rx=\"27\" ry=\"18\"/>\n<text text-anchor=\"middle\" x=\"623\" y=\"-68.8\" font-family=\"Times,serif\" font-size=\"14.00\">+</text>\n</g>\n<!-- 4538870832&#45;&gt;4538871072+ -->\n<g id=\"edge7\" class=\"edge\">\n<title>4538870832&#45;&gt;4538871072+</title>\n<path fill=\"none\" stroke=\"black\" d=\"M560.33,-62.68C569.68,-64.17 578.63,-65.59 586.66,-66.87\"/>\n<polygon fill=\"black\" stroke=\"black\" points=\"586.23,-70.35 596.66,-68.46 587.33,-63.43 586.23,-70.35\"/>\n</g>\n<!-- 4538870832* -->\n<g id=\"node2\" class=\"node\">\n<title>4538870832*</title>\n<ellipse fill=\"none\" stroke=\"black\" cx=\"280\" cy=\"-45.5\" rx=\"27\" ry=\"18\"/>\n<text text-anchor=\"middle\" x=\"280\" y=\"-41.8\" font-family=\"Times,serif\" font-size=\"14.00\">*</text>\n</g>\n<!-- 4538870832*&#45;&gt;4538870832 -->\n<g id=\"edge1\" class=\"edge\">\n<title>4538870832*&#45;&gt;4538870832</title>\n<path fill=\"none\" stroke=\"black\" d=\"M307.11,-45.5C314.55,-45.5 323.16,-45.5 332.4,-45.5\"/>\n<polygon fill=\"black\" stroke=\"black\" points=\"332.66,-49 342.66,-45.5 332.66,-42 332.66,-49\"/>\n</g>\n<!-- 4538862144 -->\n<g id=\"node3\" class=\"node\">\n<title>4538862144</title>\n<polygon fill=\"none\" stroke=\"black\" points=\"345.5,-82.5 345.5,-118.5 557.5,-118.5 557.5,-82.5 345.5,-82.5\"/>\n<text text-anchor=\"middle\" x=\"357\" y=\"-96.8\" font-family=\"Times,serif\" font-size=\"14.00\">c</text>\n<polyline fill=\"none\" stroke=\"black\" points=\"368.5,-82.5 368.5,-118.5 \"/>\n<text text-anchor=\"middle\" x=\"412\" y=\"-96.8\" font-family=\"Times,serif\" font-size=\"14.00\">value 8.0000</text>\n<polyline fill=\"none\" stroke=\"black\" points=\"455.5,-82.5 455.5,-118.5 \"/>\n<text text-anchor=\"middle\" x=\"506.5\" y=\"-96.8\" font-family=\"Times,serif\" font-size=\"14.00\">gradient 0.0000</text>\n</g>\n<!-- 4538862144&#45;&gt;4538871072+ -->\n<g id=\"edge8\" class=\"edge\">\n<title>4538862144&#45;&gt;4538871072+</title>\n<path fill=\"none\" stroke=\"black\" d=\"M557.92,-83.09C568.07,-81.41 577.79,-79.8 586.47,-78.37\"/>\n<polygon fill=\"black\" stroke=\"black\" points=\"587.18,-81.8 596.48,-76.72 586.04,-74.89 587.18,-81.8\"/>\n</g>\n<!-- 4538871936 -->\n<g id=\"node4\" class=\"node\">\n<title>4538871936</title>\n<polygon fill=\"none\" stroke=\"black\" points=\"686,-109.5 686,-145.5 901,-145.5 901,-109.5 686,-109.5\"/>\n<text text-anchor=\"middle\" x=\"696.5\" y=\"-123.8\" font-family=\"Times,serif\" font-size=\"14.00\">f</text>\n<polyline fill=\"none\" stroke=\"black\" points=\"707,-109.5 707,-145.5 \"/>\n<text text-anchor=\"middle\" x=\"753\" y=\"-123.8\" font-family=\"Times,serif\" font-size=\"14.00\">value &#45;2.0000</text>\n<polyline fill=\"none\" stroke=\"black\" points=\"799,-109.5 799,-145.5 \"/>\n<text text-anchor=\"middle\" x=\"850\" y=\"-123.8\" font-family=\"Times,serif\" font-size=\"14.00\">gradient 0.0000</text>\n</g>\n<!-- 4538874672* -->\n<g id=\"node8\" class=\"node\">\n<title>4538874672*</title>\n<ellipse fill=\"none\" stroke=\"black\" cx=\"964\" cy=\"-99.5\" rx=\"27\" ry=\"18\"/>\n<text text-anchor=\"middle\" x=\"964\" y=\"-95.8\" font-family=\"Times,serif\" font-size=\"14.00\">*</text>\n</g>\n<!-- 4538871936&#45;&gt;4538874672* -->\n<g id=\"edge5\" class=\"edge\">\n<title>4538871936&#45;&gt;4538874672*</title>\n<path fill=\"none\" stroke=\"black\" d=\"M901.21,-109.77C910.57,-108.21 919.52,-106.72 927.57,-105.39\"/>\n<polygon fill=\"black\" stroke=\"black\" points=\"928.3,-108.81 937.59,-103.72 927.15,-101.91 928.3,-108.81\"/>\n</g>\n<!-- 4538871072 -->\n<g id=\"node5\" class=\"node\">\n<title>4538871072</title>\n<polygon fill=\"none\" stroke=\"black\" points=\"687.5,-54.5 687.5,-90.5 899.5,-90.5 899.5,-54.5 687.5,-54.5\"/>\n<text text-anchor=\"middle\" x=\"699\" y=\"-68.8\" font-family=\"Times,serif\" font-size=\"14.00\">e</text>\n<polyline fill=\"none\" stroke=\"black\" points=\"710.5,-54.5 710.5,-90.5 \"/>\n<text text-anchor=\"middle\" x=\"754\" y=\"-68.8\" font-family=\"Times,serif\" font-size=\"14.00\">value 2.0000</text>\n<polyline fill=\"none\" stroke=\"black\" points=\"797.5,-54.5 797.5,-90.5 \"/>\n<text text-anchor=\"middle\" x=\"848.5\" y=\"-68.8\" font-family=\"Times,serif\" font-size=\"14.00\">gradient 0.0000</text>\n</g>\n<!-- 4538871072&#45;&gt;4538874672* -->\n<g id=\"edge6\" class=\"edge\">\n<title>4538871072&#45;&gt;4538874672*</title>\n<path fill=\"none\" stroke=\"black\" d=\"M899.78,-89.37C909.6,-90.94 919.02,-92.45 927.44,-93.8\"/>\n<polygon fill=\"black\" stroke=\"black\" points=\"927.11,-97.29 937.54,-95.42 928.22,-90.38 927.11,-97.29\"/>\n</g>\n<!-- 4538871072+&#45;&gt;4538871072 -->\n<g id=\"edge2\" class=\"edge\">\n<title>4538871072+&#45;&gt;4538871072</title>\n<path fill=\"none\" stroke=\"black\" d=\"M650.33,-72.5C658.24,-72.5 667.48,-72.5 677.37,-72.5\"/>\n<polygon fill=\"black\" stroke=\"black\" points=\"677.46,-76 687.46,-72.5 677.46,-69 677.46,-76\"/>\n</g>\n<!-- 4538874672 -->\n<g id=\"node7\" class=\"node\">\n<title>4538874672</title>\n<polygon fill=\"none\" stroke=\"black\" points=\"1027,-81.5 1027,-117.5 1246,-117.5 1246,-81.5 1027,-81.5\"/>\n<text text-anchor=\"middle\" x=\"1039.5\" y=\"-95.8\" font-family=\"Times,serif\" font-size=\"14.00\">L</text>\n<polyline fill=\"none\" stroke=\"black\" points=\"1052,-81.5 1052,-117.5 \"/>\n<text text-anchor=\"middle\" x=\"1098\" y=\"-95.8\" font-family=\"Times,serif\" font-size=\"14.00\">value &#45;4.0000</text>\n<polyline fill=\"none\" stroke=\"black\" points=\"1144,-81.5 1144,-117.5 \"/>\n<text text-anchor=\"middle\" x=\"1195\" y=\"-95.8\" font-family=\"Times,serif\" font-size=\"14.00\">gradient 0.0000</text>\n</g>\n<!-- 4538874672*&#45;&gt;4538874672 -->\n<g id=\"edge3\" class=\"edge\">\n<title>4538874672*&#45;&gt;4538874672</title>\n<path fill=\"none\" stroke=\"black\" d=\"M991.27,-99.5C998.68,-99.5 1007.25,-99.5 1016.45,-99.5\"/>\n<polygon fill=\"black\" stroke=\"black\" points=\"1016.66,-103 1026.66,-99.5 1016.66,-96 1016.66,-103\"/>\n</g>\n<!-- 4539725152 -->\n<g id=\"node9\" class=\"node\">\n<title>4539725152</title>\n<polygon fill=\"none\" stroke=\"black\" points=\"0,-55.5 0,-91.5 217,-91.5 217,-55.5 0,-55.5\"/>\n<text text-anchor=\"middle\" x=\"11.5\" y=\"-69.8\" font-family=\"Times,serif\" font-size=\"14.00\">b</text>\n<polyline fill=\"none\" stroke=\"black\" points=\"23,-55.5 23,-91.5 \"/>\n<text text-anchor=\"middle\" x=\"69\" y=\"-69.8\" font-family=\"Times,serif\" font-size=\"14.00\">value &#45;3.0000</text>\n<polyline fill=\"none\" stroke=\"black\" points=\"115,-55.5 115,-91.5 \"/>\n<text text-anchor=\"middle\" x=\"166\" y=\"-69.8\" font-family=\"Times,serif\" font-size=\"14.00\">gradient 0.0000</text>\n</g>\n<!-- 4539725152&#45;&gt;4538870832* -->\n<g id=\"edge4\" class=\"edge\">\n<title>4539725152&#45;&gt;4538870832*</title>\n<path fill=\"none\" stroke=\"black\" d=\"M217.33,-55.69C226.68,-54.14 235.63,-52.67 243.66,-51.34\"/>\n<polygon fill=\"black\" stroke=\"black\" points=\"244.36,-54.77 253.66,-49.69 243.22,-47.86 244.36,-54.77\"/>\n</g>\n<!-- 4538863584 -->\n<g id=\"node10\" class=\"node\">\n<title>4538863584</title>\n<polygon fill=\"none\" stroke=\"black\" points=\"2.5,-0.5 2.5,-36.5 214.5,-36.5 214.5,-0.5 2.5,-0.5\"/>\n<text text-anchor=\"middle\" x=\"14\" y=\"-14.8\" font-family=\"Times,serif\" font-size=\"14.00\">a</text>\n<polyline fill=\"none\" stroke=\"black\" points=\"25.5,-0.5 25.5,-36.5 \"/>\n<text text-anchor=\"middle\" x=\"69\" y=\"-14.8\" font-family=\"Times,serif\" font-size=\"14.00\">value 2.0000</text>\n<polyline fill=\"none\" stroke=\"black\" points=\"112.5,-0.5 112.5,-36.5 \"/>\n<text text-anchor=\"middle\" x=\"163.5\" y=\"-14.8\" font-family=\"Times,serif\" font-size=\"14.00\">gradient 0.0000</text>\n</g>\n<!-- 4538863584&#45;&gt;4538870832* -->\n<g id=\"edge9\" class=\"edge\">\n<title>4538863584&#45;&gt;4538870832*</title>\n<path fill=\"none\" stroke=\"black\" d=\"M214.92,-35.29C225.07,-36.91 234.79,-38.46 243.47,-39.84\"/>\n<polygon fill=\"black\" stroke=\"black\" points=\"243.05,-43.32 253.48,-41.43 244.16,-36.41 243.05,-43.32\"/>\n</g>\n</g>\n</svg>\n",
            "text/plain": [
              "<graphviz.graphs.Digraph at 0x10e8e7c20>"
            ]
          },
          "execution_count": 10,
          "metadata": {},
          "output_type": "execute_result"
        }
      ],
      "source": [
        "draw_dot(L)"
      ]
    },
    {
      "cell_type": "markdown",
      "metadata": {},
      "source": [
        "### Lets calculate gradients manually \n",
        "In the above example, a and b is the fixed data i.e the input to the NN, while c, d, e, f are the weights.\n",
        "\n",
        "**What should be the values of weights so the loss is minimized? Derivativation will help us find that out.**"
      ]
    },
    {
      "cell_type": "markdown",
      "metadata": {},
      "source": [
        "Example 1"
      ]
    },
    {
      "cell_type": "code",
      "execution_count": 11,
      "metadata": {},
      "outputs": [
        {
          "data": {
            "image/svg+xml": "<?xml version=\"1.0\" encoding=\"UTF-8\" standalone=\"no\"?>\n<!DOCTYPE svg PUBLIC \"-//W3C//DTD SVG 1.1//EN\"\n \"http://www.w3.org/Graphics/SVG/1.1/DTD/svg11.dtd\">\n<!-- Generated by graphviz version 2.50.0 (0)\n -->\n<!-- Pages: 1 -->\n<svg width=\"1254pt\" height=\"154pt\"\n viewBox=\"0.00 0.00 1254.00 154.00\" xmlns=\"http://www.w3.org/2000/svg\" xmlns:xlink=\"http://www.w3.org/1999/xlink\">\n<g id=\"graph0\" class=\"graph\" transform=\"scale(1 1) rotate(0) translate(4 150)\">\n<polygon fill=\"white\" stroke=\"transparent\" points=\"-4,4 -4,-150 1250,-150 1250,4 -4,4\"/>\n<!-- 4538870832 -->\n<g id=\"node1\" class=\"node\">\n<title>4538870832</title>\n<polygon fill=\"none\" stroke=\"black\" points=\"343,-27.5 343,-63.5 560,-63.5 560,-27.5 343,-27.5\"/>\n<text text-anchor=\"middle\" x=\"354.5\" y=\"-41.8\" font-family=\"Times,serif\" font-size=\"14.00\">d</text>\n<polyline fill=\"none\" stroke=\"black\" points=\"366,-27.5 366,-63.5 \"/>\n<text text-anchor=\"middle\" x=\"412\" y=\"-41.8\" font-family=\"Times,serif\" font-size=\"14.00\">value &#45;6.0000</text>\n<polyline fill=\"none\" stroke=\"black\" points=\"458,-27.5 458,-63.5 \"/>\n<text text-anchor=\"middle\" x=\"509\" y=\"-41.8\" font-family=\"Times,serif\" font-size=\"14.00\">gradient 0.0000</text>\n</g>\n<!-- 4538871072+ -->\n<g id=\"node6\" class=\"node\">\n<title>4538871072+</title>\n<ellipse fill=\"none\" stroke=\"black\" cx=\"623\" cy=\"-72.5\" rx=\"27\" ry=\"18\"/>\n<text text-anchor=\"middle\" x=\"623\" y=\"-68.8\" font-family=\"Times,serif\" font-size=\"14.00\">+</text>\n</g>\n<!-- 4538870832&#45;&gt;4538871072+ -->\n<g id=\"edge7\" class=\"edge\">\n<title>4538870832&#45;&gt;4538871072+</title>\n<path fill=\"none\" stroke=\"black\" d=\"M560.33,-62.68C569.68,-64.17 578.63,-65.59 586.66,-66.87\"/>\n<polygon fill=\"black\" stroke=\"black\" points=\"586.23,-70.35 596.66,-68.46 587.33,-63.43 586.23,-70.35\"/>\n</g>\n<!-- 4538870832* -->\n<g id=\"node2\" class=\"node\">\n<title>4538870832*</title>\n<ellipse fill=\"none\" stroke=\"black\" cx=\"280\" cy=\"-45.5\" rx=\"27\" ry=\"18\"/>\n<text text-anchor=\"middle\" x=\"280\" y=\"-41.8\" font-family=\"Times,serif\" font-size=\"14.00\">*</text>\n</g>\n<!-- 4538870832*&#45;&gt;4538870832 -->\n<g id=\"edge1\" class=\"edge\">\n<title>4538870832*&#45;&gt;4538870832</title>\n<path fill=\"none\" stroke=\"black\" d=\"M307.11,-45.5C314.55,-45.5 323.16,-45.5 332.4,-45.5\"/>\n<polygon fill=\"black\" stroke=\"black\" points=\"332.66,-49 342.66,-45.5 332.66,-42 332.66,-49\"/>\n</g>\n<!-- 4538862144 -->\n<g id=\"node3\" class=\"node\">\n<title>4538862144</title>\n<polygon fill=\"none\" stroke=\"black\" points=\"345.5,-82.5 345.5,-118.5 557.5,-118.5 557.5,-82.5 345.5,-82.5\"/>\n<text text-anchor=\"middle\" x=\"357\" y=\"-96.8\" font-family=\"Times,serif\" font-size=\"14.00\">c</text>\n<polyline fill=\"none\" stroke=\"black\" points=\"368.5,-82.5 368.5,-118.5 \"/>\n<text text-anchor=\"middle\" x=\"412\" y=\"-96.8\" font-family=\"Times,serif\" font-size=\"14.00\">value 8.0000</text>\n<polyline fill=\"none\" stroke=\"black\" points=\"455.5,-82.5 455.5,-118.5 \"/>\n<text text-anchor=\"middle\" x=\"506.5\" y=\"-96.8\" font-family=\"Times,serif\" font-size=\"14.00\">gradient 0.0000</text>\n</g>\n<!-- 4538862144&#45;&gt;4538871072+ -->\n<g id=\"edge8\" class=\"edge\">\n<title>4538862144&#45;&gt;4538871072+</title>\n<path fill=\"none\" stroke=\"black\" d=\"M557.92,-83.09C568.07,-81.41 577.79,-79.8 586.47,-78.37\"/>\n<polygon fill=\"black\" stroke=\"black\" points=\"587.18,-81.8 596.48,-76.72 586.04,-74.89 587.18,-81.8\"/>\n</g>\n<!-- 4538871936 -->\n<g id=\"node4\" class=\"node\">\n<title>4538871936</title>\n<polygon fill=\"none\" stroke=\"black\" points=\"686,-109.5 686,-145.5 901,-145.5 901,-109.5 686,-109.5\"/>\n<text text-anchor=\"middle\" x=\"696.5\" y=\"-123.8\" font-family=\"Times,serif\" font-size=\"14.00\">f</text>\n<polyline fill=\"none\" stroke=\"black\" points=\"707,-109.5 707,-145.5 \"/>\n<text text-anchor=\"middle\" x=\"753\" y=\"-123.8\" font-family=\"Times,serif\" font-size=\"14.00\">value &#45;2.0000</text>\n<polyline fill=\"none\" stroke=\"black\" points=\"799,-109.5 799,-145.5 \"/>\n<text text-anchor=\"middle\" x=\"850\" y=\"-123.8\" font-family=\"Times,serif\" font-size=\"14.00\">gradient 0.0000</text>\n</g>\n<!-- 4538874672* -->\n<g id=\"node8\" class=\"node\">\n<title>4538874672*</title>\n<ellipse fill=\"none\" stroke=\"black\" cx=\"964\" cy=\"-99.5\" rx=\"27\" ry=\"18\"/>\n<text text-anchor=\"middle\" x=\"964\" y=\"-95.8\" font-family=\"Times,serif\" font-size=\"14.00\">*</text>\n</g>\n<!-- 4538871936&#45;&gt;4538874672* -->\n<g id=\"edge5\" class=\"edge\">\n<title>4538871936&#45;&gt;4538874672*</title>\n<path fill=\"none\" stroke=\"black\" d=\"M901.21,-109.77C910.57,-108.21 919.52,-106.72 927.57,-105.39\"/>\n<polygon fill=\"black\" stroke=\"black\" points=\"928.3,-108.81 937.59,-103.72 927.15,-101.91 928.3,-108.81\"/>\n</g>\n<!-- 4538871072 -->\n<g id=\"node5\" class=\"node\">\n<title>4538871072</title>\n<polygon fill=\"none\" stroke=\"black\" points=\"687.5,-54.5 687.5,-90.5 899.5,-90.5 899.5,-54.5 687.5,-54.5\"/>\n<text text-anchor=\"middle\" x=\"699\" y=\"-68.8\" font-family=\"Times,serif\" font-size=\"14.00\">e</text>\n<polyline fill=\"none\" stroke=\"black\" points=\"710.5,-54.5 710.5,-90.5 \"/>\n<text text-anchor=\"middle\" x=\"754\" y=\"-68.8\" font-family=\"Times,serif\" font-size=\"14.00\">value 2.0000</text>\n<polyline fill=\"none\" stroke=\"black\" points=\"797.5,-54.5 797.5,-90.5 \"/>\n<text text-anchor=\"middle\" x=\"848.5\" y=\"-68.8\" font-family=\"Times,serif\" font-size=\"14.00\">gradient 0.0000</text>\n</g>\n<!-- 4538871072&#45;&gt;4538874672* -->\n<g id=\"edge6\" class=\"edge\">\n<title>4538871072&#45;&gt;4538874672*</title>\n<path fill=\"none\" stroke=\"black\" d=\"M899.78,-89.37C909.6,-90.94 919.02,-92.45 927.44,-93.8\"/>\n<polygon fill=\"black\" stroke=\"black\" points=\"927.11,-97.29 937.54,-95.42 928.22,-90.38 927.11,-97.29\"/>\n</g>\n<!-- 4538871072+&#45;&gt;4538871072 -->\n<g id=\"edge2\" class=\"edge\">\n<title>4538871072+&#45;&gt;4538871072</title>\n<path fill=\"none\" stroke=\"black\" d=\"M650.33,-72.5C658.24,-72.5 667.48,-72.5 677.37,-72.5\"/>\n<polygon fill=\"black\" stroke=\"black\" points=\"677.46,-76 687.46,-72.5 677.46,-69 677.46,-76\"/>\n</g>\n<!-- 4538874672 -->\n<g id=\"node7\" class=\"node\">\n<title>4538874672</title>\n<polygon fill=\"none\" stroke=\"black\" points=\"1027,-81.5 1027,-117.5 1246,-117.5 1246,-81.5 1027,-81.5\"/>\n<text text-anchor=\"middle\" x=\"1039.5\" y=\"-95.8\" font-family=\"Times,serif\" font-size=\"14.00\">L</text>\n<polyline fill=\"none\" stroke=\"black\" points=\"1052,-81.5 1052,-117.5 \"/>\n<text text-anchor=\"middle\" x=\"1098\" y=\"-95.8\" font-family=\"Times,serif\" font-size=\"14.00\">value &#45;4.0000</text>\n<polyline fill=\"none\" stroke=\"black\" points=\"1144,-81.5 1144,-117.5 \"/>\n<text text-anchor=\"middle\" x=\"1195\" y=\"-95.8\" font-family=\"Times,serif\" font-size=\"14.00\">gradient 1.0000</text>\n</g>\n<!-- 4538874672*&#45;&gt;4538874672 -->\n<g id=\"edge3\" class=\"edge\">\n<title>4538874672*&#45;&gt;4538874672</title>\n<path fill=\"none\" stroke=\"black\" d=\"M991.27,-99.5C998.68,-99.5 1007.25,-99.5 1016.45,-99.5\"/>\n<polygon fill=\"black\" stroke=\"black\" points=\"1016.66,-103 1026.66,-99.5 1016.66,-96 1016.66,-103\"/>\n</g>\n<!-- 4539725152 -->\n<g id=\"node9\" class=\"node\">\n<title>4539725152</title>\n<polygon fill=\"none\" stroke=\"black\" points=\"0,-55.5 0,-91.5 217,-91.5 217,-55.5 0,-55.5\"/>\n<text text-anchor=\"middle\" x=\"11.5\" y=\"-69.8\" font-family=\"Times,serif\" font-size=\"14.00\">b</text>\n<polyline fill=\"none\" stroke=\"black\" points=\"23,-55.5 23,-91.5 \"/>\n<text text-anchor=\"middle\" x=\"69\" y=\"-69.8\" font-family=\"Times,serif\" font-size=\"14.00\">value &#45;3.0000</text>\n<polyline fill=\"none\" stroke=\"black\" points=\"115,-55.5 115,-91.5 \"/>\n<text text-anchor=\"middle\" x=\"166\" y=\"-69.8\" font-family=\"Times,serif\" font-size=\"14.00\">gradient 0.0000</text>\n</g>\n<!-- 4539725152&#45;&gt;4538870832* -->\n<g id=\"edge4\" class=\"edge\">\n<title>4539725152&#45;&gt;4538870832*</title>\n<path fill=\"none\" stroke=\"black\" d=\"M217.33,-55.69C226.68,-54.14 235.63,-52.67 243.66,-51.34\"/>\n<polygon fill=\"black\" stroke=\"black\" points=\"244.36,-54.77 253.66,-49.69 243.22,-47.86 244.36,-54.77\"/>\n</g>\n<!-- 4538863584 -->\n<g id=\"node10\" class=\"node\">\n<title>4538863584</title>\n<polygon fill=\"none\" stroke=\"black\" points=\"2.5,-0.5 2.5,-36.5 214.5,-36.5 214.5,-0.5 2.5,-0.5\"/>\n<text text-anchor=\"middle\" x=\"14\" y=\"-14.8\" font-family=\"Times,serif\" font-size=\"14.00\">a</text>\n<polyline fill=\"none\" stroke=\"black\" points=\"25.5,-0.5 25.5,-36.5 \"/>\n<text text-anchor=\"middle\" x=\"69\" y=\"-14.8\" font-family=\"Times,serif\" font-size=\"14.00\">value 2.0000</text>\n<polyline fill=\"none\" stroke=\"black\" points=\"112.5,-0.5 112.5,-36.5 \"/>\n<text text-anchor=\"middle\" x=\"163.5\" y=\"-14.8\" font-family=\"Times,serif\" font-size=\"14.00\">gradient 0.0000</text>\n</g>\n<!-- 4538863584&#45;&gt;4538870832* -->\n<g id=\"edge9\" class=\"edge\">\n<title>4538863584&#45;&gt;4538870832*</title>\n<path fill=\"none\" stroke=\"black\" d=\"M214.92,-35.29C225.07,-36.91 234.79,-38.46 243.47,-39.84\"/>\n<polygon fill=\"black\" stroke=\"black\" points=\"243.05,-43.32 253.48,-41.43 244.16,-36.41 243.05,-43.32\"/>\n</g>\n</g>\n</svg>\n",
            "text/plain": [
              "<graphviz.graphs.Digraph at 0x10e8d26f0>"
            ]
          },
          "execution_count": 11,
          "metadata": {},
          "output_type": "execute_result"
        }
      ],
      "source": [
        "# derivative of variable w.r.t to itself is 1 so derivative of L w.r.t itself will be 1\n",
        "L.gradient = 1.0\n",
        "draw_dot(L)"
      ]
    },
    {
      "cell_type": "markdown",
      "metadata": {},
      "source": [
        "**dL/de = ?**\n",
        "\n",
        "for y = f(x), dy/dx = (f(x+h) - f(x))/h\n",
        "\n",
        "here, L = e * f\n",
        "\n",
        "so, dL/de = ((e+h) * f - (e) * f)/h\n",
        "          = (e*f + h*f -e*f)/h\n",
        "          = (h*f)/h\n",
        "          = f\n",
        "\n",
        "therefore, dL/de = f\n",
        "\n",
        "similarly it can be proved that dL/df = e\n",
        "\n",
        "Note 1: for a multiplication operation **'a*b'**, the derivative of **a** will be **b** and derivative of **b** will be **a**"
      ]
    },
    {
      "cell_type": "code",
      "execution_count": 12,
      "metadata": {},
      "outputs": [
        {
          "data": {
            "image/svg+xml": "<?xml version=\"1.0\" encoding=\"UTF-8\" standalone=\"no\"?>\n<!DOCTYPE svg PUBLIC \"-//W3C//DTD SVG 1.1//EN\"\n \"http://www.w3.org/Graphics/SVG/1.1/DTD/svg11.dtd\">\n<!-- Generated by graphviz version 2.50.0 (0)\n -->\n<!-- Pages: 1 -->\n<svg width=\"1256pt\" height=\"154pt\"\n viewBox=\"0.00 0.00 1256.00 154.00\" xmlns=\"http://www.w3.org/2000/svg\" xmlns:xlink=\"http://www.w3.org/1999/xlink\">\n<g id=\"graph0\" class=\"graph\" transform=\"scale(1 1) rotate(0) translate(4 150)\">\n<polygon fill=\"white\" stroke=\"transparent\" points=\"-4,4 -4,-150 1252,-150 1252,4 -4,4\"/>\n<!-- 4538870832 -->\n<g id=\"node1\" class=\"node\">\n<title>4538870832</title>\n<polygon fill=\"none\" stroke=\"black\" points=\"343,-27.5 343,-63.5 560,-63.5 560,-27.5 343,-27.5\"/>\n<text text-anchor=\"middle\" x=\"354.5\" y=\"-41.8\" font-family=\"Times,serif\" font-size=\"14.00\">d</text>\n<polyline fill=\"none\" stroke=\"black\" points=\"366,-27.5 366,-63.5 \"/>\n<text text-anchor=\"middle\" x=\"412\" y=\"-41.8\" font-family=\"Times,serif\" font-size=\"14.00\">value &#45;6.0000</text>\n<polyline fill=\"none\" stroke=\"black\" points=\"458,-27.5 458,-63.5 \"/>\n<text text-anchor=\"middle\" x=\"509\" y=\"-41.8\" font-family=\"Times,serif\" font-size=\"14.00\">gradient 0.0000</text>\n</g>\n<!-- 4538871072+ -->\n<g id=\"node6\" class=\"node\">\n<title>4538871072+</title>\n<ellipse fill=\"none\" stroke=\"black\" cx=\"623\" cy=\"-72.5\" rx=\"27\" ry=\"18\"/>\n<text text-anchor=\"middle\" x=\"623\" y=\"-68.8\" font-family=\"Times,serif\" font-size=\"14.00\">+</text>\n</g>\n<!-- 4538870832&#45;&gt;4538871072+ -->\n<g id=\"edge7\" class=\"edge\">\n<title>4538870832&#45;&gt;4538871072+</title>\n<path fill=\"none\" stroke=\"black\" d=\"M560.33,-62.68C569.68,-64.17 578.63,-65.59 586.66,-66.87\"/>\n<polygon fill=\"black\" stroke=\"black\" points=\"586.23,-70.35 596.66,-68.46 587.33,-63.43 586.23,-70.35\"/>\n</g>\n<!-- 4538870832* -->\n<g id=\"node2\" class=\"node\">\n<title>4538870832*</title>\n<ellipse fill=\"none\" stroke=\"black\" cx=\"280\" cy=\"-45.5\" rx=\"27\" ry=\"18\"/>\n<text text-anchor=\"middle\" x=\"280\" y=\"-41.8\" font-family=\"Times,serif\" font-size=\"14.00\">*</text>\n</g>\n<!-- 4538870832*&#45;&gt;4538870832 -->\n<g id=\"edge1\" class=\"edge\">\n<title>4538870832*&#45;&gt;4538870832</title>\n<path fill=\"none\" stroke=\"black\" d=\"M307.11,-45.5C314.55,-45.5 323.16,-45.5 332.4,-45.5\"/>\n<polygon fill=\"black\" stroke=\"black\" points=\"332.66,-49 342.66,-45.5 332.66,-42 332.66,-49\"/>\n</g>\n<!-- 4538862144 -->\n<g id=\"node3\" class=\"node\">\n<title>4538862144</title>\n<polygon fill=\"none\" stroke=\"black\" points=\"345.5,-82.5 345.5,-118.5 557.5,-118.5 557.5,-82.5 345.5,-82.5\"/>\n<text text-anchor=\"middle\" x=\"357\" y=\"-96.8\" font-family=\"Times,serif\" font-size=\"14.00\">c</text>\n<polyline fill=\"none\" stroke=\"black\" points=\"368.5,-82.5 368.5,-118.5 \"/>\n<text text-anchor=\"middle\" x=\"412\" y=\"-96.8\" font-family=\"Times,serif\" font-size=\"14.00\">value 8.0000</text>\n<polyline fill=\"none\" stroke=\"black\" points=\"455.5,-82.5 455.5,-118.5 \"/>\n<text text-anchor=\"middle\" x=\"506.5\" y=\"-96.8\" font-family=\"Times,serif\" font-size=\"14.00\">gradient 0.0000</text>\n</g>\n<!-- 4538862144&#45;&gt;4538871072+ -->\n<g id=\"edge8\" class=\"edge\">\n<title>4538862144&#45;&gt;4538871072+</title>\n<path fill=\"none\" stroke=\"black\" d=\"M557.92,-83.09C568.07,-81.41 577.79,-79.8 586.47,-78.37\"/>\n<polygon fill=\"black\" stroke=\"black\" points=\"587.18,-81.8 596.48,-76.72 586.04,-74.89 587.18,-81.8\"/>\n</g>\n<!-- 4538871936 -->\n<g id=\"node4\" class=\"node\">\n<title>4538871936</title>\n<polygon fill=\"none\" stroke=\"black\" points=\"687,-109.5 687,-145.5 902,-145.5 902,-109.5 687,-109.5\"/>\n<text text-anchor=\"middle\" x=\"697.5\" y=\"-123.8\" font-family=\"Times,serif\" font-size=\"14.00\">f</text>\n<polyline fill=\"none\" stroke=\"black\" points=\"708,-109.5 708,-145.5 \"/>\n<text text-anchor=\"middle\" x=\"754\" y=\"-123.8\" font-family=\"Times,serif\" font-size=\"14.00\">value &#45;2.0000</text>\n<polyline fill=\"none\" stroke=\"black\" points=\"800,-109.5 800,-145.5 \"/>\n<text text-anchor=\"middle\" x=\"851\" y=\"-123.8\" font-family=\"Times,serif\" font-size=\"14.00\">gradient 2.0000</text>\n</g>\n<!-- 4538874672* -->\n<g id=\"node8\" class=\"node\">\n<title>4538874672*</title>\n<ellipse fill=\"none\" stroke=\"black\" cx=\"966\" cy=\"-99.5\" rx=\"27\" ry=\"18\"/>\n<text text-anchor=\"middle\" x=\"966\" y=\"-95.8\" font-family=\"Times,serif\" font-size=\"14.00\">*</text>\n</g>\n<!-- 4538871936&#45;&gt;4538874672* -->\n<g id=\"edge5\" class=\"edge\">\n<title>4538871936&#45;&gt;4538874672*</title>\n<path fill=\"none\" stroke=\"black\" d=\"M902.37,-109.85C912.03,-108.25 921.29,-106.72 929.58,-105.35\"/>\n<polygon fill=\"black\" stroke=\"black\" points=\"930.23,-108.79 939.52,-103.71 929.08,-101.89 930.23,-108.79\"/>\n</g>\n<!-- 4538871072 -->\n<g id=\"node5\" class=\"node\">\n<title>4538871072</title>\n<polygon fill=\"none\" stroke=\"black\" points=\"686,-54.5 686,-90.5 903,-90.5 903,-54.5 686,-54.5\"/>\n<text text-anchor=\"middle\" x=\"697.5\" y=\"-68.8\" font-family=\"Times,serif\" font-size=\"14.00\">e</text>\n<polyline fill=\"none\" stroke=\"black\" points=\"709,-54.5 709,-90.5 \"/>\n<text text-anchor=\"middle\" x=\"752.5\" y=\"-68.8\" font-family=\"Times,serif\" font-size=\"14.00\">value 2.0000</text>\n<polyline fill=\"none\" stroke=\"black\" points=\"796,-54.5 796,-90.5 \"/>\n<text text-anchor=\"middle\" x=\"849.5\" y=\"-68.8\" font-family=\"Times,serif\" font-size=\"14.00\">gradient &#45;2.0000</text>\n</g>\n<!-- 4538871072&#45;&gt;4538874672* -->\n<g id=\"edge6\" class=\"edge\">\n<title>4538871072&#45;&gt;4538874672*</title>\n<path fill=\"none\" stroke=\"black\" d=\"M903.33,-89.68C912.68,-91.17 921.63,-92.59 929.66,-93.87\"/>\n<polygon fill=\"black\" stroke=\"black\" points=\"929.23,-97.35 939.66,-95.46 930.33,-90.43 929.23,-97.35\"/>\n</g>\n<!-- 4538871072+&#45;&gt;4538871072 -->\n<g id=\"edge2\" class=\"edge\">\n<title>4538871072+&#45;&gt;4538871072</title>\n<path fill=\"none\" stroke=\"black\" d=\"M650.11,-72.5C657.55,-72.5 666.16,-72.5 675.4,-72.5\"/>\n<polygon fill=\"black\" stroke=\"black\" points=\"675.66,-76 685.66,-72.5 675.66,-69 675.66,-76\"/>\n</g>\n<!-- 4538874672 -->\n<g id=\"node7\" class=\"node\">\n<title>4538874672</title>\n<polygon fill=\"none\" stroke=\"black\" points=\"1029,-81.5 1029,-117.5 1248,-117.5 1248,-81.5 1029,-81.5\"/>\n<text text-anchor=\"middle\" x=\"1041.5\" y=\"-95.8\" font-family=\"Times,serif\" font-size=\"14.00\">L</text>\n<polyline fill=\"none\" stroke=\"black\" points=\"1054,-81.5 1054,-117.5 \"/>\n<text text-anchor=\"middle\" x=\"1100\" y=\"-95.8\" font-family=\"Times,serif\" font-size=\"14.00\">value &#45;4.0000</text>\n<polyline fill=\"none\" stroke=\"black\" points=\"1146,-81.5 1146,-117.5 \"/>\n<text text-anchor=\"middle\" x=\"1197\" y=\"-95.8\" font-family=\"Times,serif\" font-size=\"14.00\">gradient 1.0000</text>\n</g>\n<!-- 4538874672*&#45;&gt;4538874672 -->\n<g id=\"edge3\" class=\"edge\">\n<title>4538874672*&#45;&gt;4538874672</title>\n<path fill=\"none\" stroke=\"black\" d=\"M993.27,-99.5C1000.68,-99.5 1009.25,-99.5 1018.45,-99.5\"/>\n<polygon fill=\"black\" stroke=\"black\" points=\"1018.66,-103 1028.66,-99.5 1018.66,-96 1018.66,-103\"/>\n</g>\n<!-- 4539725152 -->\n<g id=\"node9\" class=\"node\">\n<title>4539725152</title>\n<polygon fill=\"none\" stroke=\"black\" points=\"0,-55.5 0,-91.5 217,-91.5 217,-55.5 0,-55.5\"/>\n<text text-anchor=\"middle\" x=\"11.5\" y=\"-69.8\" font-family=\"Times,serif\" font-size=\"14.00\">b</text>\n<polyline fill=\"none\" stroke=\"black\" points=\"23,-55.5 23,-91.5 \"/>\n<text text-anchor=\"middle\" x=\"69\" y=\"-69.8\" font-family=\"Times,serif\" font-size=\"14.00\">value &#45;3.0000</text>\n<polyline fill=\"none\" stroke=\"black\" points=\"115,-55.5 115,-91.5 \"/>\n<text text-anchor=\"middle\" x=\"166\" y=\"-69.8\" font-family=\"Times,serif\" font-size=\"14.00\">gradient 0.0000</text>\n</g>\n<!-- 4539725152&#45;&gt;4538870832* -->\n<g id=\"edge4\" class=\"edge\">\n<title>4539725152&#45;&gt;4538870832*</title>\n<path fill=\"none\" stroke=\"black\" d=\"M217.33,-55.69C226.68,-54.14 235.63,-52.67 243.66,-51.34\"/>\n<polygon fill=\"black\" stroke=\"black\" points=\"244.36,-54.77 253.66,-49.69 243.22,-47.86 244.36,-54.77\"/>\n</g>\n<!-- 4538863584 -->\n<g id=\"node10\" class=\"node\">\n<title>4538863584</title>\n<polygon fill=\"none\" stroke=\"black\" points=\"2.5,-0.5 2.5,-36.5 214.5,-36.5 214.5,-0.5 2.5,-0.5\"/>\n<text text-anchor=\"middle\" x=\"14\" y=\"-14.8\" font-family=\"Times,serif\" font-size=\"14.00\">a</text>\n<polyline fill=\"none\" stroke=\"black\" points=\"25.5,-0.5 25.5,-36.5 \"/>\n<text text-anchor=\"middle\" x=\"69\" y=\"-14.8\" font-family=\"Times,serif\" font-size=\"14.00\">value 2.0000</text>\n<polyline fill=\"none\" stroke=\"black\" points=\"112.5,-0.5 112.5,-36.5 \"/>\n<text text-anchor=\"middle\" x=\"163.5\" y=\"-14.8\" font-family=\"Times,serif\" font-size=\"14.00\">gradient 0.0000</text>\n</g>\n<!-- 4538863584&#45;&gt;4538870832* -->\n<g id=\"edge9\" class=\"edge\">\n<title>4538863584&#45;&gt;4538870832*</title>\n<path fill=\"none\" stroke=\"black\" d=\"M214.92,-35.29C225.07,-36.91 234.79,-38.46 243.47,-39.84\"/>\n<polygon fill=\"black\" stroke=\"black\" points=\"243.05,-43.32 253.48,-41.43 244.16,-36.41 243.05,-43.32\"/>\n</g>\n</g>\n</svg>\n",
            "text/plain": [
              "<graphviz.graphs.Digraph at 0x10e9686e0>"
            ]
          },
          "execution_count": 12,
          "metadata": {},
          "output_type": "execute_result"
        }
      ],
      "source": [
        "e.gradient = f.value\n",
        "f.gradient = e.value\n",
        "\n",
        "draw_dot(L)"
      ]
    },
    {
      "cell_type": "markdown",
      "metadata": {},
      "source": [
        "**now lets calculate dL/dc by using [chain rule](https://en.wikipedia.org/wiki/Chain_rule)**\n",
        "dL/dc = (dL/de) * (de/dc)\n",
        "\n",
        "from the previous step we know that dL/de = f, \n",
        "\n",
        "de/dc = ?\n",
        "\n",
        "here, e = c + d\n",
        "\n",
        "so, de/dc = ((c+h) + d) - (c+d)/ h\n",
        "          = (c + h + d - c - d )/h\n",
        "          = h/h \n",
        "          = 1.0\n",
        "\n",
        "therefore, dL/dc = (dL/de) * (de/dc)\n",
        "                 = f * 1.0\n",
        "                 = f\n",
        "\n",
        "similary it can be proved that de/dd = 1.0 \n",
        "\n",
        "therefore dL/dd = f\n",
        "\n",
        "Note 2: for addition, **'a + b'**, the deriavtive will **a** as well as **b** will be **1**\n"
      ]
    },
    {
      "cell_type": "code",
      "execution_count": 13,
      "metadata": {},
      "outputs": [
        {
          "data": {
            "image/svg+xml": "<?xml version=\"1.0\" encoding=\"UTF-8\" standalone=\"no\"?>\n<!DOCTYPE svg PUBLIC \"-//W3C//DTD SVG 1.1//EN\"\n \"http://www.w3.org/Graphics/SVG/1.1/DTD/svg11.dtd\">\n<!-- Generated by graphviz version 2.50.0 (0)\n -->\n<!-- Pages: 1 -->\n<svg width=\"1261pt\" height=\"154pt\"\n viewBox=\"0.00 0.00 1261.00 154.00\" xmlns=\"http://www.w3.org/2000/svg\" xmlns:xlink=\"http://www.w3.org/1999/xlink\">\n<g id=\"graph0\" class=\"graph\" transform=\"scale(1 1) rotate(0) translate(4 150)\">\n<polygon fill=\"white\" stroke=\"transparent\" points=\"-4,4 -4,-150 1257,-150 1257,4 -4,4\"/>\n<!-- 4538870832 -->\n<g id=\"node1\" class=\"node\">\n<title>4538870832</title>\n<polygon fill=\"none\" stroke=\"black\" points=\"343,-27.5 343,-63.5 565,-63.5 565,-27.5 343,-27.5\"/>\n<text text-anchor=\"middle\" x=\"354.5\" y=\"-41.8\" font-family=\"Times,serif\" font-size=\"14.00\">d</text>\n<polyline fill=\"none\" stroke=\"black\" points=\"366,-27.5 366,-63.5 \"/>\n<text text-anchor=\"middle\" x=\"412\" y=\"-41.8\" font-family=\"Times,serif\" font-size=\"14.00\">value &#45;6.0000</text>\n<polyline fill=\"none\" stroke=\"black\" points=\"458,-27.5 458,-63.5 \"/>\n<text text-anchor=\"middle\" x=\"511.5\" y=\"-41.8\" font-family=\"Times,serif\" font-size=\"14.00\">gradient &#45;2.0000</text>\n</g>\n<!-- 4538871072+ -->\n<g id=\"node6\" class=\"node\">\n<title>4538871072+</title>\n<ellipse fill=\"none\" stroke=\"black\" cx=\"628\" cy=\"-72.5\" rx=\"27\" ry=\"18\"/>\n<text text-anchor=\"middle\" x=\"628\" y=\"-68.8\" font-family=\"Times,serif\" font-size=\"14.00\">+</text>\n</g>\n<!-- 4538870832&#45;&gt;4538871072+ -->\n<g id=\"edge7\" class=\"edge\">\n<title>4538870832&#45;&gt;4538871072+</title>\n<path fill=\"none\" stroke=\"black\" d=\"M565.39,-62.83C574.67,-64.29 583.54,-65.68 591.51,-66.93\"/>\n<polygon fill=\"black\" stroke=\"black\" points=\"591.01,-70.39 601.43,-68.49 592.09,-63.48 591.01,-70.39\"/>\n</g>\n<!-- 4538870832* -->\n<g id=\"node2\" class=\"node\">\n<title>4538870832*</title>\n<ellipse fill=\"none\" stroke=\"black\" cx=\"280\" cy=\"-45.5\" rx=\"27\" ry=\"18\"/>\n<text text-anchor=\"middle\" x=\"280\" y=\"-41.8\" font-family=\"Times,serif\" font-size=\"14.00\">*</text>\n</g>\n<!-- 4538870832*&#45;&gt;4538870832 -->\n<g id=\"edge1\" class=\"edge\">\n<title>4538870832*&#45;&gt;4538870832</title>\n<path fill=\"none\" stroke=\"black\" d=\"M307.12,-45.5C314.66,-45.5 323.41,-45.5 332.81,-45.5\"/>\n<polygon fill=\"black\" stroke=\"black\" points=\"332.82,-49 342.81,-45.5 332.81,-42 332.82,-49\"/>\n</g>\n<!-- 4538862144 -->\n<g id=\"node3\" class=\"node\">\n<title>4538862144</title>\n<polygon fill=\"none\" stroke=\"black\" points=\"345.5,-82.5 345.5,-118.5 562.5,-118.5 562.5,-82.5 345.5,-82.5\"/>\n<text text-anchor=\"middle\" x=\"357\" y=\"-96.8\" font-family=\"Times,serif\" font-size=\"14.00\">c</text>\n<polyline fill=\"none\" stroke=\"black\" points=\"368.5,-82.5 368.5,-118.5 \"/>\n<text text-anchor=\"middle\" x=\"412\" y=\"-96.8\" font-family=\"Times,serif\" font-size=\"14.00\">value 8.0000</text>\n<polyline fill=\"none\" stroke=\"black\" points=\"455.5,-82.5 455.5,-118.5 \"/>\n<text text-anchor=\"middle\" x=\"509\" y=\"-96.8\" font-family=\"Times,serif\" font-size=\"14.00\">gradient &#45;2.0000</text>\n</g>\n<!-- 4538862144&#45;&gt;4538871072+ -->\n<g id=\"edge8\" class=\"edge\">\n<title>4538862144&#45;&gt;4538871072+</title>\n<path fill=\"none\" stroke=\"black\" d=\"M562.95,-82.93C573.13,-81.27 582.86,-79.69 591.53,-78.27\"/>\n<polygon fill=\"black\" stroke=\"black\" points=\"592.23,-81.71 601.54,-76.64 591.11,-74.8 592.23,-81.71\"/>\n</g>\n<!-- 4538871936 -->\n<g id=\"node4\" class=\"node\">\n<title>4538871936</title>\n<polygon fill=\"none\" stroke=\"black\" points=\"692,-109.5 692,-145.5 907,-145.5 907,-109.5 692,-109.5\"/>\n<text text-anchor=\"middle\" x=\"702.5\" y=\"-123.8\" font-family=\"Times,serif\" font-size=\"14.00\">f</text>\n<polyline fill=\"none\" stroke=\"black\" points=\"713,-109.5 713,-145.5 \"/>\n<text text-anchor=\"middle\" x=\"759\" y=\"-123.8\" font-family=\"Times,serif\" font-size=\"14.00\">value &#45;2.0000</text>\n<polyline fill=\"none\" stroke=\"black\" points=\"805,-109.5 805,-145.5 \"/>\n<text text-anchor=\"middle\" x=\"856\" y=\"-123.8\" font-family=\"Times,serif\" font-size=\"14.00\">gradient 2.0000</text>\n</g>\n<!-- 4538874672* -->\n<g id=\"node8\" class=\"node\">\n<title>4538874672*</title>\n<ellipse fill=\"none\" stroke=\"black\" cx=\"971\" cy=\"-99.5\" rx=\"27\" ry=\"18\"/>\n<text text-anchor=\"middle\" x=\"971\" y=\"-95.8\" font-family=\"Times,serif\" font-size=\"14.00\">*</text>\n</g>\n<!-- 4538871936&#45;&gt;4538874672* -->\n<g id=\"edge5\" class=\"edge\">\n<title>4538871936&#45;&gt;4538874672*</title>\n<path fill=\"none\" stroke=\"black\" d=\"M907.37,-109.85C917.03,-108.25 926.29,-106.72 934.58,-105.35\"/>\n<polygon fill=\"black\" stroke=\"black\" points=\"935.23,-108.79 944.52,-103.71 934.08,-101.89 935.23,-108.79\"/>\n</g>\n<!-- 4538871072 -->\n<g id=\"node5\" class=\"node\">\n<title>4538871072</title>\n<polygon fill=\"none\" stroke=\"black\" points=\"691,-54.5 691,-90.5 908,-90.5 908,-54.5 691,-54.5\"/>\n<text text-anchor=\"middle\" x=\"702.5\" y=\"-68.8\" font-family=\"Times,serif\" font-size=\"14.00\">e</text>\n<polyline fill=\"none\" stroke=\"black\" points=\"714,-54.5 714,-90.5 \"/>\n<text text-anchor=\"middle\" x=\"757.5\" y=\"-68.8\" font-family=\"Times,serif\" font-size=\"14.00\">value 2.0000</text>\n<polyline fill=\"none\" stroke=\"black\" points=\"801,-54.5 801,-90.5 \"/>\n<text text-anchor=\"middle\" x=\"854.5\" y=\"-68.8\" font-family=\"Times,serif\" font-size=\"14.00\">gradient &#45;2.0000</text>\n</g>\n<!-- 4538871072&#45;&gt;4538874672* -->\n<g id=\"edge6\" class=\"edge\">\n<title>4538871072&#45;&gt;4538874672*</title>\n<path fill=\"none\" stroke=\"black\" d=\"M908.33,-89.68C917.68,-91.17 926.63,-92.59 934.66,-93.87\"/>\n<polygon fill=\"black\" stroke=\"black\" points=\"934.23,-97.35 944.66,-95.46 935.33,-90.43 934.23,-97.35\"/>\n</g>\n<!-- 4538871072+&#45;&gt;4538871072 -->\n<g id=\"edge2\" class=\"edge\">\n<title>4538871072+&#45;&gt;4538871072</title>\n<path fill=\"none\" stroke=\"black\" d=\"M655.11,-72.5C662.55,-72.5 671.16,-72.5 680.4,-72.5\"/>\n<polygon fill=\"black\" stroke=\"black\" points=\"680.66,-76 690.66,-72.5 680.66,-69 680.66,-76\"/>\n</g>\n<!-- 4538874672 -->\n<g id=\"node7\" class=\"node\">\n<title>4538874672</title>\n<polygon fill=\"none\" stroke=\"black\" points=\"1034,-81.5 1034,-117.5 1253,-117.5 1253,-81.5 1034,-81.5\"/>\n<text text-anchor=\"middle\" x=\"1046.5\" y=\"-95.8\" font-family=\"Times,serif\" font-size=\"14.00\">L</text>\n<polyline fill=\"none\" stroke=\"black\" points=\"1059,-81.5 1059,-117.5 \"/>\n<text text-anchor=\"middle\" x=\"1105\" y=\"-95.8\" font-family=\"Times,serif\" font-size=\"14.00\">value &#45;4.0000</text>\n<polyline fill=\"none\" stroke=\"black\" points=\"1151,-81.5 1151,-117.5 \"/>\n<text text-anchor=\"middle\" x=\"1202\" y=\"-95.8\" font-family=\"Times,serif\" font-size=\"14.00\">gradient 1.0000</text>\n</g>\n<!-- 4538874672*&#45;&gt;4538874672 -->\n<g id=\"edge3\" class=\"edge\">\n<title>4538874672*&#45;&gt;4538874672</title>\n<path fill=\"none\" stroke=\"black\" d=\"M998.27,-99.5C1005.68,-99.5 1014.25,-99.5 1023.45,-99.5\"/>\n<polygon fill=\"black\" stroke=\"black\" points=\"1023.66,-103 1033.66,-99.5 1023.66,-96 1023.66,-103\"/>\n</g>\n<!-- 4539725152 -->\n<g id=\"node9\" class=\"node\">\n<title>4539725152</title>\n<polygon fill=\"none\" stroke=\"black\" points=\"0,-55.5 0,-91.5 217,-91.5 217,-55.5 0,-55.5\"/>\n<text text-anchor=\"middle\" x=\"11.5\" y=\"-69.8\" font-family=\"Times,serif\" font-size=\"14.00\">b</text>\n<polyline fill=\"none\" stroke=\"black\" points=\"23,-55.5 23,-91.5 \"/>\n<text text-anchor=\"middle\" x=\"69\" y=\"-69.8\" font-family=\"Times,serif\" font-size=\"14.00\">value &#45;3.0000</text>\n<polyline fill=\"none\" stroke=\"black\" points=\"115,-55.5 115,-91.5 \"/>\n<text text-anchor=\"middle\" x=\"166\" y=\"-69.8\" font-family=\"Times,serif\" font-size=\"14.00\">gradient 0.0000</text>\n</g>\n<!-- 4539725152&#45;&gt;4538870832* -->\n<g id=\"edge4\" class=\"edge\">\n<title>4539725152&#45;&gt;4538870832*</title>\n<path fill=\"none\" stroke=\"black\" d=\"M217.33,-55.69C226.68,-54.14 235.63,-52.67 243.66,-51.34\"/>\n<polygon fill=\"black\" stroke=\"black\" points=\"244.36,-54.77 253.66,-49.69 243.22,-47.86 244.36,-54.77\"/>\n</g>\n<!-- 4538863584 -->\n<g id=\"node10\" class=\"node\">\n<title>4538863584</title>\n<polygon fill=\"none\" stroke=\"black\" points=\"2.5,-0.5 2.5,-36.5 214.5,-36.5 214.5,-0.5 2.5,-0.5\"/>\n<text text-anchor=\"middle\" x=\"14\" y=\"-14.8\" font-family=\"Times,serif\" font-size=\"14.00\">a</text>\n<polyline fill=\"none\" stroke=\"black\" points=\"25.5,-0.5 25.5,-36.5 \"/>\n<text text-anchor=\"middle\" x=\"69\" y=\"-14.8\" font-family=\"Times,serif\" font-size=\"14.00\">value 2.0000</text>\n<polyline fill=\"none\" stroke=\"black\" points=\"112.5,-0.5 112.5,-36.5 \"/>\n<text text-anchor=\"middle\" x=\"163.5\" y=\"-14.8\" font-family=\"Times,serif\" font-size=\"14.00\">gradient 0.0000</text>\n</g>\n<!-- 4538863584&#45;&gt;4538870832* -->\n<g id=\"edge9\" class=\"edge\">\n<title>4538863584&#45;&gt;4538870832*</title>\n<path fill=\"none\" stroke=\"black\" d=\"M214.92,-35.29C225.07,-36.91 234.79,-38.46 243.47,-39.84\"/>\n<polygon fill=\"black\" stroke=\"black\" points=\"243.05,-43.32 253.48,-41.43 244.16,-36.41 243.05,-43.32\"/>\n</g>\n</g>\n</svg>\n",
            "text/plain": [
              "<graphviz.graphs.Digraph at 0x10e968ef0>"
            ]
          },
          "execution_count": 13,
          "metadata": {},
          "output_type": "execute_result"
        }
      ],
      "source": [
        "c.gradient = f.value\n",
        "d.gradient = f.value\n",
        "\n",
        "draw_dot(L)"
      ]
    },
    {
      "cell_type": "markdown",
      "metadata": {},
      "source": [
        "now lets calcualte **dL/da**\n",
        "\n",
        "dL/da = dL/dd * dd/da\n",
        "\n",
        "from previous step, we know that dL/dd = f \n",
        "\n",
        "and from **Note 1**, we can surmise that dd/da will be **b**\n",
        "\n",
        "therefore dL/da = f * b\n",
        "\n",
        "similarly it can be proved that, dL/db = f * a\n"
      ]
    },
    {
      "cell_type": "code",
      "execution_count": 14,
      "metadata": {},
      "outputs": [
        {
          "data": {
            "image/svg+xml": "<?xml version=\"1.0\" encoding=\"UTF-8\" standalone=\"no\"?>\n<!DOCTYPE svg PUBLIC \"-//W3C//DTD SVG 1.1//EN\"\n \"http://www.w3.org/Graphics/SVG/1.1/DTD/svg11.dtd\">\n<!-- Generated by graphviz version 2.50.0 (0)\n -->\n<!-- Pages: 1 -->\n<svg width=\"1266pt\" height=\"154pt\"\n viewBox=\"0.00 0.00 1266.00 154.00\" xmlns=\"http://www.w3.org/2000/svg\" xmlns:xlink=\"http://www.w3.org/1999/xlink\">\n<g id=\"graph0\" class=\"graph\" transform=\"scale(1 1) rotate(0) translate(4 150)\">\n<polygon fill=\"white\" stroke=\"transparent\" points=\"-4,4 -4,-150 1262,-150 1262,4 -4,4\"/>\n<!-- 4538870832 -->\n<g id=\"node1\" class=\"node\">\n<title>4538870832</title>\n<polygon fill=\"none\" stroke=\"black\" points=\"348,-27.5 348,-63.5 570,-63.5 570,-27.5 348,-27.5\"/>\n<text text-anchor=\"middle\" x=\"359.5\" y=\"-41.8\" font-family=\"Times,serif\" font-size=\"14.00\">d</text>\n<polyline fill=\"none\" stroke=\"black\" points=\"371,-27.5 371,-63.5 \"/>\n<text text-anchor=\"middle\" x=\"417\" y=\"-41.8\" font-family=\"Times,serif\" font-size=\"14.00\">value &#45;6.0000</text>\n<polyline fill=\"none\" stroke=\"black\" points=\"463,-27.5 463,-63.5 \"/>\n<text text-anchor=\"middle\" x=\"516.5\" y=\"-41.8\" font-family=\"Times,serif\" font-size=\"14.00\">gradient &#45;2.0000</text>\n</g>\n<!-- 4538871072+ -->\n<g id=\"node6\" class=\"node\">\n<title>4538871072+</title>\n<ellipse fill=\"none\" stroke=\"black\" cx=\"633\" cy=\"-72.5\" rx=\"27\" ry=\"18\"/>\n<text text-anchor=\"middle\" x=\"633\" y=\"-68.8\" font-family=\"Times,serif\" font-size=\"14.00\">+</text>\n</g>\n<!-- 4538870832&#45;&gt;4538871072+ -->\n<g id=\"edge7\" class=\"edge\">\n<title>4538870832&#45;&gt;4538871072+</title>\n<path fill=\"none\" stroke=\"black\" d=\"M570.39,-62.83C579.67,-64.29 588.54,-65.68 596.51,-66.93\"/>\n<polygon fill=\"black\" stroke=\"black\" points=\"596.01,-70.39 606.43,-68.49 597.09,-63.48 596.01,-70.39\"/>\n</g>\n<!-- 4538870832* -->\n<g id=\"node2\" class=\"node\">\n<title>4538870832*</title>\n<ellipse fill=\"none\" stroke=\"black\" cx=\"285\" cy=\"-45.5\" rx=\"27\" ry=\"18\"/>\n<text text-anchor=\"middle\" x=\"285\" y=\"-41.8\" font-family=\"Times,serif\" font-size=\"14.00\">*</text>\n</g>\n<!-- 4538870832*&#45;&gt;4538870832 -->\n<g id=\"edge1\" class=\"edge\">\n<title>4538870832*&#45;&gt;4538870832</title>\n<path fill=\"none\" stroke=\"black\" d=\"M312.12,-45.5C319.66,-45.5 328.41,-45.5 337.81,-45.5\"/>\n<polygon fill=\"black\" stroke=\"black\" points=\"337.82,-49 347.81,-45.5 337.81,-42 337.82,-49\"/>\n</g>\n<!-- 4538862144 -->\n<g id=\"node3\" class=\"node\">\n<title>4538862144</title>\n<polygon fill=\"none\" stroke=\"black\" points=\"350.5,-82.5 350.5,-118.5 567.5,-118.5 567.5,-82.5 350.5,-82.5\"/>\n<text text-anchor=\"middle\" x=\"362\" y=\"-96.8\" font-family=\"Times,serif\" font-size=\"14.00\">c</text>\n<polyline fill=\"none\" stroke=\"black\" points=\"373.5,-82.5 373.5,-118.5 \"/>\n<text text-anchor=\"middle\" x=\"417\" y=\"-96.8\" font-family=\"Times,serif\" font-size=\"14.00\">value 8.0000</text>\n<polyline fill=\"none\" stroke=\"black\" points=\"460.5,-82.5 460.5,-118.5 \"/>\n<text text-anchor=\"middle\" x=\"514\" y=\"-96.8\" font-family=\"Times,serif\" font-size=\"14.00\">gradient &#45;2.0000</text>\n</g>\n<!-- 4538862144&#45;&gt;4538871072+ -->\n<g id=\"edge8\" class=\"edge\">\n<title>4538862144&#45;&gt;4538871072+</title>\n<path fill=\"none\" stroke=\"black\" d=\"M567.95,-82.93C578.13,-81.27 587.86,-79.69 596.53,-78.27\"/>\n<polygon fill=\"black\" stroke=\"black\" points=\"597.23,-81.71 606.54,-76.64 596.11,-74.8 597.23,-81.71\"/>\n</g>\n<!-- 4538871936 -->\n<g id=\"node4\" class=\"node\">\n<title>4538871936</title>\n<polygon fill=\"none\" stroke=\"black\" points=\"697,-109.5 697,-145.5 912,-145.5 912,-109.5 697,-109.5\"/>\n<text text-anchor=\"middle\" x=\"707.5\" y=\"-123.8\" font-family=\"Times,serif\" font-size=\"14.00\">f</text>\n<polyline fill=\"none\" stroke=\"black\" points=\"718,-109.5 718,-145.5 \"/>\n<text text-anchor=\"middle\" x=\"764\" y=\"-123.8\" font-family=\"Times,serif\" font-size=\"14.00\">value &#45;2.0000</text>\n<polyline fill=\"none\" stroke=\"black\" points=\"810,-109.5 810,-145.5 \"/>\n<text text-anchor=\"middle\" x=\"861\" y=\"-123.8\" font-family=\"Times,serif\" font-size=\"14.00\">gradient 2.0000</text>\n</g>\n<!-- 4538874672* -->\n<g id=\"node8\" class=\"node\">\n<title>4538874672*</title>\n<ellipse fill=\"none\" stroke=\"black\" cx=\"976\" cy=\"-99.5\" rx=\"27\" ry=\"18\"/>\n<text text-anchor=\"middle\" x=\"976\" y=\"-95.8\" font-family=\"Times,serif\" font-size=\"14.00\">*</text>\n</g>\n<!-- 4538871936&#45;&gt;4538874672* -->\n<g id=\"edge5\" class=\"edge\">\n<title>4538871936&#45;&gt;4538874672*</title>\n<path fill=\"none\" stroke=\"black\" d=\"M912.37,-109.85C922.03,-108.25 931.29,-106.72 939.58,-105.35\"/>\n<polygon fill=\"black\" stroke=\"black\" points=\"940.23,-108.79 949.52,-103.71 939.08,-101.89 940.23,-108.79\"/>\n</g>\n<!-- 4538871072 -->\n<g id=\"node5\" class=\"node\">\n<title>4538871072</title>\n<polygon fill=\"none\" stroke=\"black\" points=\"696,-54.5 696,-90.5 913,-90.5 913,-54.5 696,-54.5\"/>\n<text text-anchor=\"middle\" x=\"707.5\" y=\"-68.8\" font-family=\"Times,serif\" font-size=\"14.00\">e</text>\n<polyline fill=\"none\" stroke=\"black\" points=\"719,-54.5 719,-90.5 \"/>\n<text text-anchor=\"middle\" x=\"762.5\" y=\"-68.8\" font-family=\"Times,serif\" font-size=\"14.00\">value 2.0000</text>\n<polyline fill=\"none\" stroke=\"black\" points=\"806,-54.5 806,-90.5 \"/>\n<text text-anchor=\"middle\" x=\"859.5\" y=\"-68.8\" font-family=\"Times,serif\" font-size=\"14.00\">gradient &#45;2.0000</text>\n</g>\n<!-- 4538871072&#45;&gt;4538874672* -->\n<g id=\"edge6\" class=\"edge\">\n<title>4538871072&#45;&gt;4538874672*</title>\n<path fill=\"none\" stroke=\"black\" d=\"M913.33,-89.68C922.68,-91.17 931.63,-92.59 939.66,-93.87\"/>\n<polygon fill=\"black\" stroke=\"black\" points=\"939.23,-97.35 949.66,-95.46 940.33,-90.43 939.23,-97.35\"/>\n</g>\n<!-- 4538871072+&#45;&gt;4538871072 -->\n<g id=\"edge2\" class=\"edge\">\n<title>4538871072+&#45;&gt;4538871072</title>\n<path fill=\"none\" stroke=\"black\" d=\"M660.11,-72.5C667.55,-72.5 676.16,-72.5 685.4,-72.5\"/>\n<polygon fill=\"black\" stroke=\"black\" points=\"685.66,-76 695.66,-72.5 685.66,-69 685.66,-76\"/>\n</g>\n<!-- 4538874672 -->\n<g id=\"node7\" class=\"node\">\n<title>4538874672</title>\n<polygon fill=\"none\" stroke=\"black\" points=\"1039,-81.5 1039,-117.5 1258,-117.5 1258,-81.5 1039,-81.5\"/>\n<text text-anchor=\"middle\" x=\"1051.5\" y=\"-95.8\" font-family=\"Times,serif\" font-size=\"14.00\">L</text>\n<polyline fill=\"none\" stroke=\"black\" points=\"1064,-81.5 1064,-117.5 \"/>\n<text text-anchor=\"middle\" x=\"1110\" y=\"-95.8\" font-family=\"Times,serif\" font-size=\"14.00\">value &#45;4.0000</text>\n<polyline fill=\"none\" stroke=\"black\" points=\"1156,-81.5 1156,-117.5 \"/>\n<text text-anchor=\"middle\" x=\"1207\" y=\"-95.8\" font-family=\"Times,serif\" font-size=\"14.00\">gradient 1.0000</text>\n</g>\n<!-- 4538874672*&#45;&gt;4538874672 -->\n<g id=\"edge3\" class=\"edge\">\n<title>4538874672*&#45;&gt;4538874672</title>\n<path fill=\"none\" stroke=\"black\" d=\"M1003.27,-99.5C1010.68,-99.5 1019.25,-99.5 1028.45,-99.5\"/>\n<polygon fill=\"black\" stroke=\"black\" points=\"1028.66,-103 1038.66,-99.5 1028.66,-96 1028.66,-103\"/>\n</g>\n<!-- 4539725152 -->\n<g id=\"node9\" class=\"node\">\n<title>4539725152</title>\n<polygon fill=\"none\" stroke=\"black\" points=\"0,-55.5 0,-91.5 222,-91.5 222,-55.5 0,-55.5\"/>\n<text text-anchor=\"middle\" x=\"11.5\" y=\"-69.8\" font-family=\"Times,serif\" font-size=\"14.00\">b</text>\n<polyline fill=\"none\" stroke=\"black\" points=\"23,-55.5 23,-91.5 \"/>\n<text text-anchor=\"middle\" x=\"69\" y=\"-69.8\" font-family=\"Times,serif\" font-size=\"14.00\">value &#45;3.0000</text>\n<polyline fill=\"none\" stroke=\"black\" points=\"115,-55.5 115,-91.5 \"/>\n<text text-anchor=\"middle\" x=\"168.5\" y=\"-69.8\" font-family=\"Times,serif\" font-size=\"14.00\">gradient &#45;4.0000</text>\n</g>\n<!-- 4539725152&#45;&gt;4538870832* -->\n<g id=\"edge4\" class=\"edge\">\n<title>4539725152&#45;&gt;4538870832*</title>\n<path fill=\"none\" stroke=\"black\" d=\"M222.39,-55.53C231.67,-54.02 240.54,-52.58 248.51,-51.28\"/>\n<polygon fill=\"black\" stroke=\"black\" points=\"249.12,-54.72 258.43,-49.66 247.99,-47.82 249.12,-54.72\"/>\n</g>\n<!-- 4538863584 -->\n<g id=\"node10\" class=\"node\">\n<title>4538863584</title>\n<polygon fill=\"none\" stroke=\"black\" points=\"5,-0.5 5,-36.5 217,-36.5 217,-0.5 5,-0.5\"/>\n<text text-anchor=\"middle\" x=\"16.5\" y=\"-14.8\" font-family=\"Times,serif\" font-size=\"14.00\">a</text>\n<polyline fill=\"none\" stroke=\"black\" points=\"28,-0.5 28,-36.5 \"/>\n<text text-anchor=\"middle\" x=\"71.5\" y=\"-14.8\" font-family=\"Times,serif\" font-size=\"14.00\">value 2.0000</text>\n<polyline fill=\"none\" stroke=\"black\" points=\"115,-0.5 115,-36.5 \"/>\n<text text-anchor=\"middle\" x=\"166\" y=\"-14.8\" font-family=\"Times,serif\" font-size=\"14.00\">gradient 6.0000</text>\n</g>\n<!-- 4538863584&#45;&gt;4538870832* -->\n<g id=\"edge9\" class=\"edge\">\n<title>4538863584&#45;&gt;4538870832*</title>\n<path fill=\"none\" stroke=\"black\" d=\"M217.01,-34.98C228.19,-36.74 238.92,-38.42 248.39,-39.91\"/>\n<polygon fill=\"black\" stroke=\"black\" points=\"248.08,-43.4 258.5,-41.5 249.16,-36.49 248.08,-43.4\"/>\n</g>\n</g>\n</svg>\n",
            "text/plain": [
              "<graphviz.graphs.Digraph at 0x10e968800>"
            ]
          },
          "execution_count": 14,
          "metadata": {},
          "output_type": "execute_result"
        }
      ],
      "source": [
        "a.gradient = f.value * b.value\n",
        "b.gradient = f.value * a.value\n",
        "\n",
        "draw_dot(L)"
      ]
    },
    {
      "cell_type": "markdown",
      "metadata": {},
      "source": [
        "Example 2\n",
        "\n",
        "Observe how the loss is affected: as we change the operands by a small value, the loss will go up"
      ]
    },
    {
      "cell_type": "code",
      "execution_count": 15,
      "metadata": {},
      "outputs": [
        {
          "data": {
            "text/plain": [
              "Variable(value=-3.6159004799999996)"
            ]
          },
          "execution_count": 15,
          "metadata": {},
          "output_type": "execute_result"
        }
      ],
      "source": [
        "a.value += 0.01 * a.gradient\n",
        "b.value += 0.001 * b.gradient\n",
        "c.value += 0.001 * c.gradient\n",
        "f.value += 0.001 * f.gradient\n",
        "\n",
        "d = a*b\n",
        "e = d + c\n",
        "L = e * f\n",
        "\n",
        "L"
      ]
    },
    {
      "cell_type": "markdown",
      "metadata": {},
      "source": [
        "## Neural Networks are made up of layers of neurons"
      ]
    },
    {
      "cell_type": "markdown",
      "metadata": {},
      "source": [
        "### Backpropagation through a Neuron"
      ]
    },
    {
      "cell_type": "code",
      "execution_count": 16,
      "metadata": {},
      "outputs": [
        {
          "data": {
            "image/svg+xml": "<?xml version=\"1.0\" encoding=\"UTF-8\" standalone=\"no\"?>\n<!DOCTYPE svg PUBLIC \"-//W3C//DTD SVG 1.1//EN\"\n \"http://www.w3.org/Graphics/SVG/1.1/DTD/svg11.dtd\">\n<!-- Generated by graphviz version 2.50.0 (0)\n -->\n<!-- Pages: 1 -->\n<svg width=\"1696pt\" height=\"210pt\"\n viewBox=\"0.00 0.00 1696.00 210.00\" xmlns=\"http://www.w3.org/2000/svg\" xmlns:xlink=\"http://www.w3.org/1999/xlink\">\n<g id=\"graph0\" class=\"graph\" transform=\"scale(1 1) rotate(0) translate(4 206)\">\n<polygon fill=\"white\" stroke=\"transparent\" points=\"-4,4 -4,-206 1692,-206 1692,4 -4,4\"/>\n<!-- 4539715456 -->\n<g id=\"node1\" class=\"node\">\n<title>4539715456</title>\n<polygon fill=\"none\" stroke=\"black\" points=\"355.5,-55.5 355.5,-91.5 597.5,-91.5 597.5,-55.5 355.5,-55.5\"/>\n<text text-anchor=\"middle\" x=\"382\" y=\"-69.8\" font-family=\"Times,serif\" font-size=\"14.00\">x2*w2</text>\n<polyline fill=\"none\" stroke=\"black\" points=\"408.5,-55.5 408.5,-91.5 \"/>\n<text text-anchor=\"middle\" x=\"452\" y=\"-69.8\" font-family=\"Times,serif\" font-size=\"14.00\">value 2.0000</text>\n<polyline fill=\"none\" stroke=\"black\" points=\"495.5,-55.5 495.5,-91.5 \"/>\n<text text-anchor=\"middle\" x=\"546.5\" y=\"-69.8\" font-family=\"Times,serif\" font-size=\"14.00\">gradient 0.4869</text>\n</g>\n<!-- 4539715168+ -->\n<g id=\"node6\" class=\"node\">\n<title>4539715168+</title>\n<ellipse fill=\"none\" stroke=\"black\" cx=\"663\" cy=\"-100.5\" rx=\"27\" ry=\"18\"/>\n<text text-anchor=\"middle\" x=\"663\" y=\"-96.8\" font-family=\"Times,serif\" font-size=\"14.00\">+</text>\n</g>\n<!-- 4539715456&#45;&gt;4539715168+ -->\n<g id=\"edge6\" class=\"edge\">\n<title>4539715456&#45;&gt;4539715168+</title>\n<path fill=\"none\" stroke=\"black\" d=\"M597.73,-91.09C607.97,-92.59 617.71,-94.02 626.36,-95.28\"/>\n<polygon fill=\"black\" stroke=\"black\" points=\"625.93,-98.76 636.33,-96.74 626.95,-91.83 625.93,-98.76\"/>\n</g>\n<!-- 4539715456* -->\n<g id=\"node2\" class=\"node\">\n<title>4539715456*</title>\n<ellipse fill=\"none\" stroke=\"black\" cx=\"290\" cy=\"-73.5\" rx=\"27\" ry=\"18\"/>\n<text text-anchor=\"middle\" x=\"290\" y=\"-69.8\" font-family=\"Times,serif\" font-size=\"14.00\">*</text>\n</g>\n<!-- 4539715456*&#45;&gt;4539715456 -->\n<g id=\"edge1\" class=\"edge\">\n<title>4539715456*&#45;&gt;4539715456</title>\n<path fill=\"none\" stroke=\"black\" d=\"M317.04,-73.5C325.17,-73.5 334.75,-73.5 345.11,-73.5\"/>\n<polygon fill=\"black\" stroke=\"black\" points=\"345.26,-77 355.26,-73.5 345.26,-70 345.26,-77\"/>\n</g>\n<!-- 4539176992 -->\n<g id=\"node3\" class=\"node\">\n<title>4539176992</title>\n<polygon fill=\"none\" stroke=\"black\" points=\"1476,-109.5 1476,-145.5 1688,-145.5 1688,-109.5 1476,-109.5\"/>\n<text text-anchor=\"middle\" x=\"1487.5\" y=\"-123.8\" font-family=\"Times,serif\" font-size=\"14.00\">y</text>\n<polyline fill=\"none\" stroke=\"black\" points=\"1499,-109.5 1499,-145.5 \"/>\n<text text-anchor=\"middle\" x=\"1542.5\" y=\"-123.8\" font-family=\"Times,serif\" font-size=\"14.00\">value 0.7163</text>\n<polyline fill=\"none\" stroke=\"black\" points=\"1586,-109.5 1586,-145.5 \"/>\n<text text-anchor=\"middle\" x=\"1637\" y=\"-123.8\" font-family=\"Times,serif\" font-size=\"14.00\">gradient 1.0000</text>\n</g>\n<!-- 4539176992tanh -->\n<g id=\"node4\" class=\"node\">\n<title>4539176992tanh</title>\n<ellipse fill=\"none\" stroke=\"black\" cx=\"1413\" cy=\"-127.5\" rx=\"27\" ry=\"18\"/>\n<text text-anchor=\"middle\" x=\"1413\" y=\"-123.8\" font-family=\"Times,serif\" font-size=\"14.00\">tanh</text>\n</g>\n<!-- 4539176992tanh&#45;&gt;4539176992 -->\n<g id=\"edge2\" class=\"edge\">\n<title>4539176992tanh&#45;&gt;4539176992</title>\n<path fill=\"none\" stroke=\"black\" d=\"M1440.09,-127.5C1447.65,-127.5 1456.42,-127.5 1465.83,-127.5\"/>\n<polygon fill=\"black\" stroke=\"black\" points=\"1465.83,-131 1475.83,-127.5 1465.83,-124 1465.83,-131\"/>\n</g>\n<!-- 4539715168 -->\n<g id=\"node5\" class=\"node\">\n<title>4539715168</title>\n<polygon fill=\"none\" stroke=\"black\" points=\"726,-82.5 726,-118.5 1012,-118.5 1012,-82.5 726,-82.5\"/>\n<text text-anchor=\"middle\" x=\"772\" y=\"-96.8\" font-family=\"Times,serif\" font-size=\"14.00\">x1w1 + x2w2</text>\n<polyline fill=\"none\" stroke=\"black\" points=\"818,-82.5 818,-118.5 \"/>\n<text text-anchor=\"middle\" x=\"864\" y=\"-96.8\" font-family=\"Times,serif\" font-size=\"14.00\">value &#45;2.0000</text>\n<polyline fill=\"none\" stroke=\"black\" points=\"910,-82.5 910,-118.5 \"/>\n<text text-anchor=\"middle\" x=\"961\" y=\"-96.8\" font-family=\"Times,serif\" font-size=\"14.00\">gradient 0.4869</text>\n</g>\n<!-- 4539720064+ -->\n<g id=\"node13\" class=\"node\">\n<title>4539720064+</title>\n<ellipse fill=\"none\" stroke=\"black\" cx=\"1075\" cy=\"-127.5\" rx=\"27\" ry=\"18\"/>\n<text text-anchor=\"middle\" x=\"1075\" y=\"-123.8\" font-family=\"Times,serif\" font-size=\"14.00\">+</text>\n</g>\n<!-- 4539715168&#45;&gt;4539720064+ -->\n<g id=\"edge14\" class=\"edge\">\n<title>4539715168&#45;&gt;4539720064+</title>\n<path fill=\"none\" stroke=\"black\" d=\"M1006.07,-118.51C1017.65,-120.04 1028.56,-121.49 1038.12,-122.75\"/>\n<polygon fill=\"black\" stroke=\"black\" points=\"1037.92,-126.25 1048.29,-124.1 1038.83,-119.32 1037.92,-126.25\"/>\n</g>\n<!-- 4539715168+&#45;&gt;4539715168 -->\n<g id=\"edge3\" class=\"edge\">\n<title>4539715168+&#45;&gt;4539715168</title>\n<path fill=\"none\" stroke=\"black\" d=\"M690.25,-100.5C697.68,-100.5 706.33,-100.5 715.75,-100.5\"/>\n<polygon fill=\"black\" stroke=\"black\" points=\"715.82,-104 725.82,-100.5 715.82,-97 715.82,-104\"/>\n</g>\n<!-- 4539101792 -->\n<g id=\"node7\" class=\"node\">\n<title>4539101792</title>\n<polygon fill=\"none\" stroke=\"black\" points=\"763,-137.5 763,-173.5 975,-173.5 975,-137.5 763,-137.5\"/>\n<text text-anchor=\"middle\" x=\"774.5\" y=\"-151.8\" font-family=\"Times,serif\" font-size=\"14.00\">b</text>\n<polyline fill=\"none\" stroke=\"black\" points=\"786,-137.5 786,-173.5 \"/>\n<text text-anchor=\"middle\" x=\"829.5\" y=\"-151.8\" font-family=\"Times,serif\" font-size=\"14.00\">value 2.9000</text>\n<polyline fill=\"none\" stroke=\"black\" points=\"873,-137.5 873,-173.5 \"/>\n<text text-anchor=\"middle\" x=\"924\" y=\"-151.8\" font-family=\"Times,serif\" font-size=\"14.00\">gradient 0.4869</text>\n</g>\n<!-- 4539101792&#45;&gt;4539720064+ -->\n<g id=\"edge10\" class=\"edge\">\n<title>4539101792&#45;&gt;4539720064+</title>\n<path fill=\"none\" stroke=\"black\" d=\"M975.29,-141.05C997.98,-137.93 1020.46,-134.85 1038.22,-132.41\"/>\n<polygon fill=\"black\" stroke=\"black\" points=\"1038.94,-135.85 1048.37,-131.02 1037.98,-128.91 1038.94,-135.85\"/>\n</g>\n<!-- 4539092624 -->\n<g id=\"node8\" class=\"node\">\n<title>4539092624</title>\n<polygon fill=\"none\" stroke=\"black\" points=\"4,-55.5 4,-91.5 223,-91.5 223,-55.5 4,-55.5\"/>\n<text text-anchor=\"middle\" x=\"19\" y=\"-69.8\" font-family=\"Times,serif\" font-size=\"14.00\">x2</text>\n<polyline fill=\"none\" stroke=\"black\" points=\"34,-55.5 34,-91.5 \"/>\n<text text-anchor=\"middle\" x=\"77.5\" y=\"-69.8\" font-family=\"Times,serif\" font-size=\"14.00\">value 1.0000</text>\n<polyline fill=\"none\" stroke=\"black\" points=\"121,-55.5 121,-91.5 \"/>\n<text text-anchor=\"middle\" x=\"172\" y=\"-69.8\" font-family=\"Times,serif\" font-size=\"14.00\">gradient 0.9738</text>\n</g>\n<!-- 4539092624&#45;&gt;4539715456* -->\n<g id=\"edge9\" class=\"edge\">\n<title>4539092624&#45;&gt;4539715456*</title>\n<path fill=\"none\" stroke=\"black\" d=\"M223.03,-73.5C233.59,-73.5 243.71,-73.5 252.71,-73.5\"/>\n<polygon fill=\"black\" stroke=\"black\" points=\"252.73,-77 262.73,-73.5 252.73,-70 252.73,-77\"/>\n</g>\n<!-- 4539724960 -->\n<g id=\"node9\" class=\"node\">\n<title>4539724960</title>\n<polygon fill=\"none\" stroke=\"black\" points=\"353,-110.5 353,-146.5 600,-146.5 600,-110.5 353,-110.5\"/>\n<text text-anchor=\"middle\" x=\"379.5\" y=\"-124.8\" font-family=\"Times,serif\" font-size=\"14.00\">x1*w1</text>\n<polyline fill=\"none\" stroke=\"black\" points=\"406,-110.5 406,-146.5 \"/>\n<text text-anchor=\"middle\" x=\"452\" y=\"-124.8\" font-family=\"Times,serif\" font-size=\"14.00\">value &#45;4.0000</text>\n<polyline fill=\"none\" stroke=\"black\" points=\"498,-110.5 498,-146.5 \"/>\n<text text-anchor=\"middle\" x=\"549\" y=\"-124.8\" font-family=\"Times,serif\" font-size=\"14.00\">gradient 0.4869</text>\n</g>\n<!-- 4539724960&#45;&gt;4539715168+ -->\n<g id=\"edge8\" class=\"edge\">\n<title>4539724960&#45;&gt;4539715168+</title>\n<path fill=\"none\" stroke=\"black\" d=\"M596.17,-110.49C607.03,-108.84 617.36,-107.27 626.48,-105.89\"/>\n<polygon fill=\"black\" stroke=\"black\" points=\"627.22,-109.32 636.59,-104.36 626.17,-102.4 627.22,-109.32\"/>\n</g>\n<!-- 4539724960* -->\n<g id=\"node10\" class=\"node\">\n<title>4539724960*</title>\n<ellipse fill=\"none\" stroke=\"black\" cx=\"290\" cy=\"-128.5\" rx=\"27\" ry=\"18\"/>\n<text text-anchor=\"middle\" x=\"290\" y=\"-124.8\" font-family=\"Times,serif\" font-size=\"14.00\">*</text>\n</g>\n<!-- 4539724960*&#45;&gt;4539724960 -->\n<g id=\"edge4\" class=\"edge\">\n<title>4539724960*&#45;&gt;4539724960</title>\n<path fill=\"none\" stroke=\"black\" d=\"M317.04,-128.5C324.56,-128.5 333.32,-128.5 342.79,-128.5\"/>\n<polygon fill=\"black\" stroke=\"black\" points=\"342.89,-132 352.89,-128.5 342.89,-125 342.89,-132\"/>\n</g>\n<!-- 4539089216 -->\n<g id=\"node11\" class=\"node\">\n<title>4539089216</title>\n<polygon fill=\"none\" stroke=\"black\" points=\"2.5,-0.5 2.5,-36.5 224.5,-36.5 224.5,-0.5 2.5,-0.5\"/>\n<text text-anchor=\"middle\" x=\"19\" y=\"-14.8\" font-family=\"Times,serif\" font-size=\"14.00\">w2</text>\n<polyline fill=\"none\" stroke=\"black\" points=\"35.5,-0.5 35.5,-36.5 \"/>\n<text text-anchor=\"middle\" x=\"79\" y=\"-14.8\" font-family=\"Times,serif\" font-size=\"14.00\">value 2.0000</text>\n<polyline fill=\"none\" stroke=\"black\" points=\"122.5,-0.5 122.5,-36.5 \"/>\n<text text-anchor=\"middle\" x=\"173.5\" y=\"-14.8\" font-family=\"Times,serif\" font-size=\"14.00\">gradient 0.4869</text>\n</g>\n<!-- 4539089216&#45;&gt;4539715456* -->\n<g id=\"edge11\" class=\"edge\">\n<title>4539089216&#45;&gt;4539715456*</title>\n<path fill=\"none\" stroke=\"black\" d=\"M193.97,-36.51C205.14,-39.56 216.42,-42.91 227,-46.5 237.34,-50.01 248.35,-54.53 258.18,-58.87\"/>\n<polygon fill=\"black\" stroke=\"black\" points=\"256.99,-62.17 267.54,-63.1 259.87,-55.79 256.99,-62.17\"/>\n</g>\n<!-- 4539720064 -->\n<g id=\"node12\" class=\"node\">\n<title>4539720064</title>\n<polygon fill=\"none\" stroke=\"black\" points=\"1138,-109.5 1138,-145.5 1350,-145.5 1350,-109.5 1138,-109.5\"/>\n<text text-anchor=\"middle\" x=\"1149.5\" y=\"-123.8\" font-family=\"Times,serif\" font-size=\"14.00\">n</text>\n<polyline fill=\"none\" stroke=\"black\" points=\"1161,-109.5 1161,-145.5 \"/>\n<text text-anchor=\"middle\" x=\"1204.5\" y=\"-123.8\" font-family=\"Times,serif\" font-size=\"14.00\">value 0.9000</text>\n<polyline fill=\"none\" stroke=\"black\" points=\"1248,-109.5 1248,-145.5 \"/>\n<text text-anchor=\"middle\" x=\"1299\" y=\"-123.8\" font-family=\"Times,serif\" font-size=\"14.00\">gradient 0.4869</text>\n</g>\n<!-- 4539720064&#45;&gt;4539176992tanh -->\n<g id=\"edge13\" class=\"edge\">\n<title>4539720064&#45;&gt;4539176992tanh</title>\n<path fill=\"none\" stroke=\"black\" d=\"M1350.29,-127.5C1359.34,-127.5 1368.01,-127.5 1375.86,-127.5\"/>\n<polygon fill=\"black\" stroke=\"black\" points=\"1376,-131 1386,-127.5 1376,-124 1376,-131\"/>\n</g>\n<!-- 4539720064+&#45;&gt;4539720064 -->\n<g id=\"edge5\" class=\"edge\">\n<title>4539720064+&#45;&gt;4539720064</title>\n<path fill=\"none\" stroke=\"black\" d=\"M1102.09,-127.5C1109.65,-127.5 1118.42,-127.5 1127.83,-127.5\"/>\n<polygon fill=\"black\" stroke=\"black\" points=\"1127.83,-131 1137.83,-127.5 1127.83,-124 1127.83,-131\"/>\n</g>\n<!-- 4538862528 -->\n<g id=\"node14\" class=\"node\">\n<title>4538862528</title>\n<polygon fill=\"none\" stroke=\"black\" points=\"1.5,-165.5 1.5,-201.5 225.5,-201.5 225.5,-165.5 1.5,-165.5\"/>\n<text text-anchor=\"middle\" x=\"16.5\" y=\"-179.8\" font-family=\"Times,serif\" font-size=\"14.00\">x1</text>\n<polyline fill=\"none\" stroke=\"black\" points=\"31.5,-165.5 31.5,-201.5 \"/>\n<text text-anchor=\"middle\" x=\"75\" y=\"-179.8\" font-family=\"Times,serif\" font-size=\"14.00\">value 2.0000</text>\n<polyline fill=\"none\" stroke=\"black\" points=\"118.5,-165.5 118.5,-201.5 \"/>\n<text text-anchor=\"middle\" x=\"172\" y=\"-179.8\" font-family=\"Times,serif\" font-size=\"14.00\">gradient &#45;0.9738</text>\n</g>\n<!-- 4538862528&#45;&gt;4539724960* -->\n<g id=\"edge7\" class=\"edge\">\n<title>4538862528&#45;&gt;4539724960*</title>\n<path fill=\"none\" stroke=\"black\" d=\"M197.65,-165.42C207.62,-162.71 217.59,-159.72 227,-156.5 237.67,-152.85 249,-148.02 259.03,-143.41\"/>\n<polygon fill=\"black\" stroke=\"black\" points=\"260.62,-146.53 268.17,-139.1 257.63,-140.2 260.62,-146.53\"/>\n</g>\n<!-- 4539102704 -->\n<g id=\"node15\" class=\"node\">\n<title>4539102704</title>\n<polygon fill=\"none\" stroke=\"black\" points=\"0,-110.5 0,-146.5 227,-146.5 227,-110.5 0,-110.5\"/>\n<text text-anchor=\"middle\" x=\"16.5\" y=\"-124.8\" font-family=\"Times,serif\" font-size=\"14.00\">w1</text>\n<polyline fill=\"none\" stroke=\"black\" points=\"33,-110.5 33,-146.5 \"/>\n<text text-anchor=\"middle\" x=\"79\" y=\"-124.8\" font-family=\"Times,serif\" font-size=\"14.00\">value &#45;2.0000</text>\n<polyline fill=\"none\" stroke=\"black\" points=\"125,-110.5 125,-146.5 \"/>\n<text text-anchor=\"middle\" x=\"176\" y=\"-124.8\" font-family=\"Times,serif\" font-size=\"14.00\">gradient 0.9738</text>\n</g>\n<!-- 4539102704&#45;&gt;4539724960* -->\n<g id=\"edge12\" class=\"edge\">\n<title>4539102704&#45;&gt;4539724960*</title>\n<path fill=\"none\" stroke=\"black\" d=\"M227.48,-128.5C236.49,-128.5 245.09,-128.5 252.87,-128.5\"/>\n<polygon fill=\"black\" stroke=\"black\" points=\"252.91,-132 262.91,-128.5 252.91,-125 252.91,-132\"/>\n</g>\n</g>\n</svg>\n",
            "text/plain": [
              "<graphviz.graphs.Digraph at 0x10e9694c0>"
            ]
          },
          "execution_count": 16,
          "metadata": {},
          "output_type": "execute_result"
        }
      ],
      "source": [
        "# single neuron\n",
        "\n",
        "# inputs: x1, x2\n",
        "x1 = Operand(2.0, _label='x1')\n",
        "x2 = Operand(1.0, _label='x2')\n",
        "\n",
        "# weights: w1, w2\n",
        "w1 = Operand(-2.0, _label='w1')\n",
        "w2 = Operand(2.0, _label='w2')\n",
        "\n",
        "# bias\n",
        "b = Operand(2.9, _label='b')\n",
        "\n",
        "# loss: x1*w1 + x2*w2 + b\n",
        "x1w1 = x1 * w1; x1w1._label ='x1*w1'\n",
        "x2w2 = x2 * w2; x2w2._label = 'x2*w2' \n",
        "x1w1x2w2 = x1w1 + x2w2; x1w1x2w2._label = 'x1w1 + x2w2'\n",
        "n = x1w1x2w2 + b; n._label = 'n'\n",
        "\n",
        "y = n.tanh(); y._label='y'\n",
        "y.backward()\n",
        "draw_dot(y)"
      ]
    },
    {
      "cell_type": "markdown",
      "metadata": {},
      "source": [
        "practicing backpropagation with more expressions"
      ]
    },
    {
      "cell_type": "code",
      "execution_count": 17,
      "metadata": {},
      "outputs": [
        {
          "data": {
            "image/svg+xml": "<?xml version=\"1.0\" encoding=\"UTF-8\" standalone=\"no\"?>\n<!DOCTYPE svg PUBLIC \"-//W3C//DTD SVG 1.1//EN\"\n \"http://www.w3.org/Graphics/SVG/1.1/DTD/svg11.dtd\">\n<!-- Generated by graphviz version 2.50.0 (0)\n -->\n<!-- Pages: 1 -->\n<svg width=\"3201pt\" height=\"239pt\"\n viewBox=\"0.00 0.00 3201.00 239.00\" xmlns=\"http://www.w3.org/2000/svg\" xmlns:xlink=\"http://www.w3.org/1999/xlink\">\n<g id=\"graph0\" class=\"graph\" transform=\"scale(1 1) rotate(0) translate(4 235)\">\n<polygon fill=\"white\" stroke=\"transparent\" points=\"-4,4 -4,-235 3197,-235 3197,4 -4,4\"/>\n<!-- 4538873856 -->\n<g id=\"node1\" class=\"node\">\n<title>4538873856</title>\n<polygon fill=\"none\" stroke=\"black\" points=\"2.5,-194.5 2.5,-230.5 224.5,-230.5 224.5,-194.5 2.5,-194.5\"/>\n<text text-anchor=\"middle\" x=\"19\" y=\"-208.8\" font-family=\"Times,serif\" font-size=\"14.00\">w2</text>\n<polyline fill=\"none\" stroke=\"black\" points=\"35.5,-194.5 35.5,-230.5 \"/>\n<text text-anchor=\"middle\" x=\"79\" y=\"-208.8\" font-family=\"Times,serif\" font-size=\"14.00\">value 2.0000</text>\n<polyline fill=\"none\" stroke=\"black\" points=\"122.5,-194.5 122.5,-230.5 \"/>\n<text text-anchor=\"middle\" x=\"173.5\" y=\"-208.8\" font-family=\"Times,serif\" font-size=\"14.00\">gradient 0.4869</text>\n</g>\n<!-- 4539714496* -->\n<g id=\"node15\" class=\"node\">\n<title>4539714496*</title>\n<ellipse fill=\"none\" stroke=\"black\" cx=\"290\" cy=\"-157.5\" rx=\"27\" ry=\"18\"/>\n<text text-anchor=\"middle\" x=\"290\" y=\"-153.8\" font-family=\"Times,serif\" font-size=\"14.00\">*</text>\n</g>\n<!-- 4538873856&#45;&gt;4539714496* -->\n<g id=\"edge16\" class=\"edge\">\n<title>4538873856&#45;&gt;4539714496*</title>\n<path fill=\"none\" stroke=\"black\" d=\"M197.65,-194.42C207.62,-191.71 217.59,-188.72 227,-185.5 237.67,-181.85 249,-177.02 259.03,-172.41\"/>\n<polygon fill=\"black\" stroke=\"black\" points=\"260.62,-175.53 268.17,-168.1 257.63,-169.2 260.62,-175.53\"/>\n</g>\n<!-- 4539918784 -->\n<g id=\"node2\" class=\"node\">\n<title>4539918784</title>\n<polygon fill=\"none\" stroke=\"black\" points=\"1811,-0.5 1811,-36.5 2025,-36.5 2025,-0.5 1811,-0.5\"/>\n<text text-anchor=\"middle\" x=\"1821\" y=\"-14.8\" font-family=\"Times,serif\" font-size=\"14.00\"> </text>\n<polyline fill=\"none\" stroke=\"black\" points=\"1831,-0.5 1831,-36.5 \"/>\n<text text-anchor=\"middle\" x=\"1877\" y=\"-14.8\" font-family=\"Times,serif\" font-size=\"14.00\">value &#45;1.0000</text>\n<polyline fill=\"none\" stroke=\"black\" points=\"1923,-0.5 1923,-36.5 \"/>\n<text text-anchor=\"middle\" x=\"1974\" y=\"-14.8\" font-family=\"Times,serif\" font-size=\"14.00\">gradient 0.1419</text>\n</g>\n<!-- 4539916720+ -->\n<g id=\"node24\" class=\"node\">\n<title>4539916720+</title>\n<ellipse fill=\"none\" stroke=\"black\" cx=\"2088\" cy=\"-45.5\" rx=\"27\" ry=\"18\"/>\n<text text-anchor=\"middle\" x=\"2088\" y=\"-41.8\" font-family=\"Times,serif\" font-size=\"14.00\">+</text>\n</g>\n<!-- 4539918784&#45;&gt;4539916720+ -->\n<g id=\"edge13\" class=\"edge\">\n<title>4539918784&#45;&gt;4539916720+</title>\n<path fill=\"none\" stroke=\"black\" d=\"M2025.4,-35.6C2034.72,-37.1 2043.65,-38.53 2051.68,-39.82\"/>\n<polygon fill=\"black\" stroke=\"black\" points=\"2051.24,-43.3 2061.66,-41.43 2052.35,-36.39 2051.24,-43.3\"/>\n</g>\n<!-- 4539909664 -->\n<g id=\"node3\" class=\"node\">\n<title>4539909664</title>\n<polygon fill=\"none\" stroke=\"black\" points=\"1813.5,-55.5 1813.5,-91.5 2022.5,-91.5 2022.5,-55.5 1813.5,-55.5\"/>\n<text text-anchor=\"middle\" x=\"1823.5\" y=\"-69.8\" font-family=\"Times,serif\" font-size=\"14.00\"> </text>\n<polyline fill=\"none\" stroke=\"black\" points=\"1833.5,-55.5 1833.5,-91.5 \"/>\n<text text-anchor=\"middle\" x=\"1877\" y=\"-69.8\" font-family=\"Times,serif\" font-size=\"14.00\">value 6.0496</text>\n<polyline fill=\"none\" stroke=\"black\" points=\"1920.5,-55.5 1920.5,-91.5 \"/>\n<text text-anchor=\"middle\" x=\"1971.5\" y=\"-69.8\" font-family=\"Times,serif\" font-size=\"14.00\">gradient 0.0402</text>\n</g>\n<!-- 4539912832+ -->\n<g id=\"node9\" class=\"node\">\n<title>4539912832+</title>\n<ellipse fill=\"none\" stroke=\"black\" cx=\"2088\" cy=\"-100.5\" rx=\"27\" ry=\"18\"/>\n<text text-anchor=\"middle\" x=\"2088\" y=\"-96.8\" font-family=\"Times,serif\" font-size=\"14.00\">+</text>\n</g>\n<!-- 4539909664&#45;&gt;4539912832+ -->\n<g id=\"edge18\" class=\"edge\">\n<title>4539909664&#45;&gt;4539912832+</title>\n<path fill=\"none\" stroke=\"black\" d=\"M2022.53,-90.14C2032.8,-91.79 2042.66,-93.37 2051.45,-94.79\"/>\n<polygon fill=\"black\" stroke=\"black\" points=\"2051.16,-98.28 2061.59,-96.42 2052.27,-91.37 2051.16,-98.28\"/>\n</g>\n<!-- 4539909664&#45;&gt;4539916720+ -->\n<g id=\"edge22\" class=\"edge\">\n<title>4539909664&#45;&gt;4539916720+</title>\n<path fill=\"none\" stroke=\"black\" d=\"M2022.53,-56.25C2032.8,-54.53 2042.66,-52.89 2051.45,-51.43\"/>\n<polygon fill=\"black\" stroke=\"black\" points=\"2052.3,-54.83 2061.59,-49.74 2051.15,-47.93 2052.3,-54.83\"/>\n</g>\n<!-- 4539909664exp -->\n<g id=\"node4\" class=\"node\">\n<title>4539909664exp</title>\n<ellipse fill=\"none\" stroke=\"black\" cx=\"1748\" cy=\"-73.5\" rx=\"27\" ry=\"18\"/>\n<text text-anchor=\"middle\" x=\"1748\" y=\"-69.8\" font-family=\"Times,serif\" font-size=\"14.00\">exp</text>\n</g>\n<!-- 4539909664exp&#45;&gt;4539909664 -->\n<g id=\"edge1\" class=\"edge\">\n<title>4539909664exp&#45;&gt;4539909664</title>\n<path fill=\"none\" stroke=\"black\" d=\"M1775.25,-73.5C1783.43,-73.5 1793.03,-73.5 1803.31,-73.5\"/>\n<polygon fill=\"black\" stroke=\"black\" points=\"1803.35,-77 1813.35,-73.5 1803.35,-70 1803.35,-77\"/>\n</g>\n<!-- 4538870304 -->\n<g id=\"node5\" class=\"node\">\n<title>4538870304</title>\n<polygon fill=\"none\" stroke=\"black\" points=\"4,-139.5 4,-175.5 223,-175.5 223,-139.5 4,-139.5\"/>\n<text text-anchor=\"middle\" x=\"19\" y=\"-153.8\" font-family=\"Times,serif\" font-size=\"14.00\">x2</text>\n<polyline fill=\"none\" stroke=\"black\" points=\"34,-139.5 34,-175.5 \"/>\n<text text-anchor=\"middle\" x=\"77.5\" y=\"-153.8\" font-family=\"Times,serif\" font-size=\"14.00\">value 1.0000</text>\n<polyline fill=\"none\" stroke=\"black\" points=\"121,-139.5 121,-175.5 \"/>\n<text text-anchor=\"middle\" x=\"172\" y=\"-153.8\" font-family=\"Times,serif\" font-size=\"14.00\">gradient 0.9738</text>\n</g>\n<!-- 4538870304&#45;&gt;4539714496* -->\n<g id=\"edge26\" class=\"edge\">\n<title>4538870304&#45;&gt;4539714496*</title>\n<path fill=\"none\" stroke=\"black\" d=\"M223.03,-157.5C233.59,-157.5 243.71,-157.5 252.71,-157.5\"/>\n<polygon fill=\"black\" stroke=\"black\" points=\"252.73,-161 262.73,-157.5 252.73,-154 252.73,-161\"/>\n</g>\n<!-- 4538874288 -->\n<g id=\"node6\" class=\"node\">\n<title>4538874288</title>\n<polygon fill=\"none\" stroke=\"black\" points=\"353,-84.5 353,-120.5 600,-120.5 600,-84.5 353,-84.5\"/>\n<text text-anchor=\"middle\" x=\"379.5\" y=\"-98.8\" font-family=\"Times,serif\" font-size=\"14.00\">x1*w1</text>\n<polyline fill=\"none\" stroke=\"black\" points=\"406,-84.5 406,-120.5 \"/>\n<text text-anchor=\"middle\" x=\"452\" y=\"-98.8\" font-family=\"Times,serif\" font-size=\"14.00\">value &#45;4.0000</text>\n<polyline fill=\"none\" stroke=\"black\" points=\"498,-84.5 498,-120.5 \"/>\n<text text-anchor=\"middle\" x=\"549\" y=\"-98.8\" font-family=\"Times,serif\" font-size=\"14.00\">gradient 0.4869</text>\n</g>\n<!-- 4539173824+ -->\n<g id=\"node26\" class=\"node\">\n<title>4539173824+</title>\n<ellipse fill=\"none\" stroke=\"black\" cx=\"663\" cy=\"-129.5\" rx=\"27\" ry=\"18\"/>\n<text text-anchor=\"middle\" x=\"663\" y=\"-125.8\" font-family=\"Times,serif\" font-size=\"14.00\">+</text>\n</g>\n<!-- 4538874288&#45;&gt;4539173824+ -->\n<g id=\"edge24\" class=\"edge\">\n<title>4538874288&#45;&gt;4539173824+</title>\n<path fill=\"none\" stroke=\"black\" d=\"M600.05,-120.43C609.49,-121.82 618.46,-123.13 626.48,-124.3\"/>\n<polygon fill=\"black\" stroke=\"black\" points=\"626.06,-127.78 636.46,-125.76 627.07,-120.85 626.06,-127.78\"/>\n</g>\n<!-- 4538874288* -->\n<g id=\"node7\" class=\"node\">\n<title>4538874288*</title>\n<ellipse fill=\"none\" stroke=\"black\" cx=\"290\" cy=\"-102.5\" rx=\"27\" ry=\"18\"/>\n<text text-anchor=\"middle\" x=\"290\" y=\"-98.8\" font-family=\"Times,serif\" font-size=\"14.00\">*</text>\n</g>\n<!-- 4538874288*&#45;&gt;4538874288 -->\n<g id=\"edge2\" class=\"edge\">\n<title>4538874288*&#45;&gt;4538874288</title>\n<path fill=\"none\" stroke=\"black\" d=\"M317.04,-102.5C324.56,-102.5 333.32,-102.5 342.79,-102.5\"/>\n<polygon fill=\"black\" stroke=\"black\" points=\"342.89,-106 352.89,-102.5 342.89,-99 342.89,-106\"/>\n</g>\n<!-- 4539912832 -->\n<g id=\"node8\" class=\"node\">\n<title>4539912832</title>\n<polygon fill=\"none\" stroke=\"black\" points=\"2151,-82.5 2151,-118.5 2365,-118.5 2365,-82.5 2151,-82.5\"/>\n<text text-anchor=\"middle\" x=\"2161\" y=\"-96.8\" font-family=\"Times,serif\" font-size=\"14.00\"> </text>\n<polyline fill=\"none\" stroke=\"black\" points=\"2171,-82.5 2171,-118.5 \"/>\n<text text-anchor=\"middle\" x=\"2214.5\" y=\"-96.8\" font-family=\"Times,serif\" font-size=\"14.00\">value 7.0496</text>\n<polyline fill=\"none\" stroke=\"black\" points=\"2258,-82.5 2258,-118.5 \"/>\n<text text-anchor=\"middle\" x=\"2311.5\" y=\"-96.8\" font-family=\"Times,serif\" font-size=\"14.00\">gradient &#45;0.1016</text>\n</g>\n<!-- 4539915088**&#45;1 -->\n<g id=\"node20\" class=\"node\">\n<title>4539915088**&#45;1</title>\n<ellipse fill=\"none\" stroke=\"black\" cx=\"2505.5\" cy=\"-100.5\" rx=\"27\" ry=\"18\"/>\n<text text-anchor=\"middle\" x=\"2505.5\" y=\"-96.8\" font-family=\"Times,serif\" font-size=\"14.00\">**&#45;1</text>\n</g>\n<!-- 4539912832&#45;&gt;4539915088**&#45;1 -->\n<g id=\"edge27\" class=\"edge\">\n<title>4539912832&#45;&gt;4539915088**&#45;1</title>\n<path fill=\"none\" stroke=\"black\" d=\"M2365.25,-100.5C2402.09,-100.5 2440.95,-100.5 2468.22,-100.5\"/>\n<polygon fill=\"black\" stroke=\"black\" points=\"2468.44,-104 2478.44,-100.5 2468.44,-97 2468.44,-104\"/>\n</g>\n<!-- 4539912832+&#45;&gt;4539912832 -->\n<g id=\"edge3\" class=\"edge\">\n<title>4539912832+&#45;&gt;4539912832</title>\n<path fill=\"none\" stroke=\"black\" d=\"M2115.25,-100.5C2122.7,-100.5 2131.34,-100.5 2140.59,-100.5\"/>\n<polygon fill=\"black\" stroke=\"black\" points=\"2140.84,-104 2150.84,-100.5 2140.84,-97 2140.84,-104\"/>\n</g>\n<!-- 4538874000 -->\n<g id=\"node10\" class=\"node\">\n<title>4538874000</title>\n<polygon fill=\"none\" stroke=\"black\" points=\"0,-84.5 0,-120.5 227,-120.5 227,-84.5 0,-84.5\"/>\n<text text-anchor=\"middle\" x=\"16.5\" y=\"-98.8\" font-family=\"Times,serif\" font-size=\"14.00\">w1</text>\n<polyline fill=\"none\" stroke=\"black\" points=\"33,-84.5 33,-120.5 \"/>\n<text text-anchor=\"middle\" x=\"79\" y=\"-98.8\" font-family=\"Times,serif\" font-size=\"14.00\">value &#45;2.0000</text>\n<polyline fill=\"none\" stroke=\"black\" points=\"125,-84.5 125,-120.5 \"/>\n<text text-anchor=\"middle\" x=\"176\" y=\"-98.8\" font-family=\"Times,serif\" font-size=\"14.00\">gradient 0.9738</text>\n</g>\n<!-- 4538874000&#45;&gt;4538874288* -->\n<g id=\"edge15\" class=\"edge\">\n<title>4538874000&#45;&gt;4538874288*</title>\n<path fill=\"none\" stroke=\"black\" d=\"M227.48,-102.5C236.49,-102.5 245.09,-102.5 252.87,-102.5\"/>\n<polygon fill=\"black\" stroke=\"black\" points=\"252.91,-106 262.91,-102.5 252.91,-99 252.91,-106\"/>\n</g>\n<!-- 4539913456 -->\n<g id=\"node11\" class=\"node\">\n<title>4539913456</title>\n<polygon fill=\"none\" stroke=\"black\" points=\"1476,-55.5 1476,-91.5 1685,-91.5 1685,-55.5 1476,-55.5\"/>\n<text text-anchor=\"middle\" x=\"1486\" y=\"-69.8\" font-family=\"Times,serif\" font-size=\"14.00\"> </text>\n<polyline fill=\"none\" stroke=\"black\" points=\"1496,-55.5 1496,-91.5 \"/>\n<text text-anchor=\"middle\" x=\"1539.5\" y=\"-69.8\" font-family=\"Times,serif\" font-size=\"14.00\">value 1.8000</text>\n<polyline fill=\"none\" stroke=\"black\" points=\"1583,-55.5 1583,-91.5 \"/>\n<text text-anchor=\"middle\" x=\"1634\" y=\"-69.8\" font-family=\"Times,serif\" font-size=\"14.00\">gradient 0.2435</text>\n</g>\n<!-- 4539913456&#45;&gt;4539909664exp -->\n<g id=\"edge28\" class=\"edge\">\n<title>4539913456&#45;&gt;4539909664exp</title>\n<path fill=\"none\" stroke=\"black\" d=\"M1685.37,-73.5C1694.3,-73.5 1702.88,-73.5 1710.65,-73.5\"/>\n<polygon fill=\"black\" stroke=\"black\" points=\"1710.71,-77 1720.71,-73.5 1710.71,-70 1710.71,-77\"/>\n</g>\n<!-- 4539913456* -->\n<g id=\"node12\" class=\"node\">\n<title>4539913456*</title>\n<ellipse fill=\"none\" stroke=\"black\" cx=\"1413\" cy=\"-73.5\" rx=\"27\" ry=\"18\"/>\n<text text-anchor=\"middle\" x=\"1413\" y=\"-69.8\" font-family=\"Times,serif\" font-size=\"14.00\">*</text>\n</g>\n<!-- 4539913456*&#45;&gt;4539913456 -->\n<g id=\"edge4\" class=\"edge\">\n<title>4539913456*&#45;&gt;4539913456</title>\n<path fill=\"none\" stroke=\"black\" d=\"M1440.22,-73.5C1447.8,-73.5 1456.59,-73.5 1465.99,-73.5\"/>\n<polygon fill=\"black\" stroke=\"black\" points=\"1465.99,-77 1475.99,-73.5 1465.99,-70 1465.99,-77\"/>\n</g>\n<!-- 4538863392 -->\n<g id=\"node13\" class=\"node\">\n<title>4538863392</title>\n<polygon fill=\"none\" stroke=\"black\" points=\"1.5,-29.5 1.5,-65.5 225.5,-65.5 225.5,-29.5 1.5,-29.5\"/>\n<text text-anchor=\"middle\" x=\"16.5\" y=\"-43.8\" font-family=\"Times,serif\" font-size=\"14.00\">x1</text>\n<polyline fill=\"none\" stroke=\"black\" points=\"31.5,-29.5 31.5,-65.5 \"/>\n<text text-anchor=\"middle\" x=\"75\" y=\"-43.8\" font-family=\"Times,serif\" font-size=\"14.00\">value 2.0000</text>\n<polyline fill=\"none\" stroke=\"black\" points=\"118.5,-29.5 118.5,-65.5 \"/>\n<text text-anchor=\"middle\" x=\"172\" y=\"-43.8\" font-family=\"Times,serif\" font-size=\"14.00\">gradient &#45;0.9738</text>\n</g>\n<!-- 4538863392&#45;&gt;4538874288* -->\n<g id=\"edge20\" class=\"edge\">\n<title>4538863392&#45;&gt;4538874288*</title>\n<path fill=\"none\" stroke=\"black\" d=\"M193.97,-65.51C205.14,-68.56 216.42,-71.91 227,-75.5 237.34,-79.01 248.35,-83.53 258.18,-87.87\"/>\n<polygon fill=\"black\" stroke=\"black\" points=\"256.99,-91.17 267.54,-92.1 259.87,-84.79 256.99,-91.17\"/>\n</g>\n<!-- 4539714496 -->\n<g id=\"node14\" class=\"node\">\n<title>4539714496</title>\n<polygon fill=\"none\" stroke=\"black\" points=\"355.5,-139.5 355.5,-175.5 597.5,-175.5 597.5,-139.5 355.5,-139.5\"/>\n<text text-anchor=\"middle\" x=\"382\" y=\"-153.8\" font-family=\"Times,serif\" font-size=\"14.00\">x2*w2</text>\n<polyline fill=\"none\" stroke=\"black\" points=\"408.5,-139.5 408.5,-175.5 \"/>\n<text text-anchor=\"middle\" x=\"452\" y=\"-153.8\" font-family=\"Times,serif\" font-size=\"14.00\">value 2.0000</text>\n<polyline fill=\"none\" stroke=\"black\" points=\"495.5,-139.5 495.5,-175.5 \"/>\n<text text-anchor=\"middle\" x=\"546.5\" y=\"-153.8\" font-family=\"Times,serif\" font-size=\"14.00\">gradient 0.4869</text>\n</g>\n<!-- 4539714496&#45;&gt;4539173824+ -->\n<g id=\"edge21\" class=\"edge\">\n<title>4539714496&#45;&gt;4539173824+</title>\n<path fill=\"none\" stroke=\"black\" d=\"M596.17,-139.49C607.03,-137.84 617.36,-136.27 626.48,-134.89\"/>\n<polygon fill=\"black\" stroke=\"black\" points=\"627.22,-138.32 636.59,-133.36 626.17,-131.4 627.22,-138.32\"/>\n</g>\n<!-- 4539714496*&#45;&gt;4539714496 -->\n<g id=\"edge5\" class=\"edge\">\n<title>4539714496*&#45;&gt;4539714496</title>\n<path fill=\"none\" stroke=\"black\" d=\"M317.04,-157.5C325.17,-157.5 334.75,-157.5 345.11,-157.5\"/>\n<polygon fill=\"black\" stroke=\"black\" points=\"345.26,-161 355.26,-157.5 345.26,-154 345.26,-161\"/>\n</g>\n<!-- 4539909952 -->\n<g id=\"node16\" class=\"node\">\n<title>4539909952</title>\n<polygon fill=\"none\" stroke=\"black\" points=\"1138,-83.5 1138,-119.5 1350,-119.5 1350,-83.5 1138,-83.5\"/>\n<text text-anchor=\"middle\" x=\"1149.5\" y=\"-97.8\" font-family=\"Times,serif\" font-size=\"14.00\">n</text>\n<polyline fill=\"none\" stroke=\"black\" points=\"1161,-83.5 1161,-119.5 \"/>\n<text text-anchor=\"middle\" x=\"1204.5\" y=\"-97.8\" font-family=\"Times,serif\" font-size=\"14.00\">value 0.9000</text>\n<polyline fill=\"none\" stroke=\"black\" points=\"1248,-83.5 1248,-119.5 \"/>\n<text text-anchor=\"middle\" x=\"1299\" y=\"-97.8\" font-family=\"Times,serif\" font-size=\"14.00\">gradient 0.4869</text>\n</g>\n<!-- 4539909952&#45;&gt;4539913456* -->\n<g id=\"edge23\" class=\"edge\">\n<title>4539909952&#45;&gt;4539913456*</title>\n<path fill=\"none\" stroke=\"black\" d=\"M1350.29,-83.85C1359.62,-82.28 1368.56,-80.78 1376.6,-79.44\"/>\n<polygon fill=\"black\" stroke=\"black\" points=\"1377.31,-82.86 1386.6,-77.76 1376.16,-75.96 1377.31,-82.86\"/>\n</g>\n<!-- 4539909952+ -->\n<g id=\"node17\" class=\"node\">\n<title>4539909952+</title>\n<ellipse fill=\"none\" stroke=\"black\" cx=\"1075\" cy=\"-101.5\" rx=\"27\" ry=\"18\"/>\n<text text-anchor=\"middle\" x=\"1075\" y=\"-97.8\" font-family=\"Times,serif\" font-size=\"14.00\">+</text>\n</g>\n<!-- 4539909952+&#45;&gt;4539909952 -->\n<g id=\"edge6\" class=\"edge\">\n<title>4539909952+&#45;&gt;4539909952</title>\n<path fill=\"none\" stroke=\"black\" d=\"M1102.09,-101.5C1109.65,-101.5 1118.42,-101.5 1127.83,-101.5\"/>\n<polygon fill=\"black\" stroke=\"black\" points=\"1127.83,-105 1137.83,-101.5 1127.83,-98 1127.83,-105\"/>\n</g>\n<!-- 4539908944 -->\n<g id=\"node18\" class=\"node\">\n<title>4539908944</title>\n<polygon fill=\"none\" stroke=\"black\" points=\"1139.5,-28.5 1139.5,-64.5 1348.5,-64.5 1348.5,-28.5 1139.5,-28.5\"/>\n<text text-anchor=\"middle\" x=\"1149.5\" y=\"-42.8\" font-family=\"Times,serif\" font-size=\"14.00\"> </text>\n<polyline fill=\"none\" stroke=\"black\" points=\"1159.5,-28.5 1159.5,-64.5 \"/>\n<text text-anchor=\"middle\" x=\"1203\" y=\"-42.8\" font-family=\"Times,serif\" font-size=\"14.00\">value 2.0000</text>\n<polyline fill=\"none\" stroke=\"black\" points=\"1246.5,-28.5 1246.5,-64.5 \"/>\n<text text-anchor=\"middle\" x=\"1297.5\" y=\"-42.8\" font-family=\"Times,serif\" font-size=\"14.00\">gradient 0.2191</text>\n</g>\n<!-- 4539908944&#45;&gt;4539913456* -->\n<g id=\"edge17\" class=\"edge\">\n<title>4539908944&#45;&gt;4539913456*</title>\n<path fill=\"none\" stroke=\"black\" d=\"M1348.86,-63.29C1358.66,-64.88 1368.05,-66.4 1376.47,-67.76\"/>\n<polygon fill=\"black\" stroke=\"black\" points=\"1376.12,-71.24 1386.55,-69.39 1377.24,-64.33 1376.12,-71.24\"/>\n</g>\n<!-- 4539915088 -->\n<g id=\"node19\" class=\"node\">\n<title>4539915088</title>\n<polygon fill=\"none\" stroke=\"black\" points=\"2646,-80.5 2646,-116.5 2855,-116.5 2855,-80.5 2646,-80.5\"/>\n<text text-anchor=\"middle\" x=\"2656\" y=\"-94.8\" font-family=\"Times,serif\" font-size=\"14.00\"> </text>\n<polyline fill=\"none\" stroke=\"black\" points=\"2666,-80.5 2666,-116.5 \"/>\n<text text-anchor=\"middle\" x=\"2709.5\" y=\"-94.8\" font-family=\"Times,serif\" font-size=\"14.00\">value 0.1419</text>\n<polyline fill=\"none\" stroke=\"black\" points=\"2753,-80.5 2753,-116.5 \"/>\n<text text-anchor=\"middle\" x=\"2804\" y=\"-94.8\" font-family=\"Times,serif\" font-size=\"14.00\">gradient 5.0496</text>\n</g>\n<!-- 4539916768* -->\n<g id=\"node28\" class=\"node\">\n<title>4539916768*</title>\n<ellipse fill=\"none\" stroke=\"black\" cx=\"2918\" cy=\"-72.5\" rx=\"27\" ry=\"18\"/>\n<text text-anchor=\"middle\" x=\"2918\" y=\"-68.8\" font-family=\"Times,serif\" font-size=\"14.00\">*</text>\n</g>\n<!-- 4539915088&#45;&gt;4539916768* -->\n<g id=\"edge25\" class=\"edge\">\n<title>4539915088&#45;&gt;4539916768*</title>\n<path fill=\"none\" stroke=\"black\" d=\"M2855.37,-82.18C2864.68,-80.72 2873.6,-79.32 2881.62,-78.06\"/>\n<polygon fill=\"black\" stroke=\"black\" points=\"2882.28,-81.5 2891.61,-76.49 2881.19,-74.58 2882.28,-81.5\"/>\n</g>\n<!-- 4539915088**&#45;1&#45;&gt;4539915088 -->\n<g id=\"edge7\" class=\"edge\">\n<title>4539915088**&#45;1&#45;&gt;4539915088</title>\n<path fill=\"none\" stroke=\"black\" d=\"M2532.51,-100.29C2557.51,-100.08 2597.1,-99.75 2635.66,-99.44\"/>\n<polygon fill=\"black\" stroke=\"black\" points=\"2635.99,-102.93 2645.96,-99.35 2635.93,-95.93 2635.99,-102.93\"/>\n</g>\n<!-- 4539915568 -->\n<g id=\"node21\" class=\"node\">\n<title>4539915568</title>\n<polygon fill=\"none\" stroke=\"black\" points=\"1811,-110.5 1811,-146.5 2025,-146.5 2025,-110.5 1811,-110.5\"/>\n<text text-anchor=\"middle\" x=\"1821\" y=\"-124.8\" font-family=\"Times,serif\" font-size=\"14.00\"> </text>\n<polyline fill=\"none\" stroke=\"black\" points=\"1831,-110.5 1831,-146.5 \"/>\n<text text-anchor=\"middle\" x=\"1874.5\" y=\"-124.8\" font-family=\"Times,serif\" font-size=\"14.00\">value 1.0000</text>\n<polyline fill=\"none\" stroke=\"black\" points=\"1918,-110.5 1918,-146.5 \"/>\n<text text-anchor=\"middle\" x=\"1971.5\" y=\"-124.8\" font-family=\"Times,serif\" font-size=\"14.00\">gradient &#45;0.1016</text>\n</g>\n<!-- 4539915568&#45;&gt;4539912832+ -->\n<g id=\"edge11\" class=\"edge\">\n<title>4539915568&#45;&gt;4539912832+</title>\n<path fill=\"none\" stroke=\"black\" d=\"M2025.4,-110.77C2034.72,-109.21 2043.65,-107.72 2051.68,-106.39\"/>\n<polygon fill=\"black\" stroke=\"black\" points=\"2052.38,-109.82 2061.66,-104.72 2051.22,-102.91 2052.38,-109.82\"/>\n</g>\n<!-- 4538868096 -->\n<g id=\"node22\" class=\"node\">\n<title>4538868096</title>\n<polygon fill=\"none\" stroke=\"black\" points=\"763,-56.5 763,-92.5 975,-92.5 975,-56.5 763,-56.5\"/>\n<text text-anchor=\"middle\" x=\"774.5\" y=\"-70.8\" font-family=\"Times,serif\" font-size=\"14.00\">b</text>\n<polyline fill=\"none\" stroke=\"black\" points=\"786,-56.5 786,-92.5 \"/>\n<text text-anchor=\"middle\" x=\"829.5\" y=\"-70.8\" font-family=\"Times,serif\" font-size=\"14.00\">value 2.9000</text>\n<polyline fill=\"none\" stroke=\"black\" points=\"873,-56.5 873,-92.5 \"/>\n<text text-anchor=\"middle\" x=\"924\" y=\"-70.8\" font-family=\"Times,serif\" font-size=\"14.00\">gradient 0.4869</text>\n</g>\n<!-- 4538868096&#45;&gt;4539909952+ -->\n<g id=\"edge14\" class=\"edge\">\n<title>4538868096&#45;&gt;4539909952+</title>\n<path fill=\"none\" stroke=\"black\" d=\"M975.29,-88.43C997.98,-91.44 1020.46,-94.41 1038.22,-96.76\"/>\n<polygon fill=\"black\" stroke=\"black\" points=\"1037.99,-100.26 1048.37,-98.11 1038.91,-93.33 1037.99,-100.26\"/>\n</g>\n<!-- 4539916720 -->\n<g id=\"node23\" class=\"node\">\n<title>4539916720</title>\n<polygon fill=\"none\" stroke=\"black\" points=\"2401,-27.5 2401,-63.5 2610,-63.5 2610,-27.5 2401,-27.5\"/>\n<text text-anchor=\"middle\" x=\"2411\" y=\"-41.8\" font-family=\"Times,serif\" font-size=\"14.00\"> </text>\n<polyline fill=\"none\" stroke=\"black\" points=\"2421,-27.5 2421,-63.5 \"/>\n<text text-anchor=\"middle\" x=\"2464.5\" y=\"-41.8\" font-family=\"Times,serif\" font-size=\"14.00\">value 5.0496</text>\n<polyline fill=\"none\" stroke=\"black\" points=\"2508,-27.5 2508,-63.5 \"/>\n<text text-anchor=\"middle\" x=\"2559\" y=\"-41.8\" font-family=\"Times,serif\" font-size=\"14.00\">gradient 0.1419</text>\n</g>\n<!-- 4539916720&#45;&gt;4539916768* -->\n<g id=\"edge19\" class=\"edge\">\n<title>4539916720&#45;&gt;4539916768*</title>\n<path fill=\"none\" stroke=\"black\" d=\"M2610.09,-52.31C2698.59,-58.13 2820.83,-66.17 2880.83,-70.12\"/>\n<polygon fill=\"black\" stroke=\"black\" points=\"2880.73,-73.62 2890.94,-70.79 2881.19,-66.64 2880.73,-73.62\"/>\n</g>\n<!-- 4539916720+&#45;&gt;4539916720 -->\n<g id=\"edge8\" class=\"edge\">\n<title>4539916720+&#45;&gt;4539916720</title>\n<path fill=\"none\" stroke=\"black\" d=\"M2115.31,-45.5C2169.52,-45.5 2296.51,-45.5 2390.77,-45.5\"/>\n<polygon fill=\"black\" stroke=\"black\" points=\"2390.94,-49 2400.94,-45.5 2390.94,-42 2390.94,-49\"/>\n</g>\n<!-- 4539173824 -->\n<g id=\"node25\" class=\"node\">\n<title>4539173824</title>\n<polygon fill=\"none\" stroke=\"black\" points=\"726,-111.5 726,-147.5 1012,-147.5 1012,-111.5 726,-111.5\"/>\n<text text-anchor=\"middle\" x=\"772\" y=\"-125.8\" font-family=\"Times,serif\" font-size=\"14.00\">x1w1 + x2w2</text>\n<polyline fill=\"none\" stroke=\"black\" points=\"818,-111.5 818,-147.5 \"/>\n<text text-anchor=\"middle\" x=\"864\" y=\"-125.8\" font-family=\"Times,serif\" font-size=\"14.00\">value &#45;2.0000</text>\n<polyline fill=\"none\" stroke=\"black\" points=\"910,-111.5 910,-147.5 \"/>\n<text text-anchor=\"middle\" x=\"961\" y=\"-125.8\" font-family=\"Times,serif\" font-size=\"14.00\">gradient 0.4869</text>\n</g>\n<!-- 4539173824&#45;&gt;4539909952+ -->\n<g id=\"edge12\" class=\"edge\">\n<title>4539173824&#45;&gt;4539909952+</title>\n<path fill=\"none\" stroke=\"black\" d=\"M1001.22,-111.49C1014.56,-109.66 1027.17,-107.93 1038.03,-106.44\"/>\n<polygon fill=\"black\" stroke=\"black\" points=\"1038.84,-109.86 1048.27,-105.03 1037.89,-102.92 1038.84,-109.86\"/>\n</g>\n<!-- 4539173824+&#45;&gt;4539173824 -->\n<g id=\"edge9\" class=\"edge\">\n<title>4539173824+&#45;&gt;4539173824</title>\n<path fill=\"none\" stroke=\"black\" d=\"M690.25,-129.5C697.68,-129.5 706.33,-129.5 715.75,-129.5\"/>\n<polygon fill=\"black\" stroke=\"black\" points=\"715.82,-133 725.82,-129.5 715.82,-126 715.82,-133\"/>\n</g>\n<!-- 4539916768 -->\n<g id=\"node27\" class=\"node\">\n<title>4539916768</title>\n<polygon fill=\"none\" stroke=\"black\" points=\"2981,-54.5 2981,-90.5 3193,-90.5 3193,-54.5 2981,-54.5\"/>\n<text text-anchor=\"middle\" x=\"2992.5\" y=\"-68.8\" font-family=\"Times,serif\" font-size=\"14.00\">y</text>\n<polyline fill=\"none\" stroke=\"black\" points=\"3004,-54.5 3004,-90.5 \"/>\n<text text-anchor=\"middle\" x=\"3047.5\" y=\"-68.8\" font-family=\"Times,serif\" font-size=\"14.00\">value 0.7163</text>\n<polyline fill=\"none\" stroke=\"black\" points=\"3091,-54.5 3091,-90.5 \"/>\n<text text-anchor=\"middle\" x=\"3142\" y=\"-68.8\" font-family=\"Times,serif\" font-size=\"14.00\">gradient 1.0000</text>\n</g>\n<!-- 4539916768*&#45;&gt;4539916768 -->\n<g id=\"edge10\" class=\"edge\">\n<title>4539916768*&#45;&gt;4539916768</title>\n<path fill=\"none\" stroke=\"black\" d=\"M2945.09,-72.5C2952.65,-72.5 2961.42,-72.5 2970.83,-72.5\"/>\n<polygon fill=\"black\" stroke=\"black\" points=\"2970.83,-76 2980.83,-72.5 2970.83,-69 2970.83,-76\"/>\n</g>\n</g>\n</svg>\n",
            "text/plain": [
              "<graphviz.graphs.Digraph at 0x10e999fd0>"
            ]
          },
          "execution_count": 17,
          "metadata": {},
          "output_type": "execute_result"
        }
      ],
      "source": [
        "# inputs: x1, x2\n",
        "x1 = Operand(2.0, _label='x1')\n",
        "x2 = Operand(1.0, _label='x2')\n",
        "\n",
        "# weights: w1, w2\n",
        "w1 = Operand(-2.0, _label='w1')\n",
        "w2 = Operand(2.0, _label='w2')\n",
        "\n",
        "# bias\n",
        "b = Operand(2.9, _label='b')\n",
        "\n",
        "# loss: x1*w1 + x2*w2 + b\n",
        "x1w1 = x1 * w1; x1w1._label ='x1*w1'\n",
        "x2w2 = x2 * w2; x2w2._label = 'x2*w2' \n",
        "x1w1x2w2 = x1w1 + x2w2; x1w1x2w2._label = 'x1w1 + x2w2'\n",
        "n = x1w1x2w2 + b; n._label = 'n'\n",
        "\n",
        "# y = n.tanh(); y._label='y'\n",
        "# using formula for tanh\n",
        "e = (2*n).exp()\n",
        "y = (e-1)/(e+1)\n",
        "y._label = 'y'\n",
        "\n",
        "y.backward()\n",
        "draw_dot(y)"
      ]
    },
    {
      "cell_type": "code",
      "execution_count": 18,
      "metadata": {},
      "outputs": [],
      "source": [
        "class Neuron:\n",
        "    def __init__(self, n_inp):\n",
        "        self.weights = [Operand(random.uniform(-1, 1)) for _in in range(n_inp)]\n",
        "        self.bias = Operand(random.uniform(-1,1))"
      ]
    },
    {
      "cell_type": "markdown",
      "metadata": {
        "id": "4nWGUm_7VVI9"
      },
      "source": [
        " __Reference: [Neural Networks: Zero to Hero by **Anderj Karpathy**](https://youtu.be/VMj-3S1tku0?si=nt0sYb9Rs2g4qApr)__"
      ]
    }
  ],
  "metadata": {
    "colab": {
      "provenance": []
    },
    "kernelspec": {
      "display_name": "Python 3.12.4 ('genAI')",
      "language": "python",
      "name": "python3"
    },
    "language_info": {
      "codemirror_mode": {
        "name": "ipython",
        "version": 3
      },
      "file_extension": ".py",
      "mimetype": "text/x-python",
      "name": "python",
      "nbconvert_exporter": "python",
      "pygments_lexer": "ipython3",
      "version": "3.12.4"
    },
    "vscode": {
      "interpreter": {
        "hash": "cdc7a2fc295da552623d6189d2d73e88b479f44ab32ab05a73d51a9a8b2f91f6"
      }
    }
  },
  "nbformat": 4,
  "nbformat_minor": 0
}
