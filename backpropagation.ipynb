{
  "cells": [
    {
      "cell_type": "markdown",
      "metadata": {
        "id": "cDDdu3vDUlY7"
      },
      "source": [
        "# **Backpropagation from Scratch**"
      ]
    },
    {
      "cell_type": "code",
      "execution_count": 1,
      "metadata": {
        "id": "4e6ox9F1VE68"
      },
      "outputs": [],
      "source": [
        "import math\n",
        "import numpy as np\n",
        "import matplotlib.pyplot as plt\n",
        "%matplotlib inline"
      ]
    },
    {
      "cell_type": "markdown",
      "metadata": {
        "id": "U80CuZHWarjz"
      },
      "source": [
        "# Derivation is at the heart of backpropagation\n",
        "Derivation helps us undrstand how a function behaves if the input is modified.Given a function f(x), how does the function behave if input x is modified with h i.e x+h.\n",
        "\n",
        "In case of backpropagation, the inputs are weights and biases. We want to understand what happens if small changes(h) are made to x(weights and biases)"
      ]
    },
    {
      "cell_type": "markdown",
      "metadata": {
        "id": "vo3WSC1Oh9Ee"
      },
      "source": [
        "### Now lets take a simple equation f(x) to understand how the function behaviour changes upon increasing it with a small value"
      ]
    },
    {
      "cell_type": "code",
      "execution_count": 16,
      "metadata": {
        "id": "e-h9SssAZFkx"
      },
      "outputs": [],
      "source": [
        "def f(x):\n",
        "  # return 3*x**2 - 4*x + 5\n",
        "  return 4*x**2 - 5*x + 6"
      ]
    },
    {
      "cell_type": "code",
      "execution_count": 17,
      "metadata": {
        "colab": {
          "base_uri": "https://localhost:8080/"
        },
        "id": "VBpDawwghdvb",
        "outputId": "47a35827-850a-4b49-e3d2-a9494a732c6b"
      },
      "outputs": [
        {
          "data": {
            "text/plain": [
              "27.0"
            ]
          },
          "execution_count": 17,
          "metadata": {},
          "output_type": "execute_result"
        }
      ],
      "source": [
        "f(3.0)"
      ]
    },
    {
      "cell_type": "code",
      "execution_count": 18,
      "metadata": {
        "colab": {
          "base_uri": "https://localhost:8080/"
        },
        "id": "xSmCyC1TiP6p",
        "outputId": "986beb23-cdf6-47a5-d01d-71351c7fc78f"
      },
      "outputs": [
        {
          "data": {
            "text/plain": [
              "array([131. , 109.5,  90. ,  72.5,  57. ,  43.5,  32. ,  22.5,  15. ,\n",
              "         9.5,   6. ,   4.5,   5. ,   7.5,  12. ,  18.5,  27. ,  37.5,\n",
              "        50. ,  64.5])"
            ]
          },
          "execution_count": 18,
          "metadata": {},
          "output_type": "execute_result"
        }
      ],
      "source": [
        "xs = np.arange(-5, 5, 0.5)\n",
        "ys = f(xs)\n",
        "ys"
      ]
    },
    {
      "cell_type": "code",
      "execution_count": 19,
      "metadata": {
        "colab": {
          "base_uri": "https://localhost:8080/",
          "height": 445
        },
        "id": "q-4wUUsSlUH5",
        "outputId": "9fb2167a-e7a0-47a0-9b4f-93ed4078ca74"
      },
      "outputs": [
        {
          "data": {
            "text/plain": [
              "[<matplotlib.lines.Line2D at 0x10f1c4d10>]"
            ]
          },
          "execution_count": 19,
          "metadata": {},
          "output_type": "execute_result"
        },
        {
          "data": {
            "image/png": "[encoded data removed]",
            "text/plain": [
              "<Figure size 640x480 with 1 Axes>"
            ]
          },
          "metadata": {},
          "output_type": "display_data"
        }
      ],
      "source": [
        "plt.plot(xs, ys)"
      ]
    },
    {
      "cell_type": "code",
      "execution_count": 20,
      "metadata": {
        "colab": {
          "base_uri": "https://localhost:8080/"
        },
        "id": "HMffO6UTnQMK",
        "outputId": "1808127c-a3f9-4bf3-efa1-f3014a20e7ed"
      },
      "outputs": [
        {
          "data": {
            "text/plain": [
              "27.000190000399996"
            ]
          },
          "execution_count": 20,
          "metadata": {},
          "output_type": "execute_result"
        }
      ],
      "source": [
        "x = 3.0\n",
        "\n",
        "# to get a more accurate slope, coverge h towards 0\n",
        "h = 0.00001\n",
        "f(x+h)"
      ]
    },
    {
      "cell_type": "markdown",
      "metadata": {
        "id": "iDW5v-r4nmM0"
      },
      "source": [
        "Now lets get the slope(f(x+h)-f(x))/h"
      ]
    },
    {
      "cell_type": "code",
      "execution_count": 21,
      "metadata": {
        "colab": {
          "base_uri": "https://localhost:8080/"
        },
        "id": "iPQ1pUgHnfR5",
        "outputId": "781faf1e-4ed5-45dc-a9b7-9907d697054e"
      },
      "outputs": [
        {
          "data": {
            "text/plain": [
              "19.000039999639284"
            ]
          },
          "execution_count": 21,
          "metadata": {},
          "output_type": "execute_result"
        }
      ],
      "source": [
        "(f(x+h)-f(x))/h"
      ]
    },
    {
      "cell_type": "markdown",
      "metadata": {
        "id": "vU800rJ4o1L3"
      },
      "source": [
        "### one more example, a bit more complex"
      ]
    },
    {
      "cell_type": "code",
      "execution_count": 22,
      "metadata": {
        "colab": {
          "base_uri": "https://localhost:8080/"
        },
        "id": "RrvY6pG6oM4c",
        "outputId": "4d51a2ba-8bcf-4f23-e377-fbdea788bba7"
      },
      "outputs": [
        {
          "name": "stdout",
          "output_type": "stream",
          "text": [
            "4.0\n"
          ]
        }
      ],
      "source": [
        "a = 2.0\n",
        "b = -3.0\n",
        "c = 10.0\n",
        "\n",
        "# equation\n",
        "d = a*b + c\n",
        "\n",
        "print(d)"
      ]
    },
    {
      "cell_type": "code",
      "execution_count": 23,
      "metadata": {
        "colab": {
          "base_uri": "https://localhost:8080/"
        },
        "id": "lXlBaq6Up2wa",
        "outputId": "75e33c72-a30f-4b37-e233-74c248da197f"
      },
      "outputs": [
        {
          "name": "stdout",
          "output_type": "stream",
          "text": [
            "slope when a is increased:  -3.000000000064062\n",
            "slope when b is increased:  2.0000000000131024\n",
            "slope when c is increased:  0.9999999999621422\n"
          ]
        }
      ],
      "source": [
        "# observe the values when a is increased\n",
        "\n",
        "def f1(a, b, c):\n",
        "  return a*b + c\n",
        "\n",
        "h = 0.00001\n",
        "\n",
        "a = 2.0\n",
        "b = -3.0\n",
        "c = 10.0\n",
        "\n",
        "d1 = f1(a, b, c)\n",
        "d2 = f1(a+h, b, c)\n",
        "\n",
        "# slope when a is increased by h\n",
        "print(\"slope when a is increased: \",(d2-d1)/h)\n",
        "\n",
        "d2 = f1(a, b+h, c)\n",
        "# slope when b is increased by h\n",
        "print(\"slope when b is increased: \",(d2-d1)/h)\n",
        "\n",
        "d2 = f1(a, b, c+h)\n",
        "# slope when c is increased by h\n",
        "print(\"slope when c is increased: \",(d2-d1)/h)"
      ]
    },
    {
      "cell_type": "markdown",
      "metadata": {
        "id": "tKla2s0GtJUO"
      },
      "source": [
        "### Neural Networks have massive expressions so lets start with creating a data structure to maintain these expressions"
      ]
    },
    {
      "cell_type": "code",
      "execution_count": 35,
      "metadata": {
        "id": "v2RnlHddrAal"
      },
      "outputs": [],
      "source": [
        "class Operand:\n",
        "    def __init__(self, value, _children = (), _operation='', _label = ''):\n",
        "        self.value = value\n",
        "        self._prev_ops = set(_children)\n",
        "        self._operation = _operation\n",
        "        self._label = _label\n",
        "    \n",
        "    def __repr__(self):\n",
        "        return f\"Variable(value={self.value})\"\n",
        "\n",
        "    # adding two operands\n",
        "    def __add__(self, other):\n",
        "        addition = Operand(self.value + other.value, (self, other), '+')\n",
        "        return addition\n",
        "\n",
        "    # subtracting two operands\n",
        "\n",
        "    # multiplying two operands\n",
        "    def __mul__(self, other):\n",
        "        product = Operand(self.value * other.value, (self, other), '*')\n",
        "        return product\n",
        "\n",
        "    # dividing two operands\n"
      ]
    },
    {
      "cell_type": "code",
      "execution_count": 62,
      "metadata": {},
      "outputs": [
        {
          "data": {
            "text/plain": [
              "Variable(value=6.0)"
            ]
          },
          "execution_count": 62,
          "metadata": {},
          "output_type": "execute_result"
        }
      ],
      "source": [
        "a = Operand(2.0, _label='a')\n",
        "b = Operand(3.0, _label='b')\n",
        "c = Operand(4.0, _label='c')\n",
        "d = a*b\n",
        "d._label = 'd'\n",
        "e = d + c\n",
        "e._label='e'\n",
        "f = Operand(-4.0, _label='f')\n",
        "L = e + f; L._label='L'\n",
        "L\n",
        "# e, e._prev_ops, e._operation"
      ]
    },
    {
      "cell_type": "code",
      "execution_count": 26,
      "metadata": {},
      "outputs": [],
      "source": [
        "from graphviz import Digraph\n",
        "# https://stackoverflow.com/questions/46182603/graphviz-not-running-in-jupyter-notebook-python-3-6"
      ]
    },
    {
      "cell_type": "code",
      "execution_count": 56,
      "metadata": {},
      "outputs": [],
      "source": [
        "def trace(root):\n",
        "    nodes = set()\n",
        "    edges = set()\n",
        "    def build_graph(node):\n",
        "        if node not in nodes:\n",
        "            nodes.add(node)\n",
        "            for child in node._prev_ops:\n",
        "                edges.add((child, node))\n",
        "                build_graph(child)\n",
        "    build_graph(root)\n",
        "    return nodes, edges\n",
        "\n",
        "def draw_dot(root):\n",
        "    dot = Digraph(format='svg', graph_attr={'rankdir': 'LR'})\n",
        "    nodes, edges = trace(root)\n",
        "    for node in nodes:\n",
        "        nid = str(id(node))\n",
        "        dot.node(name=nid, label = \"{%s | value %.4f }\" % ( node._label, node.value), shape='record')\n",
        "        if node._operation:\n",
        "            dot.node(name=nid + node._operation, label=node._operation)\n",
        "            dot.edge(nid + node._operation, nid)\n",
        "    \n",
        "    for e1, e2 in edges:\n",
        "        dot.edge(str(id(e1)), str(id(e2)) + e2._operation)\n",
        "    \n",
        "    return dot"
      ]
    },
    {
      "cell_type": "code",
      "execution_count": 63,
      "metadata": {},
      "outputs": [
        {
          "data": {
            "image/svg+xml": "<?xml version=\"1.0\" encoding=\"UTF-8\" standalone=\"no\"?>\n<!DOCTYPE svg PUBLIC \"-//W3C//DTD SVG 1.1//EN\"\n \"http://www.w3.org/Graphics/SVG/1.1/DTD/svg11.dtd\">\n<!-- Generated by graphviz version 2.50.0 (0)\n -->\n<!-- Pages: 1 -->\n<svg width=\"835pt\" height=\"154pt\"\n viewBox=\"0.00 0.00 835.00 154.00\" xmlns=\"http://www.w3.org/2000/svg\" xmlns:xlink=\"http://www.w3.org/1999/xlink\">\n<g id=\"graph0\" class=\"graph\" transform=\"scale(1 1) rotate(0) translate(4 150)\">\n<polygon fill=\"white\" stroke=\"transparent\" points=\"-4,4 -4,-150 831,-150 831,4 -4,4\"/>\n<!-- 4551182336 -->\n<g id=\"node1\" class=\"node\">\n<title>4551182336</title>\n<polygon fill=\"none\" stroke=\"black\" points=\"474,-109.5 474,-145.5 587,-145.5 587,-109.5 474,-109.5\"/>\n<text text-anchor=\"middle\" x=\"484.5\" y=\"-123.8\" font-family=\"Times,serif\" font-size=\"14.00\">f</text>\n<polyline fill=\"none\" stroke=\"black\" points=\"495,-109.5 495,-145.5 \"/>\n<text text-anchor=\"middle\" x=\"541\" y=\"-123.8\" font-family=\"Times,serif\" font-size=\"14.00\">value &#45;4.0000</text>\n</g>\n<!-- 4551193808+ -->\n<g id=\"node5\" class=\"node\">\n<title>4551193808+</title>\n<ellipse fill=\"none\" stroke=\"black\" cx=\"652\" cy=\"-99.5\" rx=\"27\" ry=\"18\"/>\n<text text-anchor=\"middle\" x=\"652\" y=\"-95.8\" font-family=\"Times,serif\" font-size=\"14.00\">+</text>\n</g>\n<!-- 4551182336&#45;&gt;4551193808+ -->\n<g id=\"edge4\" class=\"edge\">\n<title>4551182336&#45;&gt;4551193808+</title>\n<path fill=\"none\" stroke=\"black\" d=\"M587.05,-114.48C597.06,-112.14 607.23,-109.76 616.42,-107.6\"/>\n<polygon fill=\"black\" stroke=\"black\" points=\"617.39,-110.97 626.33,-105.28 615.79,-104.16 617.39,-110.97\"/>\n</g>\n<!-- 4551195728 -->\n<g id=\"node2\" class=\"node\">\n<title>4551195728</title>\n<polygon fill=\"none\" stroke=\"black\" points=\"236,-82.5 236,-118.5 346,-118.5 346,-82.5 236,-82.5\"/>\n<text text-anchor=\"middle\" x=\"247.5\" y=\"-96.8\" font-family=\"Times,serif\" font-size=\"14.00\">c</text>\n<polyline fill=\"none\" stroke=\"black\" points=\"259,-82.5 259,-118.5 \"/>\n<text text-anchor=\"middle\" x=\"302.5\" y=\"-96.8\" font-family=\"Times,serif\" font-size=\"14.00\">value 4.0000</text>\n</g>\n<!-- 4551189488+ -->\n<g id=\"node10\" class=\"node\">\n<title>4551189488+</title>\n<ellipse fill=\"none\" stroke=\"black\" cx=\"409\" cy=\"-72.5\" rx=\"27\" ry=\"18\"/>\n<text text-anchor=\"middle\" x=\"409\" y=\"-68.8\" font-family=\"Times,serif\" font-size=\"14.00\">+</text>\n</g>\n<!-- 4551195728&#45;&gt;4551189488+ -->\n<g id=\"edge5\" class=\"edge\">\n<title>4551195728&#45;&gt;4551189488+</title>\n<path fill=\"none\" stroke=\"black\" d=\"M346.26,-87.4C355.49,-85.18 364.84,-82.92 373.37,-80.86\"/>\n<polygon fill=\"black\" stroke=\"black\" points=\"374.42,-84.21 383.32,-78.46 372.78,-77.4 374.42,-84.21\"/>\n</g>\n<!-- 4551181904 -->\n<g id=\"node3\" class=\"node\">\n<title>4551181904</title>\n<polygon fill=\"none\" stroke=\"black\" points=\"0,-55.5 0,-91.5 110,-91.5 110,-55.5 0,-55.5\"/>\n<text text-anchor=\"middle\" x=\"11.5\" y=\"-69.8\" font-family=\"Times,serif\" font-size=\"14.00\">a</text>\n<polyline fill=\"none\" stroke=\"black\" points=\"23,-55.5 23,-91.5 \"/>\n<text text-anchor=\"middle\" x=\"66.5\" y=\"-69.8\" font-family=\"Times,serif\" font-size=\"14.00\">value 2.0000</text>\n</g>\n<!-- 4551192800* -->\n<g id=\"node7\" class=\"node\">\n<title>4551192800*</title>\n<ellipse fill=\"none\" stroke=\"black\" cx=\"173\" cy=\"-45.5\" rx=\"27\" ry=\"18\"/>\n<text text-anchor=\"middle\" x=\"173\" y=\"-41.8\" font-family=\"Times,serif\" font-size=\"14.00\">*</text>\n</g>\n<!-- 4551181904&#45;&gt;4551192800* -->\n<g id=\"edge7\" class=\"edge\">\n<title>4551181904&#45;&gt;4551192800*</title>\n<path fill=\"none\" stroke=\"black\" d=\"M110.26,-60.4C119.49,-58.18 128.84,-55.92 137.37,-53.86\"/>\n<polygon fill=\"black\" stroke=\"black\" points=\"138.42,-57.21 147.32,-51.46 136.78,-50.4 138.42,-57.21\"/>\n</g>\n<!-- 4551193808 -->\n<g id=\"node4\" class=\"node\">\n<title>4551193808</title>\n<polygon fill=\"none\" stroke=\"black\" points=\"715,-81.5 715,-117.5 827,-117.5 827,-81.5 715,-81.5\"/>\n<text text-anchor=\"middle\" x=\"727.5\" y=\"-95.8\" font-family=\"Times,serif\" font-size=\"14.00\">L</text>\n<polyline fill=\"none\" stroke=\"black\" points=\"740,-81.5 740,-117.5 \"/>\n<text text-anchor=\"middle\" x=\"783.5\" y=\"-95.8\" font-family=\"Times,serif\" font-size=\"14.00\">value 6.0000</text>\n</g>\n<!-- 4551193808+&#45;&gt;4551193808 -->\n<g id=\"edge1\" class=\"edge\">\n<title>4551193808+&#45;&gt;4551193808</title>\n<path fill=\"none\" stroke=\"black\" d=\"M679.26,-99.5C686.89,-99.5 695.6,-99.5 704.52,-99.5\"/>\n<polygon fill=\"black\" stroke=\"black\" points=\"704.64,-103 714.64,-99.5 704.64,-96 704.64,-103\"/>\n</g>\n<!-- 4551192800 -->\n<g id=\"node6\" class=\"node\">\n<title>4551192800</title>\n<polygon fill=\"none\" stroke=\"black\" points=\"236,-27.5 236,-63.5 346,-63.5 346,-27.5 236,-27.5\"/>\n<text text-anchor=\"middle\" x=\"247.5\" y=\"-41.8\" font-family=\"Times,serif\" font-size=\"14.00\">d</text>\n<polyline fill=\"none\" stroke=\"black\" points=\"259,-27.5 259,-63.5 \"/>\n<text text-anchor=\"middle\" x=\"302.5\" y=\"-41.8\" font-family=\"Times,serif\" font-size=\"14.00\">value 6.0000</text>\n</g>\n<!-- 4551192800&#45;&gt;4551189488+ -->\n<g id=\"edge8\" class=\"edge\">\n<title>4551192800&#45;&gt;4551189488+</title>\n<path fill=\"none\" stroke=\"black\" d=\"M346.26,-58.13C355.49,-60.28 364.84,-62.45 373.37,-64.44\"/>\n<polygon fill=\"black\" stroke=\"black\" points=\"372.79,-67.9 383.32,-66.76 374.38,-61.08 372.79,-67.9\"/>\n</g>\n<!-- 4551192800*&#45;&gt;4551192800 -->\n<g id=\"edge2\" class=\"edge\">\n<title>4551192800*&#45;&gt;4551192800</title>\n<path fill=\"none\" stroke=\"black\" d=\"M200.03,-45.5C207.7,-45.5 216.45,-45.5 225.42,-45.5\"/>\n<polygon fill=\"black\" stroke=\"black\" points=\"225.58,-49 235.58,-45.5 225.58,-42 225.58,-49\"/>\n</g>\n<!-- 4551184736 -->\n<g id=\"node8\" class=\"node\">\n<title>4551184736</title>\n<polygon fill=\"none\" stroke=\"black\" points=\"0,-0.5 0,-36.5 110,-36.5 110,-0.5 0,-0.5\"/>\n<text text-anchor=\"middle\" x=\"11.5\" y=\"-14.8\" font-family=\"Times,serif\" font-size=\"14.00\">b</text>\n<polyline fill=\"none\" stroke=\"black\" points=\"23,-0.5 23,-36.5 \"/>\n<text text-anchor=\"middle\" x=\"66.5\" y=\"-14.8\" font-family=\"Times,serif\" font-size=\"14.00\">value 3.0000</text>\n</g>\n<!-- 4551184736&#45;&gt;4551192800* -->\n<g id=\"edge6\" class=\"edge\">\n<title>4551184736&#45;&gt;4551192800*</title>\n<path fill=\"none\" stroke=\"black\" d=\"M110.26,-31.13C119.49,-33.28 128.84,-35.45 137.37,-37.44\"/>\n<polygon fill=\"black\" stroke=\"black\" points=\"136.79,-40.9 147.32,-39.76 138.38,-34.08 136.79,-40.9\"/>\n</g>\n<!-- 4551189488 -->\n<g id=\"node9\" class=\"node\">\n<title>4551189488</title>\n<polygon fill=\"none\" stroke=\"black\" points=\"472,-54.5 472,-90.5 589,-90.5 589,-54.5 472,-54.5\"/>\n<text text-anchor=\"middle\" x=\"483.5\" y=\"-68.8\" font-family=\"Times,serif\" font-size=\"14.00\">e</text>\n<polyline fill=\"none\" stroke=\"black\" points=\"495,-54.5 495,-90.5 \"/>\n<text text-anchor=\"middle\" x=\"542\" y=\"-68.8\" font-family=\"Times,serif\" font-size=\"14.00\">value 10.0000</text>\n</g>\n<!-- 4551189488&#45;&gt;4551193808+ -->\n<g id=\"edge9\" class=\"edge\">\n<title>4551189488&#45;&gt;4551193808+</title>\n<path fill=\"none\" stroke=\"black\" d=\"M589.15,-85.53C598.4,-87.62 607.72,-89.72 616.21,-91.64\"/>\n<polygon fill=\"black\" stroke=\"black\" points=\"615.58,-95.09 626.11,-93.88 617.13,-88.26 615.58,-95.09\"/>\n</g>\n<!-- 4551189488+&#45;&gt;4551189488 -->\n<g id=\"edge3\" class=\"edge\">\n<title>4551189488+&#45;&gt;4551189488</title>\n<path fill=\"none\" stroke=\"black\" d=\"M436.22,-72.5C443.91,-72.5 452.69,-72.5 461.73,-72.5\"/>\n<polygon fill=\"black\" stroke=\"black\" points=\"461.98,-76 471.98,-72.5 461.98,-69 461.98,-76\"/>\n</g>\n</g>\n</svg>\n",
            "text/plain": [
              "<graphviz.graphs.Digraph at 0x10f458860>"
            ]
          },
          "execution_count": 63,
          "metadata": {},
          "output_type": "execute_result"
        }
      ],
      "source": [
        "draw_dot(L)"
      ]
    },
    {
      "cell_type": "code",
      "execution_count": null,
      "metadata": {},
      "outputs": [],
      "source": []
    },
    {
      "cell_type": "markdown",
      "metadata": {
        "id": "4nWGUm_7VVI9"
      },
      "source": [
        " __Reference: [Neural Networks: Zero to Hero by **Anderj Karpathy**](https://youtu.be/VMj-3S1tku0?si=nt0sYb9Rs2g4qApr)__"
      ]
    }
  ],
  "metadata": {
    "colab": {
      "provenance": []
    },
    "kernelspec": {
      "display_name": "Python 3.12.4 ('genAI')",
      "language": "python",
      "name": "python3"
    },
    "language_info": {
      "codemirror_mode": {
        "name": "ipython",
        "version": 3
      },
      "file_extension": ".py",
      "mimetype": "text/x-python",
      "name": "python",
      "nbconvert_exporter": "python",
      "pygments_lexer": "ipython3",
      "version": "3.12.4"
    },
    "vscode": {
      "interpreter": {
        "hash": "cdc7a2fc295da552623d6189d2d73e88b479f44ab32ab05a73d51a9a8b2f91f6"
      }
    }
  },
  "nbformat": 4,
  "nbformat_minor": 0
}
