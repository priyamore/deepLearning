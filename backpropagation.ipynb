{
  "cells": [
    {
      "cell_type": "markdown",
      "metadata": {
        "id": "cDDdu3vDUlY7"
      },
      "source": [
        "# **Backpropagation from Scratch**"
      ]
    },
    {
      "cell_type": "code",
      "execution_count": 1,
      "metadata": {
        "id": "4e6ox9F1VE68"
      },
      "outputs": [],
      "source": [
        "import math\n",
        "import numpy as np\n",
        "import matplotlib.pyplot as plt\n",
        "%matplotlib inline"
      ]
    },
    {
      "cell_type": "markdown",
      "metadata": {
        "id": "U80CuZHWarjz"
      },
      "source": [
        "#Derivation is at the heart of backpropagation\n",
        "Derivation helps us undrstand how a function behaves if the input is modified.Given a function f(x), how does the function behave if input x is modified with h i.e x+h.\n",
        "\n",
        "In case of backpropagation, the inputs are weights and biases. We want to understand what happens if small changes(h) are made to x(weights and biases)"
      ]
    },
    {
      "cell_type": "markdown",
      "metadata": {
        "id": "vo3WSC1Oh9Ee"
      },
      "source": [
        "# Now lets take a simple equation f(x) to understand how the function behaviour changes upon increasing it with a small value"
      ]
    },
    {
      "cell_type": "code",
      "execution_count": 2,
      "metadata": {
        "id": "e-h9SssAZFkx"
      },
      "outputs": [],
      "source": [
        "def f(x):\n",
        "  return 3*x**2 - 4*x + 5\n",
        "  # return 4*x**2 - 5*x + 6"
      ]
    },
    {
      "cell_type": "code",
      "execution_count": 3,
      "metadata": {
        "colab": {
          "base_uri": "https://localhost:8080/"
        },
        "id": "VBpDawwghdvb",
        "outputId": "47a35827-850a-4b49-e3d2-a9494a732c6b"
      },
      "outputs": [
        {
          "data": {
            "text/plain": [
              "20.0"
            ]
          },
          "execution_count": 3,
          "metadata": {},
          "output_type": "execute_result"
        }
      ],
      "source": [
        "f(3.0)"
      ]
    },
    {
      "cell_type": "code",
      "execution_count": 4,
      "metadata": {
        "colab": {
          "base_uri": "https://localhost:8080/"
        },
        "id": "xSmCyC1TiP6p",
        "outputId": "986beb23-cdf6-47a5-d01d-71351c7fc78f"
      },
      "outputs": [
        {
          "data": {
            "text/plain": [
              "array([100.  ,  83.75,  69.  ,  55.75,  44.  ,  33.75,  25.  ,  17.75,\n",
              "        12.  ,   7.75,   5.  ,   3.75,   4.  ,   5.75,   9.  ,  13.75,\n",
              "        20.  ,  27.75,  37.  ,  47.75])"
            ]
          },
          "execution_count": 4,
          "metadata": {},
          "output_type": "execute_result"
        }
      ],
      "source": [
        "xs = np.arange(-5, 5, 0.5)\n",
        "ys = f(xs)\n",
        "ys"
      ]
    },
    {
      "cell_type": "code",
      "execution_count": 5,
      "metadata": {
        "colab": {
          "base_uri": "https://localhost:8080/",
          "height": 445
        },
        "id": "q-4wUUsSlUH5",
        "outputId": "9fb2167a-e7a0-47a0-9b4f-93ed4078ca74"
      },
      "outputs": [
        {
          "data": {
            "text/plain": [
              "[<matplotlib.lines.Line2D at 0x10f3c7df0>]"
            ]
          },
          "execution_count": 5,
          "metadata": {},
          "output_type": "execute_result"
        },
        {
          "data": {
            "image/png": "[encoded data removed]",
            "text/plain": [
              "<Figure size 640x480 with 1 Axes>"
            ]
          },
          "metadata": {},
          "output_type": "display_data"
        }
      ],
      "source": [
        "plt.plot(xs, ys)"
      ]
    },
    {
      "cell_type": "code",
      "execution_count": 6,
      "metadata": {
        "colab": {
          "base_uri": "https://localhost:8080/"
        },
        "id": "HMffO6UTnQMK",
        "outputId": "1808127c-a3f9-4bf3-efa1-f3014a20e7ed"
      },
      "outputs": [
        {
          "data": {
            "text/plain": [
              "20.0001400003"
            ]
          },
          "execution_count": 6,
          "metadata": {},
          "output_type": "execute_result"
        }
      ],
      "source": [
        "x = 3.0\n",
        "\n",
        "# to get a more accurate slope, coverge h towards 0\n",
        "h = 0.00001\n",
        "f(x+h)"
      ]
    },
    {
      "cell_type": "markdown",
      "metadata": {
        "id": "iDW5v-r4nmM0"
      },
      "source": [
        "Now lets get the slope(f(x+h)-f(x))/h"
      ]
    },
    {
      "cell_type": "code",
      "execution_count": 7,
      "metadata": {
        "colab": {
          "base_uri": "https://localhost:8080/"
        },
        "id": "iPQ1pUgHnfR5",
        "outputId": "781faf1e-4ed5-45dc-a9b7-9907d697054e"
      },
      "outputs": [
        {
          "data": {
            "text/plain": [
              "14.00003000000538"
            ]
          },
          "execution_count": 7,
          "metadata": {},
          "output_type": "execute_result"
        }
      ],
      "source": [
        "(f(x+h)-f(x))/h"
      ]
    },
    {
      "cell_type": "markdown",
      "metadata": {
        "id": "vU800rJ4o1L3"
      },
      "source": [
        "#one more example, a bit more complex"
      ]
    },
    {
      "cell_type": "code",
      "execution_count": 8,
      "metadata": {
        "colab": {
          "base_uri": "https://localhost:8080/"
        },
        "id": "RrvY6pG6oM4c",
        "outputId": "4d51a2ba-8bcf-4f23-e377-fbdea788bba7"
      },
      "outputs": [
        {
          "name": "stdout",
          "output_type": "stream",
          "text": [
            "4.0\n"
          ]
        }
      ],
      "source": [
        "a = 2.0\n",
        "b = -3.0\n",
        "c = 10.0\n",
        "\n",
        "# equation\n",
        "d = a*b + c\n",
        "\n",
        "print(d)"
      ]
    },
    {
      "cell_type": "code",
      "execution_count": 9,
      "metadata": {
        "colab": {
          "base_uri": "https://localhost:8080/"
        },
        "id": "lXlBaq6Up2wa",
        "outputId": "75e33c72-a30f-4b37-e233-74c248da197f"
      },
      "outputs": [
        {
          "name": "stdout",
          "output_type": "stream",
          "text": [
            "slope when a is increased:  -3.000000000064062\n",
            "slope when b is increased:  2.0000000000131024\n",
            "slope when c is increased:  0.9999999999621422\n"
          ]
        }
      ],
      "source": [
        "# observe the values when a is increased\n",
        "\n",
        "def f1(a, b, c):\n",
        "  return a*b + c\n",
        "\n",
        "h = 0.00001\n",
        "\n",
        "a = 2.0\n",
        "b = -3.0\n",
        "c = 10.0\n",
        "\n",
        "d1 = f1(a, b, c)\n",
        "d2 = f1(a+h, b, c)\n",
        "\n",
        "# slope when a is increased by h\n",
        "print(\"slope when a is increased: \",(d2-d1)/h)\n",
        "\n",
        "d2 = f1(a, b+h, c)\n",
        "# slope when b is increased by h\n",
        "print(\"slope when b is increased: \",(d2-d1)/h)\n",
        "\n",
        "d2 = f1(a, b, c+h)\n",
        "# slope when c is increased by h\n",
        "print(\"slope when c is increased: \",(d2-d1)/h)"
      ]
    },
    {
      "cell_type": "markdown",
      "metadata": {
        "id": "tKla2s0GtJUO"
      },
      "source": [
        "Neural Networks have massive expressions so lets start with creating a data structure to maintain these expressions"
      ]
    },
    {
      "cell_type": "code",
      "execution_count": 10,
      "metadata": {
        "id": "v2RnlHddrAal"
      },
      "outputs": [],
      "source": [
        "class Operand:\n",
        "    def __init__(self, value, _children = (), _operation=''):\n",
        "        self.value = value\n",
        "        self._prev_ops = set(_children)\n",
        "        self._operation = _operation\n",
        "    \n",
        "    def __repr__(self):\n",
        "        return f\"Variable(value={self.value})\"\n",
        "\n",
        "    # adding two operands\n",
        "    def __add__(self, other):\n",
        "        addition = Operand(self.value + other.value, (self, other), '+')\n",
        "        return addition\n",
        "\n",
        "    # subtracting two operands\n",
        "\n",
        "    # multiplying two operands\n",
        "    def __mul__(self, other):\n",
        "        product = Operand(self.value * other.value, (self, other), '*')\n",
        "        return product\n",
        "\n",
        "    # dividing two operands\n"
      ]
    },
    {
      "cell_type": "code",
      "execution_count": 11,
      "metadata": {},
      "outputs": [
        {
          "name": "stdout",
          "output_type": "stream",
          "text": [
            "Variable(value=5.0)\n"
          ]
        },
        {
          "data": {
            "text/plain": [
              "(Variable(value=10.0), {Variable(value=4.0), Variable(value=6.0)}, '+')"
            ]
          },
          "execution_count": 11,
          "metadata": {},
          "output_type": "execute_result"
        }
      ],
      "source": [
        "a = Operand(2.0)\n",
        "b = Operand(3.0)\n",
        "c = Operand(4.0)\n",
        "d = a*b + c\n",
        "print(a + b)\n",
        "\n",
        "d, d._prev_ops, d._operation"
      ]
    },
    {
      "cell_type": "markdown",
      "metadata": {
        "id": "4nWGUm_7VVI9"
      },
      "source": [
        " __Reference: [Neural Networks: Zero to Hero by **Anderj Karpathy**](https://youtu.be/VMj-3S1tku0?si=nt0sYb9Rs2g4qApr)__"
      ]
    }
  ],
  "metadata": {
    "colab": {
      "provenance": []
    },
    "kernelspec": {
      "display_name": "Python 3.10.10 ('tensorflow')",
      "language": "python",
      "name": "python3"
    },
    "language_info": {
      "codemirror_mode": {
        "name": "ipython",
        "version": 3
      },
      "file_extension": ".py",
      "mimetype": "text/x-python",
      "name": "python",
      "nbconvert_exporter": "python",
      "pygments_lexer": "ipython3",
      "version": "3.10.10"
    },
    "vscode": {
      "interpreter": {
        "hash": "b464fd3d2d26241ae728b2e4c2f876844e54ce3aaba961b0aedf60aaafdf5431"
      }
    }
  },
  "nbformat": 4,
  "nbformat_minor": 0
}
